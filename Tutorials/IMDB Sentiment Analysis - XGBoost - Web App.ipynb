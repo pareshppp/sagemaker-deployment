{
 "cells": [
  {
   "cell_type": "markdown",
   "metadata": {},
   "source": [
    "# Sentiment Analysis Web App\n",
    "\n",
    "_Deep Learning Nanodegree Program | Deployment_\n",
    "\n",
    "---\n",
    "\n",
    "In this notebook we will use Amazon's SageMaker service to construct a random tree model to predict the sentiment of a movie review. In addition, we will deploy this model to an endpoint and construct a very simple web app which will interact with our model's deployed endpoint.\n",
    "\n",
    "## General Outline\n",
    "\n",
    "Typically, when using a notebook instance with SageMaker, you will proceed through the following steps. Of course, not every step will need to be done with each project. Also, there is quite a lot of room for variation in many of the steps, as you will see throughout these lessons.\n",
    "\n",
    "1. Download or otherwise retrieve the data.\n",
    "2. Process / Prepare the data.\n",
    "3. Upload the processed data to S3.\n",
    "4. Train a chosen model.\n",
    "5. Test the trained model (typically using a batch transform job).\n",
    "6. Deploy the trained model.\n",
    "7. Use the deployed model.\n",
    "\n",
    "In this notebook we will progress through each of the steps above. We will also see that the final step, using the deployed model, can be quite challenging."
   ]
  },
  {
   "cell_type": "markdown",
   "metadata": {},
   "source": [
    "## Step 1: Downloading the data\n",
    "\n",
    "The dataset we are going to use is very popular among researchers in Natural Language Processing, usually referred to as the [IMDb dataset](http://ai.stanford.edu/~amaas/data/sentiment/). It consists of movie reviews from the website [imdb.com](http://www.imdb.com/), each labeled as either '**pos**itive', if the reviewer enjoyed the film, or '**neg**ative' otherwise.\n",
    "\n",
    "> Maas, Andrew L., et al. [Learning Word Vectors for Sentiment Analysis](http://ai.stanford.edu/~amaas/data/sentiment/). In _Proceedings of the 49th Annual Meeting of the Association for Computational Linguistics: Human Language Technologies_. Association for Computational Linguistics, 2011.\n",
    "\n",
    "We begin by using some Jupyter Notebook magic to download and extract the dataset."
   ]
  },
  {
   "cell_type": "code",
   "execution_count": 1,
   "metadata": {},
   "outputs": [
    {
     "name": "stdout",
     "output_type": "stream",
     "text": [
      "mkdir: cannot create directory ‘../data’: File exists\n",
      "--2019-01-20 15:01:45--  http://ai.stanford.edu/~amaas/data/sentiment/aclImdb_v1.tar.gz\n",
      "Resolving ai.stanford.edu (ai.stanford.edu)... 171.64.68.10\n",
      "Connecting to ai.stanford.edu (ai.stanford.edu)|171.64.68.10|:80... connected.\n",
      "HTTP request sent, awaiting response... 200 OK\n",
      "Length: 84125825 (80M) [application/x-gzip]\n",
      "Saving to: ‘../data/aclImdb_v1.tar.gz’\n",
      "\n",
      "../data/aclImdb_v1. 100%[===================>]  80.23M  5.97MB/s    in 20s     \n",
      "\n",
      "2019-01-20 15:02:05 (4.07 MB/s) - ‘../data/aclImdb_v1.tar.gz’ saved [84125825/84125825]\n",
      "\n"
     ]
    }
   ],
   "source": [
    "%mkdir ../data\n",
    "!wget -O ../data/aclImdb_v1.tar.gz http://ai.stanford.edu/~amaas/data/sentiment/aclImdb_v1.tar.gz\n",
    "!tar -zxf ../data/aclImdb_v1.tar.gz -C ../data"
   ]
  },
  {
   "cell_type": "markdown",
   "metadata": {},
   "source": [
    "## Step 2: Preparing and Processing the data\n",
    "\n",
    "The data we have downloaded is split into various files, each of which contains a single review. It will be much easier going forward if we combine these individual files into two large files, one for training and one for testing."
   ]
  },
  {
   "cell_type": "code",
   "execution_count": 2,
   "metadata": {},
   "outputs": [],
   "source": [
    "import os\n",
    "import glob\n",
    "\n",
    "def read_imdb_data(data_dir='../data/aclImdb'):\n",
    "    data = {}\n",
    "    labels = {}\n",
    "    \n",
    "    for data_type in ['train', 'test']:\n",
    "        data[data_type] = {}\n",
    "        labels[data_type] = {}\n",
    "        \n",
    "        for sentiment in ['pos', 'neg']:\n",
    "            data[data_type][sentiment] = []\n",
    "            labels[data_type][sentiment] = []\n",
    "            \n",
    "            path = os.path.join(data_dir, data_type, sentiment, '*.txt')\n",
    "            files = glob.glob(path)\n",
    "            \n",
    "            for f in files:\n",
    "                with open(f) as review:\n",
    "                    data[data_type][sentiment].append(review.read())\n",
    "                    # Here we represent a positive review by '1' and a negative review by '0'\n",
    "                    labels[data_type][sentiment].append(1 if sentiment == 'pos' else 0)\n",
    "                    \n",
    "            assert len(data[data_type][sentiment]) == len(labels[data_type][sentiment]), \\\n",
    "                    \"{}/{} data size does not match labels size\".format(data_type, sentiment)\n",
    "                \n",
    "    return data, labels"
   ]
  },
  {
   "cell_type": "code",
   "execution_count": 3,
   "metadata": {},
   "outputs": [
    {
     "name": "stdout",
     "output_type": "stream",
     "text": [
      "IMDB reviews: train = 12500 pos / 12500 neg, test = 12500 pos / 12500 neg\n"
     ]
    }
   ],
   "source": [
    "data, labels = read_imdb_data()\n",
    "print(\"IMDB reviews: train = {} pos / {} neg, test = {} pos / {} neg\".format(\n",
    "            len(data['train']['pos']), len(data['train']['neg']),\n",
    "            len(data['test']['pos']), len(data['test']['neg'])))"
   ]
  },
  {
   "cell_type": "code",
   "execution_count": 4,
   "metadata": {},
   "outputs": [],
   "source": [
    "from sklearn.utils import shuffle\n",
    "\n",
    "def prepare_imdb_data(data, labels):\n",
    "    \"\"\"Prepare training and test sets from IMDb movie reviews.\"\"\"\n",
    "    \n",
    "    #Combine positive and negative reviews and labels\n",
    "    data_train = data['train']['pos'] + data['train']['neg']\n",
    "    data_test = data['test']['pos'] + data['test']['neg']\n",
    "    labels_train = labels['train']['pos'] + labels['train']['neg']\n",
    "    labels_test = labels['test']['pos'] + labels['test']['neg']\n",
    "    \n",
    "    #Shuffle reviews and corresponding labels within training and test sets\n",
    "    data_train, labels_train = shuffle(data_train, labels_train)\n",
    "    data_test, labels_test = shuffle(data_test, labels_test)\n",
    "    \n",
    "    # Return a unified training data, test data, training labels, test labets\n",
    "    return data_train, data_test, labels_train, labels_test"
   ]
  },
  {
   "cell_type": "code",
   "execution_count": 5,
   "metadata": {},
   "outputs": [
    {
     "name": "stdout",
     "output_type": "stream",
     "text": [
      "IMDb reviews (combined): train = 25000, test = 25000\n"
     ]
    }
   ],
   "source": [
    "train_X, test_X, train_y, test_y = prepare_imdb_data(data, labels)\n",
    "print(\"IMDb reviews (combined): train = {}, test = {}\".format(len(train_X), len(test_X)))"
   ]
  },
  {
   "cell_type": "code",
   "execution_count": 6,
   "metadata": {},
   "outputs": [
    {
     "data": {
      "text/plain": [
       "\"I see where a few people involved in this debacle wrote reviews to share their side of the story, and I thought what they wrote was helpful in understanding it. The fact that they basically came up with excuses -- rewrites, budget constraints, production formats etc -- simply underlines how bad this movie is. And my criticisms in panning it are not personally directed but simply a warning that this one doesn't make the cut.<br /><br />It's watchable, but barely so. There are plot holes in every corner, the dialogue borders on the ridiculous, and the ending is telegraphed a mile away. The modestly interesting feature of a hologram interacting with a recon team get drowned in silly dialogue like who makes a meal in the midst of what is supposed to be a tense and deadly encounter with an unknown enemy. Would ya wrassle us up some Hamburger Helper Sally, between us getting killed by these automated carpet sweepers? Apparently this elite team equipped with the latest gizmos and red plastic tubed wonder armor has no access to MREs. Once they get into the last rooms they treat the place more like a four star motel than a deadly encounter zone.<br /><br />The rationale for the encounter with the fearsome Rook is that it can't be killed single handedly. Yet only one scene ago, the hero making that case abandoned King to do exactly that. Huh? Vivian Woo was attractive and hands down the best acted character in the movie. But that's not saying much.\""
      ]
     },
     "execution_count": 6,
     "metadata": {},
     "output_type": "execute_result"
    }
   ],
   "source": [
    "train_X[100]"
   ]
  },
  {
   "cell_type": "markdown",
   "metadata": {},
   "source": [
    "## Processing the data\n",
    "\n",
    "Now that we have our training and testing datasets merged and ready to use, we need to start processing the raw data into something that will be useable by our machine learning algorithm. To begin with, we remove any html formatting and any non-alpha numeric characters that may appear in the reviews. We will do this in a very simplistic way using Python's regular expression module. We will discuss the reason for this rather simplistic pre-processing later on."
   ]
  },
  {
   "cell_type": "code",
   "execution_count": 7,
   "metadata": {},
   "outputs": [],
   "source": [
    "import re\n",
    "\n",
    "REPLACE_NO_SPACE = re.compile(\"(\\.)|(\\;)|(\\:)|(\\!)|(\\')|(\\?)|(\\,)|(\\\")|(\\()|(\\))|(\\[)|(\\])\")\n",
    "REPLACE_WITH_SPACE = re.compile(\"(<br\\s*/><br\\s*/>)|(\\-)|(\\/)\")\n",
    "\n",
    "def review_to_words(review):\n",
    "    words = REPLACE_NO_SPACE.sub(\"\", review.lower())\n",
    "    words = REPLACE_WITH_SPACE.sub(\" \", words)\n",
    "    return words"
   ]
  },
  {
   "cell_type": "code",
   "execution_count": 8,
   "metadata": {},
   "outputs": [
    {
     "data": {
      "text/plain": [
       "'i see where a few people involved in this debacle wrote reviews to share their side of the story and i thought what they wrote was helpful in understanding it the fact that they basically came up with excuses    rewrites budget constraints production formats etc    simply underlines how bad this movie is and my criticisms in panning it are not personally directed but simply a warning that this one doesnt make the cut its watchable but barely so there are plot holes in every corner the dialogue borders on the ridiculous and the ending is telegraphed a mile away the modestly interesting feature of a hologram interacting with a recon team get drowned in silly dialogue like who makes a meal in the midst of what is supposed to be a tense and deadly encounter with an unknown enemy would ya wrassle us up some hamburger helper sally between us getting killed by these automated carpet sweepers apparently this elite team equipped with the latest gizmos and red plastic tubed wonder armor has no access to mres once they get into the last rooms they treat the place more like a four star motel than a deadly encounter zone the rationale for the encounter with the fearsome rook is that it cant be killed single handedly yet only one scene ago the hero making that case abandoned king to do exactly that huh vivian woo was attractive and hands down the best acted character in the movie but thats not saying much'"
      ]
     },
     "execution_count": 8,
     "metadata": {},
     "output_type": "execute_result"
    }
   ],
   "source": [
    "review_to_words(train_X[100])"
   ]
  },
  {
   "cell_type": "code",
   "execution_count": 9,
   "metadata": {},
   "outputs": [],
   "source": [
    "import pickle\n",
    "\n",
    "cache_dir = os.path.join(\"../cache\", \"sentiment_web_app\")  # where to store cache files\n",
    "os.makedirs(cache_dir, exist_ok=True)  # ensure cache directory exists\n",
    "\n",
    "def preprocess_data(data_train, data_test, labels_train, labels_test,\n",
    "                    cache_dir=cache_dir, cache_file=\"preprocessed_data.pkl\"):\n",
    "    \"\"\"Convert each review to words; read from cache if available.\"\"\"\n",
    "\n",
    "    # If cache_file is not None, try to read from it first\n",
    "    cache_data = None\n",
    "    if cache_file is not None:\n",
    "        try:\n",
    "            with open(os.path.join(cache_dir, cache_file), \"rb\") as f:\n",
    "                cache_data = pickle.load(f)\n",
    "            print(\"Read preprocessed data from cache file:\", cache_file)\n",
    "        except:\n",
    "            pass  # unable to read from cache, but that's okay\n",
    "    \n",
    "    # If cache is missing, then do the heavy lifting\n",
    "    if cache_data is None:\n",
    "        # Preprocess training and test data to obtain words for each review\n",
    "        #words_train = list(map(review_to_words, data_train))\n",
    "        #words_test = list(map(review_to_words, data_test))\n",
    "        words_train = [review_to_words(review) for review in data_train]\n",
    "        words_test = [review_to_words(review) for review in data_test]\n",
    "        \n",
    "        # Write to cache file for future runs\n",
    "        if cache_file is not None:\n",
    "            cache_data = dict(words_train=words_train, words_test=words_test,\n",
    "                              labels_train=labels_train, labels_test=labels_test)\n",
    "            with open(os.path.join(cache_dir, cache_file), \"wb\") as f:\n",
    "                pickle.dump(cache_data, f)\n",
    "            print(\"Wrote preprocessed data to cache file:\", cache_file)\n",
    "    else:\n",
    "        # Unpack data loaded from cache file\n",
    "        words_train, words_test, labels_train, labels_test = (cache_data['words_train'],\n",
    "                cache_data['words_test'], cache_data['labels_train'], cache_data['labels_test'])\n",
    "    \n",
    "    return words_train, words_test, labels_train, labels_test"
   ]
  },
  {
   "cell_type": "code",
   "execution_count": 10,
   "metadata": {},
   "outputs": [
    {
     "name": "stdout",
     "output_type": "stream",
     "text": [
      "Wrote preprocessed data to cache file: preprocessed_data.pkl\n"
     ]
    }
   ],
   "source": [
    "# Preprocess data\n",
    "train_X, test_X, train_y, test_y = preprocess_data(train_X, test_X, train_y, test_y)"
   ]
  },
  {
   "cell_type": "markdown",
   "metadata": {},
   "source": [
    "### Extract Bag-of-Words features\n",
    "\n",
    "For the model we will be implementing, rather than using the reviews directly, we are going to transform each review into a Bag-of-Words feature representation. Keep in mind that 'in the wild' we will only have access to the training set so our transformer can only use the training set to construct a representation."
   ]
  },
  {
   "cell_type": "code",
   "execution_count": 11,
   "metadata": {},
   "outputs": [],
   "source": [
    "import numpy as np\n",
    "from sklearn.feature_extraction.text import CountVectorizer\n",
    "from sklearn.externals import joblib\n",
    "# joblib is an enhanced version of pickle that is more efficient for storing NumPy arrays\n",
    "\n",
    "def extract_BoW_features(words_train, words_test, vocabulary_size=5000,\n",
    "                         cache_dir=cache_dir, cache_file=\"bow_features.pkl\"):\n",
    "    \"\"\"Extract Bag-of-Words for a given set of documents, already preprocessed into words.\"\"\"\n",
    "    \n",
    "    # If cache_file is not None, try to read from it first\n",
    "    cache_data = None\n",
    "    if cache_file is not None:\n",
    "        try:\n",
    "            with open(os.path.join(cache_dir, cache_file), \"rb\") as f:\n",
    "                cache_data = joblib.load(f)\n",
    "            print(\"Read features from cache file:\", cache_file)\n",
    "        except:\n",
    "            pass  # unable to read from cache, but that's okay\n",
    "    \n",
    "    # If cache is missing, then do the heavy lifting\n",
    "    if cache_data is None:\n",
    "        # Fit a vectorizer to training documents and use it to transform them\n",
    "        # NOTE: Training documents have already been preprocessed and tokenized into words;\n",
    "        #       pass in dummy functions to skip those steps, e.g. preprocessor=lambda x: x\n",
    "        vectorizer = CountVectorizer(max_features=vocabulary_size)\n",
    "        features_train = vectorizer.fit_transform(words_train).toarray()\n",
    "\n",
    "        # Apply the same vectorizer to transform the test documents (ignore unknown words)\n",
    "        features_test = vectorizer.transform(words_test).toarray()\n",
    "        \n",
    "        # NOTE: Remember to convert the features using .toarray() for a compact representation\n",
    "        \n",
    "        # Write to cache file for future runs (store vocabulary as well)\n",
    "        if cache_file is not None:\n",
    "            vocabulary = vectorizer.vocabulary_\n",
    "            cache_data = dict(features_train=features_train, features_test=features_test,\n",
    "                             vocabulary=vocabulary)\n",
    "            with open(os.path.join(cache_dir, cache_file), \"wb\") as f:\n",
    "                joblib.dump(cache_data, f)\n",
    "            print(\"Wrote features to cache file:\", cache_file)\n",
    "    else:\n",
    "        # Unpack data loaded from cache file\n",
    "        features_train, features_test, vocabulary = (cache_data['features_train'],\n",
    "                cache_data['features_test'], cache_data['vocabulary'])\n",
    "    \n",
    "    # Return both the extracted features as well as the vocabulary\n",
    "    return features_train, features_test, vocabulary"
   ]
  },
  {
   "cell_type": "code",
   "execution_count": 12,
   "metadata": {},
   "outputs": [
    {
     "name": "stdout",
     "output_type": "stream",
     "text": [
      "Wrote features to cache file: bow_features.pkl\n"
     ]
    }
   ],
   "source": [
    "# Extract Bag of Words features for both training and test datasets\n",
    "train_X, test_X, vocabulary = extract_BoW_features(train_X, test_X)"
   ]
  },
  {
   "cell_type": "code",
   "execution_count": 13,
   "metadata": {},
   "outputs": [
    {
     "data": {
      "text/plain": [
       "5000"
      ]
     },
     "execution_count": 13,
     "metadata": {},
     "output_type": "execute_result"
    }
   ],
   "source": [
    "len(train_X[100])"
   ]
  },
  {
   "cell_type": "markdown",
   "metadata": {},
   "source": [
    "## Step 3: Upload data to S3\n",
    "\n",
    "Now that we have created the feature representation of our training (and testing) data, it is time to start setting up and using the XGBoost classifier provided by SageMaker.\n",
    "\n",
    "### Writing the datasets\n",
    "\n",
    "The XGBoost classifier that we will be using requires the dataset to be written to a file and stored using Amazon S3. To do this, we will start by splitting the training dataset into two parts, the data we will train the model with and a validation set. Then, we will write those datasets to a file locally and then upload the files to S3. In addition, we will write the test set to a file and upload that file to S3. This is so that we can use SageMakers Batch Transform functionality to test our model once we've fit it."
   ]
  },
  {
   "cell_type": "code",
   "execution_count": 14,
   "metadata": {},
   "outputs": [],
   "source": [
    "import pandas as pd\n",
    "\n",
    "# Earlier we shuffled the training dataset so to make things simple we can just assign\n",
    "# the first 10 000 reviews to the validation set and use the remaining reviews for training.\n",
    "val_X = pd.DataFrame(train_X[:10000])\n",
    "train_X = pd.DataFrame(train_X[10000:])\n",
    "\n",
    "val_y = pd.DataFrame(train_y[:10000])\n",
    "train_y = pd.DataFrame(train_y[10000:])"
   ]
  },
  {
   "cell_type": "markdown",
   "metadata": {},
   "source": [
    "The documentation for the XGBoost algorithm in SageMaker requires that the training and validation datasets should contain no headers or index and that the label should occur first for each sample.\n",
    "\n",
    "For more information about this and other algorithms, the SageMaker developer documentation can be found on __[Amazon's website.](https://docs.aws.amazon.com/sagemaker/latest/dg/)__"
   ]
  },
  {
   "cell_type": "code",
   "execution_count": 15,
   "metadata": {},
   "outputs": [],
   "source": [
    "# First we make sure that the local directory in which we'd like to store the training and validation csv files exists.\n",
    "data_dir = '../data/sentiment_web_app'\n",
    "if not os.path.exists(data_dir):\n",
    "    os.makedirs(data_dir)"
   ]
  },
  {
   "cell_type": "code",
   "execution_count": 16,
   "metadata": {},
   "outputs": [],
   "source": [
    "pd.DataFrame(test_X).to_csv(os.path.join(data_dir, 'test.csv'), header=False, index=False)\n",
    "\n",
    "pd.concat([val_y, val_X], axis=1).to_csv(os.path.join(data_dir, 'validation.csv'), header=False, index=False)\n",
    "pd.concat([train_y, train_X], axis=1).to_csv(os.path.join(data_dir, 'train.csv'), header=False, index=False)"
   ]
  },
  {
   "cell_type": "code",
   "execution_count": 17,
   "metadata": {},
   "outputs": [],
   "source": [
    "# To save a bit of memory we can set text_X, train_X, val_X, train_y and val_y to None.\n",
    "\n",
    "test_X = train_X = val_X = train_y = val_y = None"
   ]
  },
  {
   "cell_type": "markdown",
   "metadata": {},
   "source": [
    "### Uploading Training / Validation files to S3\n",
    "\n",
    "Amazon's S3 service allows us to store files that can be accessed by both the built-in training models such as the XGBoost model we will be using as well as custom models such as the one we will see a little later.\n",
    "\n",
    "For this and most other tasks we will be doing using SageMaker, there are two methods we could use. The first is to use the low level functionality of SageMaker which requires knowing each of the objects involved in the SageMaker environment. The second is to use the high level functionality in which certain choices have been made on the user's behalf. The low level approach benefits from allowing the user a great deal of flexibility while the high level approach makes development much quicker. For our purposes we will opt to use the high level approach although using the low-level approach is certainly an option.\n",
    "\n",
    "Recall the method `upload_data()` which is a member of the object representing our current SageMaker session. What this method does is upload the data to the default bucket (which is created if it does not exist) into the path described by the key_prefix variable. To see this for yourself, once you have uploaded the data files, go to the S3 console and look to see where the files have been uploaded.\n",
    "\n",
    "For additional resources, see the __[SageMaker API documentation](http://sagemaker.readthedocs.io/en/latest/)__ and in addition the __[SageMaker Developer Guide.](https://docs.aws.amazon.com/sagemaker/latest/dg/)__"
   ]
  },
  {
   "cell_type": "code",
   "execution_count": 18,
   "metadata": {},
   "outputs": [],
   "source": [
    "import sagemaker\n",
    "\n",
    "session = sagemaker.Session() # Store the current SageMaker session\n",
    "\n",
    "# S3 prefix (which folder will we use)\n",
    "prefix = 'sentiment-web-app'\n",
    "\n",
    "test_location = session.upload_data(os.path.join(data_dir, 'test.csv'), key_prefix=prefix)\n",
    "val_location = session.upload_data(os.path.join(data_dir, 'validation.csv'), key_prefix=prefix)\n",
    "train_location = session.upload_data(os.path.join(data_dir, 'train.csv'), key_prefix=prefix)"
   ]
  },
  {
   "cell_type": "markdown",
   "metadata": {},
   "source": [
    "## Step 4: Creating the XGBoost model\n",
    "\n",
    "Now that the data has been uploaded it is time to create the XGBoost model. To begin with, we need to do some setup. At this point it is worth discussing what a model is in SageMaker. It is easiest to think of a model of comprising three different objects in the SageMaker ecosystem, which interact with one another.\n",
    "\n",
    "- Model Artifacts\n",
    "- Training Code (Container)\n",
    "- Inference Code (Container)\n",
    "\n",
    "The Model Artifacts are what you might think of as the actual model itself. For example, if you were building a neural network, the model artifacts would be the weights of the various layers. In our case, for an XGBoost model, the artifacts are the actual trees that are created during training.\n",
    "\n",
    "The other two objects, the training code and the inference code are then used to manipulate the training artifacts. More precisely, the training code uses the training data that is provided and creates the model artifacts, while the inference code uses the model artifacts to make predictions on new data.\n",
    "\n",
    "The way that SageMaker runs the training and inference code is by making use of Docker containers. For now, think of a container as being a way of packaging code up so that dependencies aren't an issue."
   ]
  },
  {
   "cell_type": "code",
   "execution_count": 19,
   "metadata": {},
   "outputs": [],
   "source": [
    "from sagemaker import get_execution_role\n",
    "\n",
    "# Our current execution role is required when creating the model as the training\n",
    "# and inference code will need to access the model artifacts.\n",
    "role = get_execution_role()"
   ]
  },
  {
   "cell_type": "code",
   "execution_count": 20,
   "metadata": {},
   "outputs": [],
   "source": [
    "# We need to retrieve the location of the container which is provided by Amazon for using XGBoost.\n",
    "# As a matter of convenience, the training and inference code both use the same container.\n",
    "from sagemaker.amazon.amazon_estimator import get_image_uri\n",
    "\n",
    "container = get_image_uri(session.boto_region_name, 'xgboost')"
   ]
  },
  {
   "cell_type": "code",
   "execution_count": 21,
   "metadata": {},
   "outputs": [],
   "source": [
    "# First we create a SageMaker estimator object for our model.\n",
    "xgb = sagemaker.estimator.Estimator(container, # The location of the container we wish to use\n",
    "                                    role,                                    # What is our current IAM Role\n",
    "                                    train_instance_count=1,                  # How many compute instances\n",
    "                                    train_instance_type='ml.m4.xlarge',      # What kind of compute instances\n",
    "                                    output_path='s3://{}/{}/output'.format(session.default_bucket(), prefix),\n",
    "                                    sagemaker_session=session)\n",
    "\n",
    "# And then set the algorithm specific parameters.\n",
    "xgb.set_hyperparameters(max_depth=5,\n",
    "                        eta=0.2,\n",
    "                        gamma=4,\n",
    "                        min_child_weight=6,\n",
    "                        subsample=0.8,\n",
    "                        silent=0,\n",
    "                        objective='binary:logistic',\n",
    "                        early_stopping_rounds=10,\n",
    "                        num_round=500)"
   ]
  },
  {
   "cell_type": "markdown",
   "metadata": {},
   "source": [
    "### Fit the XGBoost model\n",
    "\n",
    "Now that our model has been set up we simply need to attach the training and validation datasets and then ask SageMaker to set up the computation."
   ]
  },
  {
   "cell_type": "code",
   "execution_count": 22,
   "metadata": {},
   "outputs": [],
   "source": [
    "s3_input_train = sagemaker.s3_input(s3_data=train_location, content_type='csv')\n",
    "s3_input_validation = sagemaker.s3_input(s3_data=val_location, content_type='csv')"
   ]
  },
  {
   "cell_type": "code",
   "execution_count": 23,
   "metadata": {},
   "outputs": [
    {
     "name": "stderr",
     "output_type": "stream",
     "text": [
      "INFO:sagemaker:Creating training-job with name: xgboost-2019-01-20-15-14-46-694\n"
     ]
    },
    {
     "name": "stdout",
     "output_type": "stream",
     "text": [
      "2019-01-20 15:14:46 Starting - Starting the training job...\n",
      "2019-01-20 15:14:48 Starting - Launching requested ML instances......\n",
      "2019-01-20 15:15:52 Starting - Preparing the instances for training...\n",
      "2019-01-20 15:16:36 Downloading - Downloading input data...\n",
      "2019-01-20 15:17:15 Training - Training image download completed. Training in progress..\n",
      "\u001b[31mArguments: train\u001b[0m\n",
      "\u001b[31m[2019-01-20:15:17:16:INFO] Running standalone xgboost training.\u001b[0m\n",
      "\u001b[31m[2019-01-20:15:17:16:INFO] File size need to be processed in the node: 238.5mb. Available memory size in the node: 8404.08mb\u001b[0m\n",
      "\u001b[31m[2019-01-20:15:17:16:INFO] Determined delimiter of CSV input is ','\u001b[0m\n",
      "\u001b[31m[15:17:16] S3DistributionType set as FullyReplicated\u001b[0m\n",
      "\u001b[31m[15:17:18] 15000x5000 matrix with 75000000 entries loaded from /opt/ml/input/data/train?format=csv&label_column=0&delimiter=,\u001b[0m\n",
      "\u001b[31m[2019-01-20:15:17:18:INFO] Determined delimiter of CSV input is ','\u001b[0m\n",
      "\u001b[31m[15:17:18] S3DistributionType set as FullyReplicated\u001b[0m\n",
      "\u001b[31m[15:17:19] 10000x5000 matrix with 50000000 entries loaded from /opt/ml/input/data/validation?format=csv&label_column=0&delimiter=,\u001b[0m\n",
      "\u001b[31m[15:17:22] src/tree/updater_prune.cc:74: tree pruning end, 1 roots, 36 extra nodes, 8 pruned nodes, max_depth=5\u001b[0m\n",
      "\u001b[31m[0]#011train-error:0.303267#011validation-error:0.3077\u001b[0m\n",
      "\u001b[31mMultiple eval metrics have been passed: 'validation-error' will be used for early stopping.\n",
      "\u001b[0m\n",
      "\u001b[31mWill train until validation-error hasn't improved in 10 rounds.\u001b[0m\n",
      "\u001b[31m[15:17:24] src/tree/updater_prune.cc:74: tree pruning end, 1 roots, 40 extra nodes, 4 pruned nodes, max_depth=5\u001b[0m\n",
      "\u001b[31m[1]#011train-error:0.301533#011validation-error:0.3061\u001b[0m\n",
      "\u001b[31m[15:17:25] src/tree/updater_prune.cc:74: tree pruning end, 1 roots, 46 extra nodes, 2 pruned nodes, max_depth=5\u001b[0m\n",
      "\u001b[31m[2]#011train-error:0.290533#011validation-error:0.296\u001b[0m\n",
      "\u001b[31m[15:17:27] src/tree/updater_prune.cc:74: tree pruning end, 1 roots, 38 extra nodes, 8 pruned nodes, max_depth=5\u001b[0m\n",
      "\u001b[31m[3]#011train-error:0.276867#011validation-error:0.2855\u001b[0m\n",
      "\u001b[31m[15:17:28] src/tree/updater_prune.cc:74: tree pruning end, 1 roots, 32 extra nodes, 2 pruned nodes, max_depth=5\u001b[0m\n",
      "\u001b[31m[4]#011train-error:0.264533#011validation-error:0.273\u001b[0m\n",
      "\u001b[31m[15:17:29] src/tree/updater_prune.cc:74: tree pruning end, 1 roots, 30 extra nodes, 6 pruned nodes, max_depth=5\u001b[0m\n",
      "\u001b[31m[5]#011train-error:0.2514#011validation-error:0.2606\u001b[0m\n",
      "\u001b[31m[15:17:31] src/tree/updater_prune.cc:74: tree pruning end, 1 roots, 28 extra nodes, 4 pruned nodes, max_depth=5\u001b[0m\n",
      "\u001b[31m[6]#011train-error:0.2548#011validation-error:0.2625\u001b[0m\n",
      "\u001b[31m[15:17:32] src/tree/updater_prune.cc:74: tree pruning end, 1 roots, 38 extra nodes, 8 pruned nodes, max_depth=5\u001b[0m\n",
      "\u001b[31m[7]#011train-error:0.2432#011validation-error:0.2539\u001b[0m\n",
      "\u001b[31m[15:17:33] src/tree/updater_prune.cc:74: tree pruning end, 1 roots, 42 extra nodes, 8 pruned nodes, max_depth=5\u001b[0m\n",
      "\u001b[31m[8]#011train-error:0.232467#011validation-error:0.2479\u001b[0m\n",
      "\u001b[31m[15:17:35] src/tree/updater_prune.cc:74: tree pruning end, 1 roots, 24 extra nodes, 6 pruned nodes, max_depth=5\u001b[0m\n",
      "\u001b[31m[9]#011train-error:0.2264#011validation-error:0.2434\u001b[0m\n",
      "\u001b[31m[15:17:36] src/tree/updater_prune.cc:74: tree pruning end, 1 roots, 32 extra nodes, 4 pruned nodes, max_depth=5\u001b[0m\n",
      "\u001b[31m[10]#011train-error:0.2192#011validation-error:0.2386\u001b[0m\n",
      "\u001b[31m[15:17:37] src/tree/updater_prune.cc:74: tree pruning end, 1 roots, 26 extra nodes, 6 pruned nodes, max_depth=5\u001b[0m\n",
      "\u001b[31m[11]#011train-error:0.212867#011validation-error:0.2308\u001b[0m\n",
      "\u001b[31m[15:17:39] src/tree/updater_prune.cc:74: tree pruning end, 1 roots, 28 extra nodes, 12 pruned nodes, max_depth=5\u001b[0m\n",
      "\u001b[31m[12]#011train-error:0.209533#011validation-error:0.2296\u001b[0m\n",
      "\u001b[31m[15:17:40] src/tree/updater_prune.cc:74: tree pruning end, 1 roots, 24 extra nodes, 6 pruned nodes, max_depth=5\u001b[0m\n",
      "\u001b[31m[13]#011train-error:0.206#011validation-error:0.2238\u001b[0m\n",
      "\u001b[31m[15:17:41] src/tree/updater_prune.cc:74: tree pruning end, 1 roots, 40 extra nodes, 4 pruned nodes, max_depth=5\u001b[0m\n",
      "\u001b[31m[14]#011train-error:0.202067#011validation-error:0.2216\u001b[0m\n",
      "\u001b[31m[15:17:43] src/tree/updater_prune.cc:74: tree pruning end, 1 roots, 34 extra nodes, 10 pruned nodes, max_depth=5\u001b[0m\n",
      "\u001b[31m[15]#011train-error:0.1972#011validation-error:0.2182\u001b[0m\n",
      "\u001b[31m[15:17:44] src/tree/updater_prune.cc:74: tree pruning end, 1 roots, 36 extra nodes, 4 pruned nodes, max_depth=5\u001b[0m\n",
      "\u001b[31m[16]#011train-error:0.1928#011validation-error:0.2188\u001b[0m\n",
      "\u001b[31m[15:17:45] src/tree/updater_prune.cc:74: tree pruning end, 1 roots, 30 extra nodes, 10 pruned nodes, max_depth=5\u001b[0m\n",
      "\u001b[31m[17]#011train-error:0.189667#011validation-error:0.2187\u001b[0m\n",
      "\u001b[31m[15:17:46] src/tree/updater_prune.cc:74: tree pruning end, 1 roots, 22 extra nodes, 12 pruned nodes, max_depth=5\u001b[0m\n",
      "\u001b[31m[18]#011train-error:0.187133#011validation-error:0.216\u001b[0m\n",
      "\u001b[31m[15:17:48] src/tree/updater_prune.cc:74: tree pruning end, 1 roots, 36 extra nodes, 2 pruned nodes, max_depth=5\u001b[0m\n",
      "\u001b[31m[19]#011train-error:0.185467#011validation-error:0.2178\u001b[0m\n",
      "\u001b[31m[15:17:49] src/tree/updater_prune.cc:74: tree pruning end, 1 roots, 24 extra nodes, 12 pruned nodes, max_depth=5\u001b[0m\n",
      "\u001b[31m[20]#011train-error:0.1832#011validation-error:0.214\u001b[0m\n",
      "\u001b[31m[15:17:50] src/tree/updater_prune.cc:74: tree pruning end, 1 roots, 30 extra nodes, 6 pruned nodes, max_depth=5\u001b[0m\n",
      "\u001b[31m[21]#011train-error:0.179467#011validation-error:0.211\u001b[0m\n",
      "\u001b[31m[15:17:52] src/tree/updater_prune.cc:74: tree pruning end, 1 roots, 34 extra nodes, 8 pruned nodes, max_depth=5\u001b[0m\n",
      "\u001b[31m[22]#011train-error:0.177#011validation-error:0.2084\u001b[0m\n",
      "\u001b[31m[15:17:53] src/tree/updater_prune.cc:74: tree pruning end, 1 roots, 24 extra nodes, 16 pruned nodes, max_depth=5\u001b[0m\n",
      "\u001b[31m[23]#011train-error:0.175533#011validation-error:0.2086\u001b[0m\n",
      "\u001b[31m[15:17:54] src/tree/updater_prune.cc:74: tree pruning end, 1 roots, 28 extra nodes, 14 pruned nodes, max_depth=5\u001b[0m\n",
      "\u001b[31m[24]#011train-error:0.1742#011validation-error:0.2052\u001b[0m\n",
      "\u001b[31m[15:17:56] src/tree/updater_prune.cc:74: tree pruning end, 1 roots, 32 extra nodes, 4 pruned nodes, max_depth=5\u001b[0m\n",
      "\u001b[31m[25]#011train-error:0.172467#011validation-error:0.2045\u001b[0m\n",
      "\u001b[31m[15:17:57] src/tree/updater_prune.cc:74: tree pruning end, 1 roots, 22 extra nodes, 12 pruned nodes, max_depth=5\u001b[0m\n",
      "\u001b[31m[26]#011train-error:0.170067#011validation-error:0.2033\u001b[0m\n",
      "\u001b[31m[15:17:58] src/tree/updater_prune.cc:74: tree pruning end, 1 roots, 42 extra nodes, 4 pruned nodes, max_depth=5\u001b[0m\n",
      "\u001b[31m[27]#011train-error:0.167467#011validation-error:0.2012\u001b[0m\n",
      "\u001b[31m[15:18:00] src/tree/updater_prune.cc:74: tree pruning end, 1 roots, 30 extra nodes, 8 pruned nodes, max_depth=5\u001b[0m\n",
      "\u001b[31m[28]#011train-error:0.166133#011validation-error:0.2007\u001b[0m\n",
      "\u001b[31m[15:18:01] src/tree/updater_prune.cc:74: tree pruning end, 1 roots, 28 extra nodes, 6 pruned nodes, max_depth=5\u001b[0m\n",
      "\u001b[31m[29]#011train-error:0.1626#011validation-error:0.1996\u001b[0m\n",
      "\u001b[31m[15:18:02] src/tree/updater_prune.cc:74: tree pruning end, 1 roots, 22 extra nodes, 8 pruned nodes, max_depth=5\u001b[0m\n",
      "\u001b[31m[30]#011train-error:0.1618#011validation-error:0.1987\u001b[0m\n",
      "\u001b[31m[15:18:04] src/tree/updater_prune.cc:74: tree pruning end, 1 roots, 32 extra nodes, 8 pruned nodes, max_depth=5\u001b[0m\n",
      "\u001b[31m[31]#011train-error:0.160267#011validation-error:0.197\u001b[0m\n",
      "\u001b[31m[15:18:05] src/tree/updater_prune.cc:74: tree pruning end, 1 roots, 18 extra nodes, 10 pruned nodes, max_depth=5\u001b[0m\n",
      "\u001b[31m[32]#011train-error:0.159667#011validation-error:0.1956\u001b[0m\n",
      "\u001b[31m[15:18:06] src/tree/updater_prune.cc:74: tree pruning end, 1 roots, 38 extra nodes, 4 pruned nodes, max_depth=5\u001b[0m\n",
      "\u001b[31m[33]#011train-error:0.158133#011validation-error:0.1947\u001b[0m\n",
      "\u001b[31m[15:18:07] src/tree/updater_prune.cc:74: tree pruning end, 1 roots, 22 extra nodes, 8 pruned nodes, max_depth=5\u001b[0m\n",
      "\u001b[31m[34]#011train-error:0.155867#011validation-error:0.1944\u001b[0m\n",
      "\u001b[31m[15:18:09] src/tree/updater_prune.cc:74: tree pruning end, 1 roots, 20 extra nodes, 4 pruned nodes, max_depth=5\u001b[0m\n",
      "\u001b[31m[35]#011train-error:0.154733#011validation-error:0.1926\u001b[0m\n",
      "\u001b[31m[15:18:10] src/tree/updater_prune.cc:74: tree pruning end, 1 roots, 16 extra nodes, 8 pruned nodes, max_depth=5\u001b[0m\n",
      "\u001b[31m[36]#011train-error:0.153867#011validation-error:0.1909\u001b[0m\n",
      "\u001b[31m[15:18:11] src/tree/updater_prune.cc:74: tree pruning end, 1 roots, 26 extra nodes, 14 pruned nodes, max_depth=5\u001b[0m\n",
      "\u001b[31m[37]#011train-error:0.1526#011validation-error:0.1894\u001b[0m\n",
      "\u001b[31m[15:18:13] src/tree/updater_prune.cc:74: tree pruning end, 1 roots, 24 extra nodes, 6 pruned nodes, max_depth=5\u001b[0m\n",
      "\u001b[31m[38]#011train-error:0.1504#011validation-error:0.1887\u001b[0m\n",
      "\u001b[31m[15:18:14] src/tree/updater_prune.cc:74: tree pruning end, 1 roots, 40 extra nodes, 4 pruned nodes, max_depth=5\u001b[0m\n",
      "\u001b[31m[39]#011train-error:0.149533#011validation-error:0.1884\u001b[0m\n",
      "\u001b[31m[15:18:15] src/tree/updater_prune.cc:74: tree pruning end, 1 roots, 26 extra nodes, 12 pruned nodes, max_depth=5\u001b[0m\n",
      "\u001b[31m[40]#011train-error:0.1486#011validation-error:0.1877\u001b[0m\n",
      "\u001b[31m[15:18:17] src/tree/updater_prune.cc:74: tree pruning end, 1 roots, 14 extra nodes, 4 pruned nodes, max_depth=5\u001b[0m\n",
      "\u001b[31m[41]#011train-error:0.147667#011validation-error:0.1864\u001b[0m\n",
      "\u001b[31m[15:18:18] src/tree/updater_prune.cc:74: tree pruning end, 1 roots, 28 extra nodes, 8 pruned nodes, max_depth=5\u001b[0m\n",
      "\u001b[31m[42]#011train-error:0.145733#011validation-error:0.1847\u001b[0m\n",
      "\u001b[31m[15:18:19] src/tree/updater_prune.cc:74: tree pruning end, 1 roots, 22 extra nodes, 16 pruned nodes, max_depth=5\u001b[0m\n",
      "\u001b[31m[43]#011train-error:0.145067#011validation-error:0.1835\u001b[0m\n",
      "\u001b[31m[15:18:21] src/tree/updater_prune.cc:74: tree pruning end, 1 roots, 28 extra nodes, 10 pruned nodes, max_depth=5\u001b[0m\n",
      "\u001b[31m[44]#011train-error:0.1436#011validation-error:0.1825\u001b[0m\n",
      "\u001b[31m[15:18:22] src/tree/updater_prune.cc:74: tree pruning end, 1 roots, 40 extra nodes, 10 pruned nodes, max_depth=5\u001b[0m\n",
      "\u001b[31m[45]#011train-error:0.142133#011validation-error:0.1833\u001b[0m\n",
      "\u001b[31m[15:18:23] src/tree/updater_prune.cc:74: tree pruning end, 1 roots, 26 extra nodes, 10 pruned nodes, max_depth=5\u001b[0m\n",
      "\u001b[31m[46]#011train-error:0.141#011validation-error:0.183\u001b[0m\n",
      "\u001b[31m[15:18:25] src/tree/updater_prune.cc:74: tree pruning end, 1 roots, 26 extra nodes, 6 pruned nodes, max_depth=5\u001b[0m\n",
      "\u001b[31m[47]#011train-error:0.139667#011validation-error:0.1822\u001b[0m\n",
      "\u001b[31m[15:18:26] src/tree/updater_prune.cc:74: tree pruning end, 1 roots, 36 extra nodes, 4 pruned nodes, max_depth=5\u001b[0m\n",
      "\u001b[31m[48]#011train-error:0.137333#011validation-error:0.181\u001b[0m\n",
      "\u001b[31m[15:18:27] src/tree/updater_prune.cc:74: tree pruning end, 1 roots, 20 extra nodes, 12 pruned nodes, max_depth=5\u001b[0m\n",
      "\u001b[31m[49]#011train-error:0.135933#011validation-error:0.178\u001b[0m\n",
      "\u001b[31m[15:18:28] src/tree/updater_prune.cc:74: tree pruning end, 1 roots, 12 extra nodes, 10 pruned nodes, max_depth=5\u001b[0m\n",
      "\u001b[31m[50]#011train-error:0.135267#011validation-error:0.1768\u001b[0m\n",
      "\u001b[31m[15:18:30] src/tree/updater_prune.cc:74: tree pruning end, 1 roots, 20 extra nodes, 14 pruned nodes, max_depth=5\u001b[0m\n",
      "\u001b[31m[51]#011train-error:0.133867#011validation-error:0.1769\u001b[0m\n",
      "\u001b[31m[15:18:31] src/tree/updater_prune.cc:74: tree pruning end, 1 roots, 30 extra nodes, 8 pruned nodes, max_depth=5\u001b[0m\n",
      "\u001b[31m[52]#011train-error:0.133133#011validation-error:0.1757\u001b[0m\n",
      "\u001b[31m[15:18:32] src/tree/updater_prune.cc:74: tree pruning end, 1 roots, 22 extra nodes, 12 pruned nodes, max_depth=5\u001b[0m\n",
      "\u001b[31m[53]#011train-error:0.131667#011validation-error:0.1754\u001b[0m\n",
      "\u001b[31m[15:18:34] src/tree/updater_prune.cc:74: tree pruning end, 1 roots, 10 extra nodes, 6 pruned nodes, max_depth=5\u001b[0m\n",
      "\u001b[31m[54]#011train-error:0.131267#011validation-error:0.1741\u001b[0m\n",
      "\u001b[31m[15:18:35] src/tree/updater_prune.cc:74: tree pruning end, 1 roots, 30 extra nodes, 10 pruned nodes, max_depth=5\u001b[0m\n",
      "\u001b[31m[55]#011train-error:0.131333#011validation-error:0.1746\u001b[0m\n",
      "\u001b[31m[15:18:36] src/tree/updater_prune.cc:74: tree pruning end, 1 roots, 28 extra nodes, 10 pruned nodes, max_depth=5\u001b[0m\n",
      "\u001b[31m[56]#011train-error:0.130533#011validation-error:0.1737\u001b[0m\n",
      "\u001b[31m[15:18:38] src/tree/updater_prune.cc:74: tree pruning end, 1 roots, 36 extra nodes, 4 pruned nodes, max_depth=5\u001b[0m\n",
      "\u001b[31m[57]#011train-error:0.129333#011validation-error:0.1706\u001b[0m\n",
      "\u001b[31m[15:18:39] src/tree/updater_prune.cc:74: tree pruning end, 1 roots, 18 extra nodes, 8 pruned nodes, max_depth=5\u001b[0m\n",
      "\u001b[31m[58]#011train-error:0.126867#011validation-error:0.1717\u001b[0m\n",
      "\u001b[31m[15:18:40] src/tree/updater_prune.cc:74: tree pruning end, 1 roots, 20 extra nodes, 10 pruned nodes, max_depth=5\u001b[0m\n",
      "\u001b[31m[59]#011train-error:0.1268#011validation-error:0.1728\u001b[0m\n",
      "\u001b[31m[15:18:41] src/tree/updater_prune.cc:74: tree pruning end, 1 roots, 32 extra nodes, 4 pruned nodes, max_depth=5\u001b[0m\n",
      "\u001b[31m[60]#011train-error:0.1254#011validation-error:0.1717\u001b[0m\n",
      "\u001b[31m[15:18:43] src/tree/updater_prune.cc:74: tree pruning end, 1 roots, 26 extra nodes, 2 pruned nodes, max_depth=5\u001b[0m\n",
      "\u001b[31m[61]#011train-error:0.1246#011validation-error:0.1724\u001b[0m\n",
      "\u001b[31m[15:18:44] src/tree/updater_prune.cc:74: tree pruning end, 1 roots, 38 extra nodes, 2 pruned nodes, max_depth=5\u001b[0m\n",
      "\u001b[31m[62]#011train-error:0.122533#011validation-error:0.1715\u001b[0m\n",
      "\u001b[31m[15:18:45] src/tree/updater_prune.cc:74: tree pruning end, 1 roots, 46 extra nodes, 4 pruned nodes, max_depth=5\u001b[0m\n",
      "\u001b[31m[63]#011train-error:0.121067#011validation-error:0.1699\u001b[0m\n",
      "\u001b[31m[15:18:47] src/tree/updater_prune.cc:74: tree pruning end, 1 roots, 16 extra nodes, 6 pruned nodes, max_depth=5\u001b[0m\n",
      "\u001b[31m[64]#011train-error:0.119467#011validation-error:0.17\u001b[0m\n",
      "\u001b[31m[15:18:48] src/tree/updater_prune.cc:74: tree pruning end, 1 roots, 20 extra nodes, 8 pruned nodes, max_depth=5\u001b[0m\n",
      "\u001b[31m[65]#011train-error:0.119#011validation-error:0.1691\u001b[0m\n",
      "\u001b[31m[15:18:49] src/tree/updater_prune.cc:74: tree pruning end, 1 roots, 16 extra nodes, 12 pruned nodes, max_depth=5\u001b[0m\n",
      "\u001b[31m[66]#011train-error:0.118867#011validation-error:0.1688\u001b[0m\n",
      "\u001b[31m[15:18:51] src/tree/updater_prune.cc:74: tree pruning end, 1 roots, 18 extra nodes, 8 pruned nodes, max_depth=5\u001b[0m\n",
      "\u001b[31m[67]#011train-error:0.119267#011validation-error:0.1693\u001b[0m\n",
      "\u001b[31m[15:18:52] src/tree/updater_prune.cc:74: tree pruning end, 1 roots, 20 extra nodes, 8 pruned nodes, max_depth=5\u001b[0m\n",
      "\u001b[31m[68]#011train-error:0.117733#011validation-error:0.169\u001b[0m\n",
      "\u001b[31m[15:18:53] src/tree/updater_prune.cc:74: tree pruning end, 1 roots, 12 extra nodes, 10 pruned nodes, max_depth=5\u001b[0m\n",
      "\u001b[31m[69]#011train-error:0.117133#011validation-error:0.1682\u001b[0m\n",
      "\u001b[31m[15:18:55] src/tree/updater_prune.cc:74: tree pruning end, 1 roots, 12 extra nodes, 16 pruned nodes, max_depth=5\u001b[0m\n",
      "\u001b[31m[70]#011train-error:0.116467#011validation-error:0.1677\u001b[0m\n",
      "\u001b[31m[15:18:56] src/tree/updater_prune.cc:74: tree pruning end, 1 roots, 22 extra nodes, 14 pruned nodes, max_depth=5\u001b[0m\n",
      "\u001b[31m[71]#011train-error:0.115867#011validation-error:0.166\u001b[0m\n",
      "\u001b[31m[15:18:57] src/tree/updater_prune.cc:74: tree pruning end, 1 roots, 14 extra nodes, 6 pruned nodes, max_depth=5\u001b[0m\n",
      "\u001b[31m[72]#011train-error:0.115467#011validation-error:0.1656\u001b[0m\n",
      "\u001b[31m[15:18:59] src/tree/updater_prune.cc:74: tree pruning end, 1 roots, 28 extra nodes, 10 pruned nodes, max_depth=5\u001b[0m\n",
      "\u001b[31m[73]#011train-error:0.114867#011validation-error:0.1647\u001b[0m\n",
      "\u001b[31m[15:19:00] src/tree/updater_prune.cc:74: tree pruning end, 1 roots, 14 extra nodes, 6 pruned nodes, max_depth=5\u001b[0m\n",
      "\u001b[31m[74]#011train-error:0.114267#011validation-error:0.1636\u001b[0m\n",
      "\u001b[31m[15:19:01] src/tree/updater_prune.cc:74: tree pruning end, 1 roots, 16 extra nodes, 2 pruned nodes, max_depth=5\u001b[0m\n",
      "\u001b[31m[75]#011train-error:0.114#011validation-error:0.1634\u001b[0m\n",
      "\u001b[31m[15:19:02] src/tree/updater_prune.cc:74: tree pruning end, 1 roots, 12 extra nodes, 10 pruned nodes, max_depth=5\u001b[0m\n",
      "\u001b[31m[76]#011train-error:0.1132#011validation-error:0.163\u001b[0m\n",
      "\u001b[31m[15:19:04] src/tree/updater_prune.cc:74: tree pruning end, 1 roots, 22 extra nodes, 10 pruned nodes, max_depth=5\u001b[0m\n",
      "\u001b[31m[77]#011train-error:0.1124#011validation-error:0.1628\u001b[0m\n",
      "\u001b[31m[15:19:05] src/tree/updater_prune.cc:74: tree pruning end, 1 roots, 16 extra nodes, 6 pruned nodes, max_depth=5\u001b[0m\n",
      "\u001b[31m[78]#011train-error:0.111533#011validation-error:0.1626\u001b[0m\n",
      "\u001b[31m[15:19:06] src/tree/updater_prune.cc:74: tree pruning end, 1 roots, 32 extra nodes, 8 pruned nodes, max_depth=5\u001b[0m\n",
      "\u001b[31m[79]#011train-error:0.1112#011validation-error:0.1617\u001b[0m\n",
      "\u001b[31m[15:19:08] src/tree/updater_prune.cc:74: tree pruning end, 1 roots, 12 extra nodes, 6 pruned nodes, max_depth=5\u001b[0m\n",
      "\u001b[31m[80]#011train-error:0.110733#011validation-error:0.1616\u001b[0m\n",
      "\u001b[31m[15:19:09] src/tree/updater_prune.cc:74: tree pruning end, 1 roots, 22 extra nodes, 10 pruned nodes, max_depth=5\u001b[0m\n",
      "\u001b[31m[81]#011train-error:0.110133#011validation-error:0.1617\u001b[0m\n",
      "\u001b[31m[15:19:10] src/tree/updater_prune.cc:74: tree pruning end, 1 roots, 14 extra nodes, 10 pruned nodes, max_depth=5\u001b[0m\n",
      "\u001b[31m[82]#011train-error:0.109133#011validation-error:0.1617\u001b[0m\n",
      "\u001b[31m[15:19:12] src/tree/updater_prune.cc:74: tree pruning end, 1 roots, 34 extra nodes, 8 pruned nodes, max_depth=5\u001b[0m\n",
      "\u001b[31m[83]#011train-error:0.109333#011validation-error:0.1612\u001b[0m\n",
      "\u001b[31m[15:19:13] src/tree/updater_prune.cc:74: tree pruning end, 1 roots, 22 extra nodes, 8 pruned nodes, max_depth=5\u001b[0m\n",
      "\u001b[31m[84]#011train-error:0.1086#011validation-error:0.1598\u001b[0m\n",
      "\u001b[31m[15:19:14] src/tree/updater_prune.cc:74: tree pruning end, 1 roots, 16 extra nodes, 4 pruned nodes, max_depth=5\u001b[0m\n",
      "\u001b[31m[85]#011train-error:0.1078#011validation-error:0.1603\u001b[0m\n",
      "\u001b[31m[15:19:16] src/tree/updater_prune.cc:74: tree pruning end, 1 roots, 26 extra nodes, 10 pruned nodes, max_depth=5\u001b[0m\n",
      "\u001b[31m[86]#011train-error:0.107533#011validation-error:0.161\u001b[0m\n",
      "\u001b[31m[15:19:17] src/tree/updater_prune.cc:74: tree pruning end, 1 roots, 24 extra nodes, 2 pruned nodes, max_depth=5\u001b[0m\n",
      "\u001b[31m[87]#011train-error:0.105867#011validation-error:0.159\u001b[0m\n",
      "\u001b[31m[15:19:18] src/tree/updater_prune.cc:74: tree pruning end, 1 roots, 20 extra nodes, 8 pruned nodes, max_depth=5\u001b[0m\n",
      "\u001b[31m[88]#011train-error:0.1046#011validation-error:0.1588\u001b[0m\n",
      "\u001b[31m[15:19:19] src/tree/updater_prune.cc:74: tree pruning end, 1 roots, 18 extra nodes, 14 pruned nodes, max_depth=5\u001b[0m\n",
      "\u001b[31m[89]#011train-error:0.104867#011validation-error:0.1585\u001b[0m\n",
      "\u001b[31m[15:19:21] src/tree/updater_prune.cc:74: tree pruning end, 1 roots, 12 extra nodes, 14 pruned nodes, max_depth=5\u001b[0m\n",
      "\u001b[31m[90]#011train-error:0.104933#011validation-error:0.1576\u001b[0m\n",
      "\u001b[31m[15:19:22] src/tree/updater_prune.cc:74: tree pruning end, 1 roots, 12 extra nodes, 2 pruned nodes, max_depth=5\u001b[0m\n",
      "\u001b[31m[91]#011train-error:0.104867#011validation-error:0.1572\u001b[0m\n",
      "\u001b[31m[15:19:23] src/tree/updater_prune.cc:74: tree pruning end, 1 roots, 20 extra nodes, 2 pruned nodes, max_depth=5\u001b[0m\n",
      "\u001b[31m[92]#011train-error:0.1046#011validation-error:0.1569\u001b[0m\n",
      "\u001b[31m[15:19:25] src/tree/updater_prune.cc:74: tree pruning end, 1 roots, 28 extra nodes, 6 pruned nodes, max_depth=5\u001b[0m\n",
      "\u001b[31m[93]#011train-error:0.104267#011validation-error:0.1576\u001b[0m\n",
      "\u001b[31m[15:19:26] src/tree/updater_prune.cc:74: tree pruning end, 1 roots, 20 extra nodes, 14 pruned nodes, max_depth=5\u001b[0m\n",
      "\u001b[31m[94]#011train-error:0.103667#011validation-error:0.157\u001b[0m\n",
      "\u001b[31m[15:19:27] src/tree/updater_prune.cc:74: tree pruning end, 1 roots, 14 extra nodes, 4 pruned nodes, max_depth=5\u001b[0m\n",
      "\u001b[31m[95]#011train-error:0.102733#011validation-error:0.1566\u001b[0m\n",
      "\u001b[31m[15:19:29] src/tree/updater_prune.cc:74: tree pruning end, 1 roots, 12 extra nodes, 14 pruned nodes, max_depth=5\u001b[0m\n",
      "\u001b[31m[96]#011train-error:0.1024#011validation-error:0.1559\u001b[0m\n",
      "\u001b[31m[15:19:30] src/tree/updater_prune.cc:74: tree pruning end, 1 roots, 12 extra nodes, 8 pruned nodes, max_depth=5\u001b[0m\n",
      "\u001b[31m[97]#011train-error:0.1018#011validation-error:0.1563\u001b[0m\n",
      "\u001b[31m[15:19:31] src/tree/updater_prune.cc:74: tree pruning end, 1 roots, 18 extra nodes, 12 pruned nodes, max_depth=5\u001b[0m\n",
      "\u001b[31m[98]#011train-error:0.101733#011validation-error:0.1559\u001b[0m\n",
      "\u001b[31m[15:19:33] src/tree/updater_prune.cc:74: tree pruning end, 1 roots, 20 extra nodes, 10 pruned nodes, max_depth=5\u001b[0m\n",
      "\u001b[31m[99]#011train-error:0.101133#011validation-error:0.155\u001b[0m\n",
      "\u001b[31m[15:19:34] src/tree/updater_prune.cc:74: tree pruning end, 1 roots, 26 extra nodes, 16 pruned nodes, max_depth=5\u001b[0m\n",
      "\u001b[31m[100]#011train-error:0.100067#011validation-error:0.156\u001b[0m\n",
      "\u001b[31m[15:19:35] src/tree/updater_prune.cc:74: tree pruning end, 1 roots, 14 extra nodes, 8 pruned nodes, max_depth=5\u001b[0m\n",
      "\u001b[31m[101]#011train-error:0.098933#011validation-error:0.1552\u001b[0m\n",
      "\n",
      "2019-01-20 15:19:48 Uploading - Uploading generated training model\u001b[31m[15:19:36] src/tree/updater_prune.cc:74: tree pruning end, 1 roots, 28 extra nodes, 6 pruned nodes, max_depth=5\u001b[0m\n",
      "\u001b[31m[102]#011train-error:0.098267#011validation-error:0.156\u001b[0m\n",
      "\u001b[31m[15:19:38] src/tree/updater_prune.cc:74: tree pruning end, 1 roots, 18 extra nodes, 16 pruned nodes, max_depth=5\u001b[0m\n",
      "\u001b[31m[103]#011train-error:0.097667#011validation-error:0.1571\u001b[0m\n",
      "\u001b[31m[15:19:39] src/tree/updater_prune.cc:74: tree pruning end, 1 roots, 10 extra nodes, 6 pruned nodes, max_depth=5\u001b[0m\n",
      "\u001b[31m[104]#011train-error:0.097133#011validation-error:0.1567\u001b[0m\n",
      "\u001b[31m[15:19:40] src/tree/updater_prune.cc:74: tree pruning end, 1 roots, 18 extra nodes, 14 pruned nodes, max_depth=5\u001b[0m\n",
      "\u001b[31m[105]#011train-error:0.0972#011validation-error:0.1563\u001b[0m\n",
      "\u001b[31m[15:19:42] src/tree/updater_prune.cc:74: tree pruning end, 1 roots, 10 extra nodes, 12 pruned nodes, max_depth=5\u001b[0m\n",
      "\u001b[31m[106]#011train-error:0.096867#011validation-error:0.1568\u001b[0m\n",
      "\u001b[31m[15:19:43] src/tree/updater_prune.cc:74: tree pruning end, 1 roots, 10 extra nodes, 2 pruned nodes, max_depth=5\u001b[0m\n",
      "\u001b[31m[107]#011train-error:0.096733#011validation-error:0.1557\u001b[0m\n",
      "\u001b[31m[15:19:44] src/tree/updater_prune.cc:74: tree pruning end, 1 roots, 12 extra nodes, 8 pruned nodes, max_depth=5\u001b[0m\n",
      "\u001b[31m[108]#011train-error:0.096467#011validation-error:0.1561\u001b[0m\n",
      "\u001b[31m[15:19:46] src/tree/updater_prune.cc:74: tree pruning end, 1 roots, 20 extra nodes, 10 pruned nodes, max_depth=5\u001b[0m\n",
      "\u001b[31m[109]#011train-error:0.095533#011validation-error:0.1558\u001b[0m\n",
      "\u001b[31mStopping. Best iteration:\u001b[0m\n",
      "\u001b[31m[99]#011train-error:0.101133#011validation-error:0.155\n",
      "\u001b[0m\n",
      "\n",
      "2019-01-20 15:19:54 Completed - Training job completed\n",
      "Billable seconds: 199\n"
     ]
    }
   ],
   "source": [
    "xgb.fit({'train': s3_input_train, 'validation': s3_input_validation})"
   ]
  },
  {
   "cell_type": "markdown",
   "metadata": {},
   "source": [
    "## Step 5: Testing the model\n",
    "\n",
    "Now that we've fit our XGBoost model, it's time to see how well it performs. To do this we will use SageMakers Batch Transform functionality. Batch Transform is a convenient way to perform inference on a large dataset in a way that is not realtime. That is, we don't necessarily need to use our model's results immediately and instead we can perform inference on a large number of samples. An example of this in industry might be performing an end of month report. This method of inference can also be useful to us as it means that we can perform inference on our entire test set. \n",
    "\n",
    "To perform a Batch Transformation we need to first create a transformer objects from our trained estimator object."
   ]
  },
  {
   "cell_type": "code",
   "execution_count": 24,
   "metadata": {},
   "outputs": [
    {
     "name": "stderr",
     "output_type": "stream",
     "text": [
      "INFO:sagemaker:Creating model with name: xgboost-2019-01-20-15-14-46-694\n"
     ]
    }
   ],
   "source": [
    "xgb_transformer = xgb.transformer(instance_count = 1, instance_type = 'ml.m4.xlarge')"
   ]
  },
  {
   "cell_type": "markdown",
   "metadata": {},
   "source": [
    "Next we actually perform the transform job. When doing so we need to make sure to specify the type of data we are sending so that it is serialized correctly in the background. In our case we are providing our model with csv data so we specify `text/csv`. Also, if the test data that we have provided is too large to process all at once then we need to specify how the data file should be split up. Since each line is a single entry in our data set we tell SageMaker that it can split the input on each line."
   ]
  },
  {
   "cell_type": "code",
   "execution_count": 25,
   "metadata": {},
   "outputs": [
    {
     "name": "stderr",
     "output_type": "stream",
     "text": [
      "INFO:sagemaker:Creating transform job with name: xgboost-2019-01-20-15-20-30-800\n"
     ]
    }
   ],
   "source": [
    "xgb_transformer.transform(test_location, content_type='text/csv', split_type='Line')"
   ]
  },
  {
   "cell_type": "markdown",
   "metadata": {},
   "source": [
    "Currently the transform job is running but it is doing so in the background. Since we wish to wait until the transform job is done and we would like a bit of feedback we can run the `wait()` method."
   ]
  },
  {
   "cell_type": "code",
   "execution_count": 26,
   "metadata": {},
   "outputs": [
    {
     "name": "stdout",
     "output_type": "stream",
     "text": [
      ".........................................!\n"
     ]
    }
   ],
   "source": [
    "xgb_transformer.wait()"
   ]
  },
  {
   "cell_type": "markdown",
   "metadata": {},
   "source": [
    "Now the transform job has executed and the result, the estimated sentiment of each review, has been saved on S3. Since we would rather work on this file locally we can perform a bit of notebook magic to copy the file to the `data_dir`."
   ]
  },
  {
   "cell_type": "code",
   "execution_count": 27,
   "metadata": {},
   "outputs": [
    {
     "name": "stdout",
     "output_type": "stream",
     "text": [
      "download: s3://sagemaker-ap-south-1-651711011978/xgboost-2019-01-20-15-20-30-800/test.csv.out to ../data/sentiment_web_app/test.csv.out\n"
     ]
    }
   ],
   "source": [
    "!aws s3 cp --recursive $xgb_transformer.output_path $data_dir"
   ]
  },
  {
   "cell_type": "markdown",
   "metadata": {},
   "source": [
    "The last step is now to read in the output from our model, convert the output to something a little more usable, in this case we want the sentiment to be either `1` (positive) or `0` (negative), and then compare to the ground truth labels."
   ]
  },
  {
   "cell_type": "code",
   "execution_count": 28,
   "metadata": {},
   "outputs": [],
   "source": [
    "predictions = pd.read_csv(os.path.join(data_dir, 'test.csv.out'), header=None)\n",
    "predictions = [round(num) for num in predictions.squeeze().values]"
   ]
  },
  {
   "cell_type": "code",
   "execution_count": 29,
   "metadata": {},
   "outputs": [
    {
     "data": {
      "text/plain": [
       "0.84668"
      ]
     },
     "execution_count": 29,
     "metadata": {},
     "output_type": "execute_result"
    }
   ],
   "source": [
    "from sklearn.metrics import accuracy_score\n",
    "accuracy_score(test_y, predictions)"
   ]
  },
  {
   "cell_type": "markdown",
   "metadata": {},
   "source": [
    "## Step 6: Deploying the model\n",
    "\n",
    "Once we construct and fit our model, SageMaker stores the resulting model artifacts and we can use those to deploy an endpoint (inference code). To see this, look in the SageMaker console and you should see that a model has been created along with a link to the S3 location where the model artifacts have been stored.\n",
    "\n",
    "Deploying an endpoint is a lot like training the model with a few important differences. The first is that a deployed model doesn't change the model artifacts, so as you send it various testing instances the model won't change. Another difference is that since we aren't performing a fixed computation, as we were in the training step or while performing a batch transform, the compute instance that gets started stays running until we tell it to stop. This is important to note as if we forget and leave it running we will be charged the entire time.\n",
    "\n",
    "In other words **If you are no longer using a deployed endpoint, shut it down!**"
   ]
  },
  {
   "cell_type": "code",
   "execution_count": 30,
   "metadata": {},
   "outputs": [
    {
     "name": "stderr",
     "output_type": "stream",
     "text": [
      "INFO:sagemaker:Creating model with name: xgboost-2019-01-20-15-26-40-278\n",
      "INFO:sagemaker:Creating endpoint with name xgboost-2019-01-20-15-14-46-694\n"
     ]
    },
    {
     "name": "stdout",
     "output_type": "stream",
     "text": [
      "--------------------------------------------------------------------------!"
     ]
    }
   ],
   "source": [
    "xgb_predictor = xgb.deploy(initial_instance_count = 1, instance_type = 'ml.t2.medium')"
   ]
  },
  {
   "cell_type": "markdown",
   "metadata": {},
   "source": [
    "### Testing the model (again)\n",
    "\n",
    "Now that we have deployed our endpoint, we can send the testing data to it and get back the inference results. We already did this earlier using the batch transform functionality of SageMaker, however, we will test our model again using the newly deployed endpoint so that we can make sure that it works properly and to get a bit of a feel for how the endpoint works.\n",
    "\n",
    "When using the created endpoint it is important to know that we are limited in the amount of information we can send in each call so we need to break the testing data up into chunks and then send each chunk. Also, we need to serialize our data before we send it to the endpoint to ensure that our data is transmitted properly. Fortunately, SageMaker can do the serialization part for us provided we tell it the format of our data."
   ]
  },
  {
   "cell_type": "code",
   "execution_count": 31,
   "metadata": {},
   "outputs": [],
   "source": [
    "from sagemaker.predictor import csv_serializer\n",
    "\n",
    "# We need to tell the endpoint what format the data we are sending is in so that SageMaker can perform the serialization.\n",
    "xgb_predictor.content_type = 'text/csv'\n",
    "xgb_predictor.serializer = csv_serializer"
   ]
  },
  {
   "cell_type": "code",
   "execution_count": 32,
   "metadata": {},
   "outputs": [],
   "source": [
    "# We split the data into chunks and send each chunk seperately, accumulating the results.\n",
    "\n",
    "def predict(data, rows=512):\n",
    "    split_array = np.array_split(data, int(data.shape[0] / float(rows) + 1))\n",
    "    predictions = ''\n",
    "    for array in split_array:\n",
    "        predictions = ','.join([predictions, xgb_predictor.predict(array).decode('utf-8')])\n",
    "    \n",
    "    return np.fromstring(predictions[1:], sep=',')"
   ]
  },
  {
   "cell_type": "code",
   "execution_count": 33,
   "metadata": {},
   "outputs": [],
   "source": [
    "test_X = pd.read_csv(os.path.join(data_dir, 'test.csv'), header=None).values\n",
    "\n",
    "predictions = predict(test_X)\n",
    "predictions = [round(num) for num in predictions]"
   ]
  },
  {
   "cell_type": "markdown",
   "metadata": {},
   "source": [
    "Lastly, we check to see what the accuracy of our model is."
   ]
  },
  {
   "cell_type": "code",
   "execution_count": 34,
   "metadata": {},
   "outputs": [
    {
     "data": {
      "text/plain": [
       "0.84668"
      ]
     },
     "execution_count": 34,
     "metadata": {},
     "output_type": "execute_result"
    }
   ],
   "source": [
    "from sklearn.metrics import accuracy_score\n",
    "accuracy_score(test_y, predictions)"
   ]
  },
  {
   "cell_type": "markdown",
   "metadata": {},
   "source": [
    "And the results here should agree with the model testing that we did earlier using the batch transform job.\n",
    "\n",
    "### Cleaning up\n",
    "\n",
    "Now that we've determined that deploying our model works as expected, we are going to shut it down. Remember that the longer the endpoint is left running, the greater the cost and since we have a bit more work to do before we are able to use our endpoint with our simple web app, we should shut everything down."
   ]
  },
  {
   "cell_type": "code",
   "execution_count": 35,
   "metadata": {},
   "outputs": [
    {
     "name": "stderr",
     "output_type": "stream",
     "text": [
      "INFO:sagemaker:Deleting endpoint with name: xgboost-2019-01-20-15-14-46-694\n"
     ]
    }
   ],
   "source": [
    "xgb_predictor.delete_endpoint()"
   ]
  },
  {
   "cell_type": "markdown",
   "metadata": {},
   "source": [
    "## Step 7: Putting our model to work\n",
    "\n",
    "As we've mentioned a few times now, our goal is to have our model deployed and then access it using a very simple web app. The intent is for this web app to take some user submitted data (a review), send it off to our endpoint (the model) and then display the result.\n",
    "\n",
    "However, there is a small catch. Currently the only way we can access the endpoint to send it data is using the SageMaker API. We can, if we wish, expose the actual URL that our model's endpoint is receiving data from, however, if we just send it data ourselves we will not get anything in return. This is because the endpoint created by SageMaker requires the entity accessing it have the correct permissions. So, we would need to somehow authenticate our web app with AWS.\n",
    "\n",
    "Having a website that authenticates to AWS seems a bit beyond the scope of this lesson so we will opt for an alternative approach. Namely, we will create a new endpoint which does not require authentication and which acts as a proxy for the SageMaker endpoint.\n",
    "\n",
    "As an additional constraint, we will try to avoid doing any data processing in the web app itself. Remember that when we constructed and tested our model we started with a movie review, then we simplified it by removing any html formatting and punctuation, then we constructed a bag of words embedding and the resulting vector is what we sent to our model. All of this needs to be done to our user input as well.\n",
    "\n",
    "Fortunately we can do all of this data processing in the backend, using Amazon's Lambda service.\n",
    "\n",
    "<img src=\"Web App Diagram.svg\">\n",
    "\n",
    "The diagram above gives an overview of how the various services will work together. On the far right is the model which we trained above and which will be deployed using SageMaker. On the far left is our web app that collects a user's movie review, sends it off and expects a positive or negative sentiment in return.\n",
    "\n",
    "In the middle is where some of the magic happens. We will construct a Lambda function, which you can think of as a straightforward Python function that can be executed whenever a specified event occurs. This Python function will do the data processing we need to perform on a user submitted review. In addition, we will give this function permission to send and recieve data from a SageMaker endpoint.\n",
    "\n",
    "Lastly, the method we will use to execute the Lambda function is a new endpoint that we will create using API Gateway. This endpoint will be a url that listens for data to be sent to it. Once it gets some data it will pass that data on to the Lambda function and then return whatever the Lambda function returns. Essentially it will act as an interface that lets our web app communicate with the Lambda function.\n",
    "\n",
    "### Processing a single review\n",
    "\n",
    "For now, suppose we are given a movie review by our user in the form of a string, like so:"
   ]
  },
  {
   "cell_type": "code",
   "execution_count": 36,
   "metadata": {},
   "outputs": [],
   "source": [
    "test_review = \"Nothing but a disgusting materialistic pageant of glistening abed remote control greed zombies, totally devoid of any heart or heat. A romantic comedy that has zero romantic chemestry and zero laughs!\""
   ]
  },
  {
   "cell_type": "markdown",
   "metadata": {},
   "source": [
    "How do we go from this string to the bag of words feature vector that is expected by our model?\n",
    "\n",
    "If we recall at the beginning of this notebook, the first step is to remove any unnecessary characters using the `review_to_words` method. Remember that we intentionally did this in a very simplistic way. This is because we are going to have to copy this method to our (eventual) Lambda function (we will go into more detail later) and this means it needs to be rather simplistic."
   ]
  },
  {
   "cell_type": "code",
   "execution_count": 37,
   "metadata": {},
   "outputs": [
    {
     "name": "stdout",
     "output_type": "stream",
     "text": [
      "nothing but a disgusting materialistic pageant of glistening abed remote control greed zombies totally devoid of any heart or heat a romantic comedy that has zero romantic chemestry and zero laughs\n"
     ]
    }
   ],
   "source": [
    "test_words = review_to_words(test_review)\n",
    "print(test_words)"
   ]
  },
  {
   "cell_type": "markdown",
   "metadata": {},
   "source": [
    "Next, we need to construct a bag of words embedding of the `test_words` string. To do this, remember that a bag of words embedding uses a `vocabulary` consisting of the most frequently appearing words in a set of documents. Then, for each word in the vocabulary we record the number of times that word appears in `test_words`. We constructed the `vocabulary` earlier using the training set for our problem so encoding `test_words` is relatively straightforward."
   ]
  },
  {
   "cell_type": "code",
   "execution_count": 38,
   "metadata": {},
   "outputs": [],
   "source": [
    "def bow_encoding(words, vocabulary):\n",
    "    bow = [0] * len(vocabulary) # Start by setting the count for each word in the vocabulary to zero.\n",
    "    for word in words.split():  # For each word in the string\n",
    "        if word in vocabulary:  # If the word is one that occurs in the vocabulary, increase its count.\n",
    "            bow[vocabulary[word]] += 1\n",
    "    return bow"
   ]
  },
  {
   "cell_type": "code",
   "execution_count": 39,
   "metadata": {},
   "outputs": [
    {
     "name": "stdout",
     "output_type": "stream",
     "text": [
      "[0, 0, 0, 0, 0, 0, 0, 0, 0, 0, 0, 0, 0, 0, 0, 0, 0, 0, 0, 0, 0, 0, 0, 0, 0, 0, 0, 0, 0, 0, 0, 0, 0, 0, 0, 0, 0, 0, 0, 0, 0, 0, 0, 0, 0, 0, 0, 0, 0, 0, 0, 0, 0, 0, 0, 0, 0, 0, 0, 0, 0, 0, 0, 0, 0, 0, 0, 0, 0, 0, 0, 0, 0, 0, 0, 0, 0, 0, 0, 0, 0, 0, 0, 0, 0, 0, 0, 0, 0, 0, 0, 0, 0, 0, 0, 0, 0, 0, 0, 0, 0, 0, 0, 0, 0, 0, 0, 0, 0, 0, 0, 0, 0, 0, 0, 0, 0, 0, 0, 0, 0, 0, 0, 0, 0, 0, 0, 0, 0, 0, 0, 0, 0, 0, 0, 0, 0, 0, 0, 0, 0, 0, 0, 0, 0, 0, 0, 0, 0, 0, 0, 0, 0, 0, 0, 0, 0, 0, 0, 0, 0, 0, 0, 0, 0, 0, 0, 0, 0, 0, 0, 0, 0, 0, 0, 0, 0, 0, 0, 0, 0, 0, 0, 0, 0, 0, 0, 0, 0, 0, 0, 0, 0, 0, 0, 0, 0, 0, 0, 0, 0, 0, 0, 0, 0, 0, 0, 0, 0, 0, 0, 0, 0, 0, 0, 0, 0, 0, 0, 0, 0, 0, 0, 0, 0, 0, 1, 0, 0, 0, 0, 0, 0, 0, 0, 0, 0, 0, 0, 0, 0, 0, 0, 0, 0, 0, 0, 0, 0, 0, 0, 0, 0, 0, 0, 0, 1, 0, 0, 0, 0, 0, 0, 0, 0, 0, 0, 0, 0, 0, 0, 0, 0, 0, 0, 0, 0, 0, 0, 0, 0, 0, 0, 0, 0, 0, 0, 0, 0, 0, 0, 0, 0, 0, 0, 0, 0, 0, 0, 0, 0, 0, 0, 0, 0, 0, 0, 0, 0, 0, 0, 0, 0, 0, 0, 0, 0, 0, 0, 0, 0, 0, 0, 0, 0, 0, 0, 0, 0, 0, 0, 0, 0, 0, 0, 0, 0, 0, 0, 0, 0, 0, 0, 0, 0, 0, 0, 0, 0, 0, 0, 0, 0, 0, 0, 0, 0, 0, 0, 0, 0, 0, 0, 0, 0, 0, 0, 0, 0, 0, 0, 0, 0, 0, 0, 0, 0, 0, 0, 0, 0, 0, 0, 0, 0, 0, 0, 0, 0, 0, 0, 0, 0, 0, 0, 0, 0, 0, 0, 0, 0, 0, 0, 0, 0, 0, 0, 0, 0, 0, 0, 0, 0, 0, 0, 0, 0, 0, 0, 0, 0, 0, 0, 0, 0, 0, 0, 0, 0, 0, 0, 0, 0, 0, 0, 0, 0, 0, 0, 0, 0, 0, 0, 0, 0, 0, 0, 0, 0, 0, 0, 0, 0, 0, 0, 0, 0, 0, 0, 0, 0, 0, 0, 0, 0, 0, 0, 0, 0, 0, 0, 0, 0, 0, 0, 0, 0, 0, 0, 0, 0, 0, 0, 0, 0, 0, 0, 0, 0, 0, 0, 0, 0, 0, 0, 0, 0, 0, 0, 0, 0, 0, 0, 0, 0, 0, 0, 0, 0, 0, 0, 0, 0, 0, 0, 0, 0, 0, 0, 0, 0, 0, 0, 0, 0, 0, 0, 0, 0, 0, 0, 0, 0, 0, 0, 0, 0, 0, 0, 0, 0, 0, 0, 0, 0, 0, 0, 0, 0, 0, 0, 0, 0, 0, 0, 0, 0, 0, 0, 0, 0, 0, 0, 0, 0, 0, 0, 0, 0, 0, 0, 0, 0, 0, 0, 0, 0, 0, 0, 0, 0, 0, 0, 0, 0, 0, 0, 0, 0, 0, 0, 0, 0, 0, 0, 0, 0, 0, 0, 0, 0, 0, 0, 0, 0, 0, 0, 0, 0, 0, 0, 0, 0, 0, 0, 0, 0, 0, 0, 0, 0, 0, 0, 0, 0, 0, 0, 0, 0, 0, 0, 0, 0, 0, 0, 0, 1, 0, 0, 0, 0, 0, 0, 0, 0, 0, 0, 0, 0, 0, 0, 0, 0, 0, 0, 0, 0, 0, 0, 0, 0, 0, 0, 0, 0, 0, 0, 0, 0, 0, 0, 0, 0, 0, 0, 0, 0, 0, 0, 0, 0, 0, 0, 0, 0, 0, 0, 0, 0, 0, 0, 0, 0, 0, 0, 0, 0, 0, 0, 0, 0, 0, 0, 0, 0, 0, 0, 0, 0, 0, 0, 0, 0, 0, 0, 0, 0, 0, 0, 0, 0, 0, 0, 0, 0, 0, 0, 0, 0, 0, 0, 0, 0, 0, 0, 0, 0, 0, 0, 0, 0, 0, 0, 0, 0, 0, 0, 0, 0, 0, 0, 0, 0, 0, 0, 0, 0, 0, 0, 0, 0, 0, 0, 0, 0, 0, 0, 0, 0, 0, 0, 0, 0, 0, 0, 0, 0, 0, 0, 0, 0, 0, 0, 0, 0, 0, 0, 0, 0, 0, 0, 0, 0, 0, 0, 0, 0, 0, 0, 0, 0, 0, 0, 0, 0, 0, 0, 0, 0, 0, 0, 0, 0, 0, 0, 0, 0, 0, 0, 0, 0, 0, 0, 0, 0, 0, 0, 0, 0, 0, 0, 0, 0, 0, 0, 0, 0, 0, 0, 0, 0, 0, 0, 0, 0, 0, 0, 0, 0, 0, 0, 0, 0, 0, 0, 0, 0, 0, 0, 0, 0, 0, 0, 0, 0, 0, 0, 0, 0, 0, 0, 0, 0, 0, 0, 0, 0, 0, 0, 0, 0, 0, 0, 0, 0, 0, 0, 0, 0, 0, 1, 0, 0, 0, 0, 0, 0, 0, 0, 0, 0, 0, 0, 0, 0, 0, 0, 0, 0, 0, 0, 0, 0, 0, 0, 0, 0, 0, 0, 0, 0, 0, 0, 0, 0, 0, 0, 0, 0, 0, 0, 0, 0, 0, 0, 0, 0, 0, 0, 0, 0, 0, 0, 0, 0, 0, 0, 0, 0, 0, 0, 0, 0, 0, 0, 0, 0, 0, 0, 0, 0, 0, 0, 0, 0, 0, 0, 0, 0, 0, 0, 0, 0, 0, 0, 0, 0, 1, 0, 0, 0, 0, 0, 0, 0, 0, 0, 0, 0, 0, 0, 0, 0, 0, 0, 0, 0, 0, 0, 0, 0, 0, 0, 0, 0, 0, 0, 0, 0, 0, 0, 0, 0, 0, 0, 0, 0, 0, 0, 0, 0, 0, 0, 0, 0, 0, 0, 0, 0, 0, 0, 0, 0, 0, 0, 0, 0, 0, 0, 0, 0, 0, 0, 0, 0, 0, 0, 0, 0, 0, 0, 0, 0, 0, 0, 0, 0, 0, 0, 0, 0, 0, 0, 0, 0, 0, 0, 0, 0, 0, 0, 0, 0, 0, 0, 0, 0, 0, 0, 0, 0, 0, 0, 0, 0, 0, 0, 0, 0, 0, 0, 0, 0, 0, 0, 0, 0, 0, 0, 0, 0, 0, 0, 0, 0, 0, 0, 0, 0, 0, 0, 0, 0, 0, 0, 0, 0, 0, 0, 0, 0, 0, 0, 0, 0, 0, 0, 0, 0, 0, 0, 0, 0, 0, 0, 0, 0, 0, 0, 0, 0, 0, 0, 0, 0, 0, 0, 0, 0, 0, 0, 0, 0, 0, 0, 0, 0, 0, 0, 0, 0, 0, 0, 0, 0, 0, 0, 0, 0, 0, 0, 0, 0, 0, 0, 0, 0, 0, 0, 0, 0, 0, 0, 0, 0, 0, 0, 0, 0, 0, 0, 0, 0, 0, 0, 0, 0, 0, 0, 0, 0, 0, 0, 0, 0, 0, 0, 0, 0, 0, 0, 0, 0, 0, 0, 0, 0, 0, 0, 0, 0, 0, 0, 0, 0, 0, 0, 0, 0, 0, 1, 0, 0, 0, 0, 0, 0, 0, 0, 0, 0, 0, 0, 0, 0, 0, 0, 0, 0, 0, 0, 0, 0, 0, 0, 0, 0, 0, 0, 0, 0, 0, 0, 0, 0, 0, 0, 0, 0, 0, 0, 0, 0, 0, 0, 0, 0, 0, 0, 0, 0, 0, 0, 0, 0, 0, 1, 0, 0, 0, 0, 0, 0, 0, 0, 0, 0, 0, 0, 0, 0, 0, 0, 0, 0, 0, 0, 0, 0, 0, 0, 0, 0, 0, 0, 0, 0, 0, 0, 0, 0, 0, 0, 0, 0, 0, 0, 0, 0, 0, 0, 0, 0, 0, 0, 0, 0, 0, 0, 0, 0, 0, 0, 0, 0, 0, 0, 0, 0, 0, 0, 0, 0, 0, 0, 0, 0, 0, 0, 0, 0, 0, 0, 0, 0, 0, 0, 0, 0, 0, 0, 0, 0, 0, 0, 0, 0, 0, 0, 0, 0, 0, 0, 0, 0, 0, 0, 0, 0, 0, 0, 0, 0, 0, 0, 0, 0, 0, 0, 0, 0, 0, 0, 0, 0, 0, 0, 0, 0, 0, 0, 0, 0, 0, 0, 0, 0, 0, 0, 0, 0, 0, 0, 0, 0, 0, 0, 0, 0, 0, 0, 0, 0, 0, 0, 0, 0, 0, 0, 0, 0, 0, 0, 0, 0, 0, 0, 0, 0, 0, 0, 0, 0, 0, 0, 0, 0, 0, 0, 0, 0, 0, 0, 0, 0, 0, 0, 0, 0, 0, 0, 0, 0, 0, 0, 0, 0, 0, 0, 0, 0, 0, 0, 0, 0, 0, 0, 0, 0, 0, 0, 0, 0, 0, 0, 0, 0, 0, 0, 0, 0, 0, 0, 0, 0, 0, 0, 0, 0, 0, 0, 0, 0, 0, 0, 0, 0, 0, 0, 0, 0, 0, 0, 0, 0, 0, 0, 0, 0, 0, 0, 0, 0, 0, 0, 0, 0, 0, 0, 0, 0, 0, 0, 0, 0, 0, 0, 0, 0, 0, 0, 0, 0, 0, 0, 0, 0, 0, 0, 0, 0, 0, 0, 0, 0, 0, 0, 0, 0, 0, 0, 0, 0, 0, 0, 0, 0, 0, 0, 0, 0, 0, 0, 0, 0, 0, 0, 0, 0, 0, 0, 0, 0, 0, 0, 0, 0, 0, 0, 0, 0, 0, 0, 0, 0, 0, 0, 0, 0, 0, 0, 0, 0, 0, 0, 0, 0, 0, 0, 0, 0, 0, 0, 0, 0, 0, 0, 0, 0, 0, 0, 0, 0, 0, 0, 0, 0, 0, 0, 0, 0, 0, 0, 0, 0, 0, 0, 0, 0, 0, 0, 0, 0, 0, 0, 0, 0, 0, 0, 0, 0, 0, 0, 0, 0, 0, 0, 0, 0, 0, 0, 0, 0, 0, 0, 0, 0, 0, 0, 0, 0, 0, 0, 0, 0, 0, 0, 0, 0, 0, 0, 0, 0, 0, 0, 0, 0, 0, 0, 0, 0, 0, 0, 0, 0, 0, 0, 0, 0, 0, 0, 0, 0, 0, 0, 0, 0, 0, 0, 0, 0, 0, 0, 0, 0, 0, 0, 0, 0, 0, 0, 0, 0, 0, 0, 0, 0, 0, 0, 0, 0, 0, 0, 0, 0, 0, 0, 0, 0, 0, 0, 0, 0, 0, 0, 0, 0, 0, 0, 0, 0, 0, 0, 0, 0, 0, 0, 0, 0, 0, 0, 0, 0, 0, 0, 0, 0, 0, 0, 0, 0, 0, 0, 0, 0, 0, 0, 0, 0, 0, 0, 0, 0, 0, 0, 0, 0, 0, 0, 0, 0, 0, 0, 0, 0, 0, 0, 0, 0, 0, 0, 0, 0, 0, 0, 0, 0, 0, 0, 0, 0, 0, 0, 0, 0, 0, 0, 0, 0, 0, 0, 0, 0, 0, 0, 0, 0, 0, 0, 0, 0, 0, 0, 0, 0, 0, 0, 0, 0, 0, 0, 0, 0, 0, 0, 0, 0, 0, 0, 0, 0, 0, 0, 0, 0, 0, 0, 0, 0, 0, 0, 0, 0, 0, 0, 0, 0, 0, 0, 0, 0, 0, 0, 0, 0, 0, 0, 0, 0, 0, 0, 0, 0, 0, 0, 0, 0, 0, 0, 0, 0, 0, 0, 0, 0, 0, 0, 0, 0, 0, 0, 0, 0, 0, 0, 0, 0, 0, 0, 0, 0, 0, 0, 0, 0, 0, 0, 0, 0, 0, 0, 0, 0, 0, 0, 0, 0, 0, 0, 0, 0, 0, 0, 0, 0, 0, 0, 0, 0, 0, 0, 0, 0, 0, 0, 0, 0, 0, 0, 0, 0, 0, 0, 0, 0, 0, 0, 0, 1, 0, 0, 0, 0, 0, 0, 0, 0, 0, 0, 0, 0, 0, 0, 0, 0, 0, 0, 0, 0, 0, 0, 0, 0, 0, 0, 0, 0, 0, 0, 0, 0, 0, 0, 0, 0, 0, 0, 0, 0, 0, 0, 0, 0, 0, 0, 0, 0, 0, 0, 0, 0, 0, 0, 0, 0, 0, 0, 0, 0, 0, 0, 0, 0, 0, 0, 0, 0, 0, 0, 0, 0, 0, 0, 1, 0, 0, 0, 0, 0, 0, 0, 0, 0, 0, 0, 0, 0, 0, 0, 0, 0, 0, 0, 0, 1, 0, 0, 1, 0, 0, 0, 0, 0, 0, 0, 0, 0, 0, 0, 0, 0, 0, 0, 0, 0, 0, 0, 0, 0, 0, 0, 0, 0, 0, 0, 0, 0, 0, 0, 0, 0, 0, 0, 0, 0, 0, 0, 0, 0, 0, 0, 0, 0, 0, 0, 0, 0, 0, 0, 0, 0, 0, 0, 0, 0, 0, 0, 0, 0, 0, 0, 0, 0, 0, 0, 0, 0, 0, 0, 0, 0, 0, 0, 0, 0, 0, 0, 0, 0, 0, 0, 0, 0, 0, 0, 0, 0, 0, 0, 0, 0, 0, 0, 0, 0, 0, 0, 0, 0, 0, 0, 0, 0, 0, 0, 0, 0, 0, 0, 0, 0, 0, 0, 0, 0, 0, 0, 0, 0, 0, 0, 0, 0, 0, 0, 0, 0, 0, 0, 0, 0, 0, 0, 0, 0, 0, 0, 0, 0, 0, 0, 0, 0, 0, 0, 0, 0, 0, 0, 0, 0, 0, 0, 0, 0, 0, 0, 0, 0, 0, 0, 0, 0, 0, 0, 0, 0, 0, 0, 0, 0, 0, 0, 0, 0, 0, 0, 0, 0, 0, 0, 0, 0, 0, 0, 0, 0, 0, 0, 0, 0, 0, 0, 0, 0, 0, 0, 0, 0, 0, 0, 0, 0, 0, 0, 0, 0, 0, 0, 0, 0, 0, 0, 0, 0, 0, 0, 0, 0, 0, 0, 0, 0, 0, 0, 0, 0, 0, 0, 0, 0, 0, 0, 0, 0, 0, 0, 0, 0, 0, 0, 0, 0, 0, 0, 0, 0, 0, 0, 0, 0, 0, 0, 0, 0, 0, 0, 0, 0, 0, 0, 0, 0, 0, 0, 0, 0, 0, 0, 0, 0, 0, 0, 0, 0, 0, 0, 0, 0, 0, 0, 0, 0, 0, 0, 0, 0, 0, 0, 0, 0, 0, 0, 0, 0, 0, 0, 0, 0, 0, 0, 0, 0, 0, 0, 0, 0, 0, 0, 0, 0, 0, 0, 0, 0, 0, 0, 0, 0, 0, 0, 0, 0, 0, 0, 0, 0, 0, 0, 0, 0, 0, 0, 0, 0, 0, 0, 0, 0, 0, 0, 0, 0, 0, 0, 0, 0, 0, 0, 0, 0, 0, 0, 0, 0, 0, 0, 0, 0, 0, 0, 0, 0, 0, 0, 0, 0, 0, 0, 0, 0, 0, 0, 0, 0, 0, 0, 0, 0, 0, 0, 0, 0, 0, 0, 0, 0, 0, 0, 0, 0, 0, 0, 0, 0, 0, 0, 0, 0, 0, 0, 0, 0, 0, 0, 0, 0, 0, 0, 0, 0, 0, 0, 0, 0, 0, 0, 0, 0, 0, 0, 0, 0, 0, 0, 0, 0, 0, 0, 0, 0, 0, 0, 0, 0, 0, 0, 0, 0, 0, 0, 0, 0, 0, 0, 0, 0, 0, 0, 0, 0, 0, 0, 0, 0, 0, 0, 0, 0, 0, 0, 0, 0, 0, 1, 0, 0, 0, 0, 0, 0, 0, 0, 0, 0, 0, 0, 0, 0, 0, 0, 0, 0, 0, 0, 0, 0, 0, 0, 0, 0, 0, 0, 0, 0, 0, 0, 0, 0, 0, 0, 0, 0, 0, 0, 0, 0, 0, 0, 0, 0, 0, 0, 0, 0, 0, 0, 0, 0, 0, 0, 0, 0, 0, 0, 0, 0, 0, 0, 0, 0, 0, 0, 0, 0, 0, 0, 0, 0, 0, 0, 0, 0, 0, 0, 0, 0, 0, 0, 0, 0, 0, 0, 0, 0, 0, 0, 0, 0, 0, 0, 0, 0, 0, 0, 0, 0, 0, 0, 0, 0, 0, 0, 0, 0, 0, 0, 0, 0, 0, 0, 0, 0, 0, 0, 0, 0, 0, 0, 0, 0, 0, 0, 0, 0, 0, 0, 0, 0, 0, 0, 0, 0, 0, 0, 0, 0, 0, 0, 0, 0, 0, 0, 0, 0, 0, 0, 0, 0, 0, 0, 0, 0, 0, 0, 0, 0, 0, 0, 0, 0, 0, 0, 0, 0, 0, 0, 0, 0, 0, 0, 0, 0, 0, 0, 0, 0, 0, 0, 0, 0, 0, 0, 0, 0, 0, 0, 0, 0, 0, 0, 0, 0, 0, 0, 0, 0, 0, 0, 0, 0, 0, 0, 0, 0, 0, 0, 0, 0, 0, 0, 0, 0, 0, 0, 0, 0, 0, 0, 0, 0, 0, 0, 0, 0, 0, 0, 0, 0, 0, 0, 0, 0, 0, 0, 0, 0, 0, 0, 0, 0, 0, 0, 0, 0, 0, 0, 0, 0, 0, 0, 0, 0, 0, 0, 0, 0, 0, 0, 0, 0, 0, 0, 0, 0, 0, 0, 0, 0, 0, 0, 0, 0, 0, 0, 0, 0, 0, 0, 0, 0, 0, 0, 0, 0, 0, 0, 0, 0, 0, 0, 0, 0, 0, 0, 0, 0, 0, 0, 0, 0, 0, 0, 0, 0, 0, 0, 0, 0, 0, 0, 0, 0, 0, 0, 0, 0, 0, 0, 0, 0, 0, 0, 0, 0, 0, 0, 0, 0, 0, 0, 0, 0, 0, 0, 0, 0, 0, 0, 0, 0, 0, 0, 0, 0, 0, 0, 0, 0, 0, 0, 0, 0, 0, 0, 0, 0, 0, 0, 0, 0, 0, 0, 0, 0, 0, 0, 0, 0, 0, 0, 0, 0, 0, 0, 0, 0, 0, 0, 0, 0, 0, 0, 0, 0, 0, 0, 0, 0, 0, 0, 0, 0, 0, 0, 0, 0, 0, 0, 0, 0, 0, 0, 0, 0, 0, 0, 0, 0, 0, 0, 0, 0, 0, 0, 0, 0, 0, 0, 0, 0, 0, 0, 0, 0, 0, 0, 0, 0, 0, 0, 0, 0, 0, 0, 0, 0, 0, 0, 0, 0, 0, 0, 0, 0, 0, 0, 0, 0, 0, 0, 0, 0, 0, 0, 0, 0, 0, 0, 0, 0, 0, 0, 0, 0, 0, 0, 0, 0, 0, 0, 0, 0, 0, 0, 0, 0, 0, 0, 0, 0, 0, 0, 0, 0, 0, 0, 0, 0, 0, 0, 0, 0, 0, 0, 0, 0, 0, 0, 0, 0, 0, 0, 0, 0, 0, 0, 1, 0, 0, 0, 0, 0, 0, 0, 0, 0, 0, 0, 0, 0, 0, 0, 0, 0, 0, 0, 0, 0, 0, 0, 0, 0, 0, 0, 0, 0, 0, 0, 0, 0, 0, 0, 2, 0, 0, 0, 0, 0, 0, 0, 0, 0, 0, 0, 0, 0, 0, 0, 0, 0, 0, 0, 0, 0, 0, 0, 0, 0, 0, 0, 0, 0, 0, 0, 0, 0, 0, 0, 0, 0, 0, 0, 0, 1, 0, 0, 0, 0, 0, 0, 0, 0, 0, 0, 0, 0, 0, 0, 0, 0, 0, 0, 0, 0, 0, 0, 0, 0, 0, 0, 0, 0, 0, 0, 0, 0, 0, 0, 0, 0, 0, 0, 0, 0, 0, 0, 0, 0, 0, 0, 0, 0, 0, 0, 0, 0, 0, 0, 0, 0, 0, 0, 0, 0, 0, 0, 0, 0, 0, 0, 0, 0, 0, 0, 0, 0, 0, 0, 0, 0, 0, 0, 0, 0, 0, 0, 0, 0, 0, 0, 0, 0, 0, 0, 0, 0, 0, 0, 0, 0, 0, 0, 0, 0, 0, 0, 0, 0, 0, 0, 0, 0, 0, 0, 0, 0, 0, 0, 0, 0, 0, 0, 0, 0, 0, 0, 0, 0, 0, 0, 0, 0, 0, 0, 0, 0, 0, 0, 0, 0, 0, 0, 0, 0, 0, 0, 0, 0, 0, 0, 0, 0, 0, 0, 0, 0, 0, 0, 0, 0, 0, 0, 0, 0, 0, 0, 0, 0, 0, 0, 0, 0, 0, 0, 0, 0, 0, 0, 0, 0, 0, 0, 0, 0, 0, 0, 0, 0, 0, 0, 0, 0, 0, 0, 0, 0, 0, 0, 0, 0, 0, 0, 0, 0, 0, 0, 0, 0, 0, 0, 0, 0, 0, 0, 0, 0, 0, 0, 0, 0, 0, 0, 0, 0, 0, 0, 0, 0, 0, 0, 0, 0, 0, 0, 0, 0, 0, 0, 0, 0, 0, 0, 0, 0, 0, 0, 0, 0, 0, 0, 0, 0, 0, 0, 0, 0, 0, 0, 0, 0, 0, 0, 0, 0, 0, 0, 0, 0, 0, 0, 0, 0, 0, 0, 0, 0, 0, 0, 0, 0, 0, 0, 0, 0, 0, 0, 0, 0, 0, 0, 0, 0, 0, 0, 0, 0, 0, 0, 0, 0, 0, 0, 0, 0, 0, 0, 0, 0, 0, 0, 0, 0, 0, 0, 0, 0, 0, 0, 0, 0, 0, 0, 0, 0, 0, 0, 0, 0, 0, 0, 0, 0, 0, 0, 0, 0, 0, 0, 0, 0, 0, 0, 0, 0, 0, 0, 0, 0, 0, 0, 0, 0, 0, 0, 0, 0, 0, 0, 0, 0, 0, 0, 0, 0, 0, 0, 0, 0, 0, 0, 0, 0, 0, 0, 0, 0, 0, 0, 0, 0, 0, 0, 0, 0, 0, 0, 0, 0, 0, 0, 0, 0, 0, 0, 0, 0, 0, 0, 0, 0, 0, 0, 0, 0, 0, 0, 0, 0, 0, 0, 0, 0, 0, 0, 0, 0, 0, 0, 0, 0, 0, 0, 0, 0, 0, 0, 0, 0, 0, 0, 0, 0, 0, 0, 0, 0, 0, 0, 0, 0, 0, 0, 0, 0, 0, 0, 0, 0, 0, 0, 0, 0, 0, 0, 0, 0, 0, 0, 0, 0, 0, 0, 0, 0, 0, 0, 0, 0, 0, 0, 0, 0, 0, 0, 0, 0, 0, 0, 0, 0, 0, 0, 0, 0, 0, 0, 0, 0, 0, 0, 0, 0, 0, 0, 0, 0, 0, 0, 0, 0, 0, 1, 0, 0, 0, 0, 0, 0, 0, 0, 0, 0, 0, 0, 0, 0, 0, 0, 0, 0, 0, 0, 0, 0, 0, 0, 0, 0, 0, 0, 0, 0, 0, 0, 0, 0, 0, 0, 0, 0, 0, 0, 0, 0, 0, 0, 0, 0, 0, 0, 0, 0, 0, 0, 0, 0, 0, 0, 0, 0, 0, 0, 0, 0, 0, 0, 0, 0, 0, 0, 0, 0, 0, 0, 0, 0, 0, 0, 0, 0, 0, 0, 0, 0, 0, 0, 0, 0, 0, 0, 0, 0, 0, 0, 0, 0, 0, 0, 0, 0, 0, 0, 0, 0, 0, 0, 0, 0, 0, 0, 0, 0, 2, 0, 0, 0, 0, 0, 0, 0, 0, 0, 0, 0, 0, 0, 0, 0, 0, 0, 0, 0, 0, 0, 0, 0, 0, 0, 0, 0, 0, 0, 0, 0, 0, 0, 0, 0, 0, 0, 0, 0, 0, 0, 0, 0, 0, 0, 0, 0, 0, 0, 0, 0, 0, 0, 0, 0, 0, 0, 0, 0, 0, 0, 0, 0, 0, 0, 0, 0, 0, 0, 0, 0, 0, 0, 0, 0, 0, 0, 0, 0, 0, 0, 0, 0, 0, 0, 0, 0, 0, 0, 0, 0, 0, 0, 0, 0, 0, 0, 0, 0, 0, 0, 0, 0, 0, 0, 0, 0, 0, 0, 0, 0, 0, 0, 0, 0, 0, 0, 0, 0, 0, 0, 0, 0, 0, 0, 0, 0, 0, 0, 0, 0, 0, 0, 0, 0, 0, 0, 0, 0, 0, 0, 0, 0, 0, 0, 0, 0, 0, 0, 0, 0, 0, 0, 0, 0, 0, 0, 0, 0, 0, 0, 0, 0, 0, 0, 0, 0, 0, 0, 0, 0, 0, 0, 0, 0, 0, 0, 0, 0, 0, 0, 0, 0, 0, 0, 0, 0, 0, 0, 0, 0, 0, 0, 0, 0, 0, 0, 0, 0, 0, 0, 0, 0, 0, 0, 0, 0, 0, 0, 0, 0, 0, 0, 0, 0, 0, 0, 0, 0, 0, 0, 0, 0, 0, 0, 0, 0, 0, 0, 0, 0, 0, 0, 0, 0, 0, 0, 0, 0, 0, 0, 0, 0, 0, 0, 0, 0, 0, 0, 0, 0, 0, 0, 0, 0, 0, 0, 0, 0, 0, 0, 0, 0, 0, 0, 0, 0, 0, 0, 0, 0, 0, 0, 0, 0, 0, 0, 0, 0, 0, 0, 0, 0, 0, 0, 0, 0, 0, 0, 0, 0, 0, 0, 0, 0, 0, 0, 0, 0, 0, 0, 0, 0, 0, 0, 0, 0, 0, 0, 0, 0, 0, 0, 0, 0, 0, 0, 0, 0, 0, 0, 0, 0, 0, 0, 0, 0, 0, 0, 0, 0, 0, 0, 0, 0, 0, 0, 0, 0, 0, 0, 0, 0, 0, 0, 0, 0, 0, 0, 0, 0, 0, 0, 0, 0, 0, 0, 0, 0, 0, 0, 0, 0, 0, 0, 0, 0, 0, 0, 0, 0, 0, 0, 0, 0, 0, 0, 0, 0, 0, 0, 0, 0, 0, 0, 0, 0, 0, 0, 0, 0, 0, 0, 0, 0, 0, 0, 0, 0, 0, 0, 0, 0, 0, 0, 0, 0, 0, 0, 0, 0, 0, 0, 0, 0, 0, 0, 0, 0, 0, 0, 0, 0, 0, 0, 0, 0, 0, 0, 0, 0, 0, 0, 0, 0, 0, 0, 0, 0, 0, 0, 0, 0, 0, 0, 0, 0, 0, 0, 0, 0, 0, 0, 0, 0, 0, 0, 0, 0, 0, 0, 0, 0, 0, 0, 0, 0, 0, 0, 0, 0, 0, 0, 0, 0, 0, 0, 0, 0, 0, 0, 0, 0, 0, 0, 0, 0, 0, 0, 0, 0, 0, 0, 0, 0, 0, 0, 0, 0, 0, 0, 0, 0, 0, 0, 0, 0, 0, 0, 0, 0, 0, 0, 0, 0, 0, 0, 0, 0, 0, 0, 0, 0, 0, 0, 0, 0, 0, 0, 0, 0, 0, 0, 0, 0, 0, 0, 0, 0, 0, 0, 0, 0, 0, 0, 0, 0, 0, 0, 0, 0, 0, 0, 0, 0, 0, 0, 0, 0, 0, 0, 0, 0, 0, 0, 0, 0, 0, 0, 0, 0, 0, 0, 0, 0, 0, 0, 0, 0, 0, 0, 0, 0, 0, 0, 0, 0, 0, 0, 0, 0, 0, 0, 0, 0, 0, 0, 0, 0, 0, 0, 0, 0, 0, 0, 0, 0, 0, 0, 0, 0, 0, 0, 0, 0, 0, 0, 0, 0, 0, 0, 0, 0, 0, 0, 0, 0, 0, 0, 0, 0, 0, 0, 0, 0, 0, 0, 0, 0, 0, 0, 0, 0, 0, 0, 0, 0, 0, 0, 0, 0, 0, 0, 0, 0, 0, 0, 0, 0, 0, 0, 0, 0, 0, 0, 0, 0, 0, 0, 0, 0, 0, 0, 0, 0, 0, 0, 0, 0, 0, 0, 0, 0, 0, 0, 0, 0, 0, 0, 0, 1, 0, 0, 0, 0, 0, 0, 0, 0, 0, 0, 0, 0, 0, 0, 0, 0, 0, 0, 0, 0, 0, 0, 0, 0, 0, 0, 0, 0, 0, 0, 0, 0, 0, 0, 0, 0, 0, 0, 0, 0, 0, 0, 0, 0, 0, 0, 0, 0, 0, 0, 0, 0, 0, 0, 0, 0, 0, 0, 0, 0, 0, 0, 0, 0, 0, 0, 0, 0, 0, 0, 0, 0, 0, 0, 0, 0, 0, 0, 0, 0, 0, 0, 0, 0, 0, 0, 0, 0, 0, 0, 0, 0, 0, 0, 0, 0, 0, 0, 0, 0, 0, 0, 0, 0, 0, 0, 0, 1, 0, 0, 0, 0, 0, 0, 0, 0, 0, 0, 0, 0, 0, 0, 0, 0, 0, 0, 0, 0, 0, 0, 0, 0, 0, 0, 0, 0, 0, 0, 0, 0, 0, 0, 0, 0, 0, 0, 0, 0, 0, 0, 0, 0, 0, 0, 0, 0, 0, 0, 0, 0, 0, 0, 0, 0, 0, 0, 0, 0, 0, 0, 0, 0, 0, 0, 0, 0, 0, 0, 0, 0, 0, 0, 0, 0, 0, 0, 0, 0, 0, 0, 0, 0, 0, 0, 0, 0, 0, 0, 0, 0, 0, 0, 0, 0, 0, 0, 0, 0, 0, 0, 0, 0, 0, 0, 0, 0, 0, 0, 0, 0, 0, 0, 0, 0, 0, 0, 0, 0, 0, 0, 0, 0, 0, 0, 0, 0, 0, 0, 0, 0, 0, 0, 0, 0, 0, 0, 0, 0, 0, 0, 0, 0, 0, 0, 0, 0, 0, 0, 0, 0, 0, 0, 0, 0, 0, 0, 0, 0, 0, 0, 0, 0, 0, 0, 0, 0, 0, 0, 0, 0, 0, 0, 0, 0, 0, 0, 0, 0, 0, 0, 0, 0, 0, 0, 0, 0, 0, 0, 0, 0, 0, 0, 0, 0, 0, 0, 0, 0, 0, 0, 0, 0, 0, 0, 0, 0, 0, 0, 0, 0, 0, 0, 0, 0, 0, 0, 0, 0, 0, 0, 0, 0, 0, 0, 0, 0, 0, 0, 0, 0, 0, 0, 0, 0, 0, 0, 0, 0, 0, 0, 0, 0, 0, 0, 0, 0, 0, 0, 0, 0, 0, 0, 0, 0, 0, 0, 0, 0, 0, 0, 0, 0, 0, 0, 0, 0, 0, 0, 0, 0, 0, 0, 0, 0, 0, 0, 0, 0, 0, 0, 0, 0, 0, 0, 0, 0, 0, 0, 0, 0, 0, 0, 0, 0, 0, 0, 0, 0, 0, 0, 0, 0, 0, 0, 0, 0, 0, 0, 0, 0, 0, 0, 0, 0, 0, 0, 0, 0, 0, 0, 0, 0, 0, 0, 0, 0, 0, 0, 0, 0, 0, 0, 0, 0, 0, 0, 0, 0, 0, 0, 0, 0, 0, 0, 0, 0, 0, 0, 0, 0, 0, 0, 0, 0, 0, 0, 0, 0, 0, 0, 0, 0, 0, 0, 0, 0, 0, 0, 0, 0, 0, 0, 0, 0, 0, 0, 0, 0, 0, 0, 0, 0, 0, 0, 0, 0, 0, 0, 0, 0, 0, 0, 0, 0, 0, 0, 0, 0, 0, 0, 0, 0, 0, 0, 0, 0, 0, 0, 0, 0, 0, 0, 0, 0, 0, 0, 0, 0, 0, 0, 0, 0, 0, 0, 0, 0, 0, 0, 0, 0, 0, 0, 0, 0, 0, 0, 0, 0, 0, 0, 0, 0, 0, 0, 0, 0, 0, 0, 0, 0, 0, 0, 0, 0, 0, 0, 0, 0, 0, 0, 0, 2, 0, 1, 0]\n"
     ]
    }
   ],
   "source": [
    "test_bow = bow_encoding(test_words, vocabulary)\n",
    "print(test_bow)"
   ]
  },
  {
   "cell_type": "code",
   "execution_count": 40,
   "metadata": {},
   "outputs": [
    {
     "data": {
      "text/plain": [
       "5000"
      ]
     },
     "execution_count": 40,
     "metadata": {},
     "output_type": "execute_result"
    }
   ],
   "source": [
    "len(test_bow)"
   ]
  },
  {
   "cell_type": "markdown",
   "metadata": {},
   "source": [
    "So now we know how to construct a bag of words encoding of a user provided review, how to we send it to our endpoint? First, we need to start the endpoint back up."
   ]
  },
  {
   "cell_type": "code",
   "execution_count": 41,
   "metadata": {},
   "outputs": [
    {
     "name": "stderr",
     "output_type": "stream",
     "text": [
      "INFO:sagemaker:Creating model with name: xgboost-2019-01-20-15-43-30-464\n",
      "INFO:sagemaker:Creating endpoint with name xgboost-2019-01-20-15-14-46-694\n"
     ]
    },
    {
     "name": "stdout",
     "output_type": "stream",
     "text": [
      "--------------------------------------------------------------------------------------!"
     ]
    }
   ],
   "source": [
    "xgb_predictor = xgb.deploy(initial_instance_count = 1, instance_type = 'ml.t2.medium')"
   ]
  },
  {
   "cell_type": "markdown",
   "metadata": {},
   "source": [
    "At this point we could just do the same thing that we did earlier when we tested our deployed model and send `test_bow` to our endpoint using the `xgb_predictor` object. However, when we eventually construct our Lambda function we won't have access to this object, so how do we call a SageMaker endpoint?\n",
    "\n",
    "It turns out that Python functions that are used in Lambda have access to another Amazon library called `boto3`. This library provides an API for working with Amazon services, including SageMaker. To start with, we need to get a handle to the SageMaker runtime."
   ]
  },
  {
   "cell_type": "code",
   "execution_count": 42,
   "metadata": {},
   "outputs": [],
   "source": [
    "import boto3\n",
    "\n",
    "runtime = boto3.Session().client('sagemaker-runtime')"
   ]
  },
  {
   "cell_type": "markdown",
   "metadata": {},
   "source": [
    "And now that we have access to the SageMaker runtime, we can ask it to make use of (invoke) an endpoint that has already been created. However, we need to provide SageMaker with the name of the deployed endpoint. To find this out we can print it out using the `xgb_predictor` object."
   ]
  },
  {
   "cell_type": "code",
   "execution_count": 43,
   "metadata": {},
   "outputs": [
    {
     "data": {
      "text/plain": [
       "'xgboost-2019-01-20-15-14-46-694'"
      ]
     },
     "execution_count": 43,
     "metadata": {},
     "output_type": "execute_result"
    }
   ],
   "source": [
    "xgb_predictor.endpoint"
   ]
  },
  {
   "cell_type": "markdown",
   "metadata": {},
   "source": [
    "Using the SageMaker runtime and the name of our endpoint, we can invoke the endpoint and send it the `test_bow` data."
   ]
  },
  {
   "cell_type": "code",
   "execution_count": 44,
   "metadata": {},
   "outputs": [
    {
     "ename": "ParamValidationError",
     "evalue": "Parameter validation failed:\nInvalid type for parameter Body, value: [0, 0, 0, 0, 0, 0, 0, 0, 0, 0, 0, 0, 0, 0, 0, 0, 0, 0, 0, 0, 0, 0, 0, 0, 0, 0, 0, 0, 0, 0, 0, 0, 0, 0, 0, 0, 0, 0, 0, 0, 0, 0, 0, 0, 0, 0, 0, 0, 0, 0, 0, 0, 0, 0, 0, 0, 0, 0, 0, 0, 0, 0, 0, 0, 0, 0, 0, 0, 0, 0, 0, 0, 0, 0, 0, 0, 0, 0, 0, 0, 0, 0, 0, 0, 0, 0, 0, 0, 0, 0, 0, 0, 0, 0, 0, 0, 0, 0, 0, 0, 0, 0, 0, 0, 0, 0, 0, 0, 0, 0, 0, 0, 0, 0, 0, 0, 0, 0, 0, 0, 0, 0, 0, 0, 0, 0, 0, 0, 0, 0, 0, 0, 0, 0, 0, 0, 0, 0, 0, 0, 0, 0, 0, 0, 0, 0, 0, 0, 0, 0, 0, 0, 0, 0, 0, 0, 0, 0, 0, 0, 0, 0, 0, 0, 0, 0, 0, 0, 0, 0, 0, 0, 0, 0, 0, 0, 0, 0, 0, 0, 0, 0, 0, 0, 0, 0, 0, 0, 0, 0, 0, 0, 0, 0, 0, 0, 0, 0, 0, 0, 0, 0, 0, 0, 0, 0, 0, 0, 0, 0, 0, 0, 0, 0, 0, 0, 0, 0, 0, 0, 0, 0, 0, 0, 0, 0, 1, 0, 0, 0, 0, 0, 0, 0, 0, 0, 0, 0, 0, 0, 0, 0, 0, 0, 0, 0, 0, 0, 0, 0, 0, 0, 0, 0, 0, 0, 1, 0, 0, 0, 0, 0, 0, 0, 0, 0, 0, 0, 0, 0, 0, 0, 0, 0, 0, 0, 0, 0, 0, 0, 0, 0, 0, 0, 0, 0, 0, 0, 0, 0, 0, 0, 0, 0, 0, 0, 0, 0, 0, 0, 0, 0, 0, 0, 0, 0, 0, 0, 0, 0, 0, 0, 0, 0, 0, 0, 0, 0, 0, 0, 0, 0, 0, 0, 0, 0, 0, 0, 0, 0, 0, 0, 0, 0, 0, 0, 0, 0, 0, 0, 0, 0, 0, 0, 0, 0, 0, 0, 0, 0, 0, 0, 0, 0, 0, 0, 0, 0, 0, 0, 0, 0, 0, 0, 0, 0, 0, 0, 0, 0, 0, 0, 0, 0, 0, 0, 0, 0, 0, 0, 0, 0, 0, 0, 0, 0, 0, 0, 0, 0, 0, 0, 0, 0, 0, 0, 0, 0, 0, 0, 0, 0, 0, 0, 0, 0, 0, 0, 0, 0, 0, 0, 0, 0, 0, 0, 0, 0, 0, 0, 0, 0, 0, 0, 0, 0, 0, 0, 0, 0, 0, 0, 0, 0, 0, 0, 0, 0, 0, 0, 0, 0, 0, 0, 0, 0, 0, 0, 0, 0, 0, 0, 0, 0, 0, 0, 0, 0, 0, 0, 0, 0, 0, 0, 0, 0, 0, 0, 0, 0, 0, 0, 0, 0, 0, 0, 0, 0, 0, 0, 0, 0, 0, 0, 0, 0, 0, 0, 0, 0, 0, 0, 0, 0, 0, 0, 0, 0, 0, 0, 0, 0, 0, 0, 0, 0, 0, 0, 0, 0, 0, 0, 0, 0, 0, 0, 0, 0, 0, 0, 0, 0, 0, 0, 0, 0, 0, 0, 0, 0, 0, 0, 0, 0, 0, 0, 0, 0, 0, 0, 0, 0, 0, 0, 0, 0, 0, 0, 0, 0, 0, 0, 0, 0, 0, 0, 0, 0, 0, 0, 0, 0, 0, 0, 0, 0, 0, 0, 0, 0, 0, 0, 0, 0, 0, 0, 0, 0, 0, 0, 0, 0, 0, 0, 0, 0, 0, 0, 0, 0, 0, 0, 0, 0, 0, 0, 0, 0, 0, 0, 0, 0, 0, 0, 0, 0, 0, 0, 0, 0, 0, 0, 0, 0, 0, 0, 0, 0, 0, 0, 0, 0, 0, 0, 0, 0, 0, 0, 0, 0, 0, 0, 0, 0, 0, 0, 1, 0, 0, 0, 0, 0, 0, 0, 0, 0, 0, 0, 0, 0, 0, 0, 0, 0, 0, 0, 0, 0, 0, 0, 0, 0, 0, 0, 0, 0, 0, 0, 0, 0, 0, 0, 0, 0, 0, 0, 0, 0, 0, 0, 0, 0, 0, 0, 0, 0, 0, 0, 0, 0, 0, 0, 0, 0, 0, 0, 0, 0, 0, 0, 0, 0, 0, 0, 0, 0, 0, 0, 0, 0, 0, 0, 0, 0, 0, 0, 0, 0, 0, 0, 0, 0, 0, 0, 0, 0, 0, 0, 0, 0, 0, 0, 0, 0, 0, 0, 0, 0, 0, 0, 0, 0, 0, 0, 0, 0, 0, 0, 0, 0, 0, 0, 0, 0, 0, 0, 0, 0, 0, 0, 0, 0, 0, 0, 0, 0, 0, 0, 0, 0, 0, 0, 0, 0, 0, 0, 0, 0, 0, 0, 0, 0, 0, 0, 0, 0, 0, 0, 0, 0, 0, 0, 0, 0, 0, 0, 0, 0, 0, 0, 0, 0, 0, 0, 0, 0, 0, 0, 0, 0, 0, 0, 0, 0, 0, 0, 0, 0, 0, 0, 0, 0, 0, 0, 0, 0, 0, 0, 0, 0, 0, 0, 0, 0, 0, 0, 0, 0, 0, 0, 0, 0, 0, 0, 0, 0, 0, 0, 0, 0, 0, 0, 0, 0, 0, 0, 0, 0, 0, 0, 0, 0, 0, 0, 0, 0, 0, 0, 0, 0, 0, 0, 0, 0, 0, 0, 0, 0, 0, 0, 0, 0, 0, 0, 0, 0, 0, 0, 0, 0, 1, 0, 0, 0, 0, 0, 0, 0, 0, 0, 0, 0, 0, 0, 0, 0, 0, 0, 0, 0, 0, 0, 0, 0, 0, 0, 0, 0, 0, 0, 0, 0, 0, 0, 0, 0, 0, 0, 0, 0, 0, 0, 0, 0, 0, 0, 0, 0, 0, 0, 0, 0, 0, 0, 0, 0, 0, 0, 0, 0, 0, 0, 0, 0, 0, 0, 0, 0, 0, 0, 0, 0, 0, 0, 0, 0, 0, 0, 0, 0, 0, 0, 0, 0, 0, 0, 0, 1, 0, 0, 0, 0, 0, 0, 0, 0, 0, 0, 0, 0, 0, 0, 0, 0, 0, 0, 0, 0, 0, 0, 0, 0, 0, 0, 0, 0, 0, 0, 0, 0, 0, 0, 0, 0, 0, 0, 0, 0, 0, 0, 0, 0, 0, 0, 0, 0, 0, 0, 0, 0, 0, 0, 0, 0, 0, 0, 0, 0, 0, 0, 0, 0, 0, 0, 0, 0, 0, 0, 0, 0, 0, 0, 0, 0, 0, 0, 0, 0, 0, 0, 0, 0, 0, 0, 0, 0, 0, 0, 0, 0, 0, 0, 0, 0, 0, 0, 0, 0, 0, 0, 0, 0, 0, 0, 0, 0, 0, 0, 0, 0, 0, 0, 0, 0, 0, 0, 0, 0, 0, 0, 0, 0, 0, 0, 0, 0, 0, 0, 0, 0, 0, 0, 0, 0, 0, 0, 0, 0, 0, 0, 0, 0, 0, 0, 0, 0, 0, 0, 0, 0, 0, 0, 0, 0, 0, 0, 0, 0, 0, 0, 0, 0, 0, 0, 0, 0, 0, 0, 0, 0, 0, 0, 0, 0, 0, 0, 0, 0, 0, 0, 0, 0, 0, 0, 0, 0, 0, 0, 0, 0, 0, 0, 0, 0, 0, 0, 0, 0, 0, 0, 0, 0, 0, 0, 0, 0, 0, 0, 0, 0, 0, 0, 0, 0, 0, 0, 0, 0, 0, 0, 0, 0, 0, 0, 0, 0, 0, 0, 0, 0, 0, 0, 0, 0, 0, 0, 0, 0, 0, 0, 0, 0, 0, 0, 0, 0, 0, 0, 0, 0, 1, 0, 0, 0, 0, 0, 0, 0, 0, 0, 0, 0, 0, 0, 0, 0, 0, 0, 0, 0, 0, 0, 0, 0, 0, 0, 0, 0, 0, 0, 0, 0, 0, 0, 0, 0, 0, 0, 0, 0, 0, 0, 0, 0, 0, 0, 0, 0, 0, 0, 0, 0, 0, 0, 0, 0, 1, 0, 0, 0, 0, 0, 0, 0, 0, 0, 0, 0, 0, 0, 0, 0, 0, 0, 0, 0, 0, 0, 0, 0, 0, 0, 0, 0, 0, 0, 0, 0, 0, 0, 0, 0, 0, 0, 0, 0, 0, 0, 0, 0, 0, 0, 0, 0, 0, 0, 0, 0, 0, 0, 0, 0, 0, 0, 0, 0, 0, 0, 0, 0, 0, 0, 0, 0, 0, 0, 0, 0, 0, 0, 0, 0, 0, 0, 0, 0, 0, 0, 0, 0, 0, 0, 0, 0, 0, 0, 0, 0, 0, 0, 0, 0, 0, 0, 0, 0, 0, 0, 0, 0, 0, 0, 0, 0, 0, 0, 0, 0, 0, 0, 0, 0, 0, 0, 0, 0, 0, 0, 0, 0, 0, 0, 0, 0, 0, 0, 0, 0, 0, 0, 0, 0, 0, 0, 0, 0, 0, 0, 0, 0, 0, 0, 0, 0, 0, 0, 0, 0, 0, 0, 0, 0, 0, 0, 0, 0, 0, 0, 0, 0, 0, 0, 0, 0, 0, 0, 0, 0, 0, 0, 0, 0, 0, 0, 0, 0, 0, 0, 0, 0, 0, 0, 0, 0, 0, 0, 0, 0, 0, 0, 0, 0, 0, 0, 0, 0, 0, 0, 0, 0, 0, 0, 0, 0, 0, 0, 0, 0, 0, 0, 0, 0, 0, 0, 0, 0, 0, 0, 0, 0, 0, 0, 0, 0, 0, 0, 0, 0, 0, 0, 0, 0, 0, 0, 0, 0, 0, 0, 0, 0, 0, 0, 0, 0, 0, 0, 0, 0, 0, 0, 0, 0, 0, 0, 0, 0, 0, 0, 0, 0, 0, 0, 0, 0, 0, 0, 0, 0, 0, 0, 0, 0, 0, 0, 0, 0, 0, 0, 0, 0, 0, 0, 0, 0, 0, 0, 0, 0, 0, 0, 0, 0, 0, 0, 0, 0, 0, 0, 0, 0, 0, 0, 0, 0, 0, 0, 0, 0, 0, 0, 0, 0, 0, 0, 0, 0, 0, 0, 0, 0, 0, 0, 0, 0, 0, 0, 0, 0, 0, 0, 0, 0, 0, 0, 0, 0, 0, 0, 0, 0, 0, 0, 0, 0, 0, 0, 0, 0, 0, 0, 0, 0, 0, 0, 0, 0, 0, 0, 0, 0, 0, 0, 0, 0, 0, 0, 0, 0, 0, 0, 0, 0, 0, 0, 0, 0, 0, 0, 0, 0, 0, 0, 0, 0, 0, 0, 0, 0, 0, 0, 0, 0, 0, 0, 0, 0, 0, 0, 0, 0, 0, 0, 0, 0, 0, 0, 0, 0, 0, 0, 0, 0, 0, 0, 0, 0, 0, 0, 0, 0, 0, 0, 0, 0, 0, 0, 0, 0, 0, 0, 0, 0, 0, 0, 0, 0, 0, 0, 0, 0, 0, 0, 0, 0, 0, 0, 0, 0, 0, 0, 0, 0, 0, 0, 0, 0, 0, 0, 0, 0, 0, 0, 0, 0, 0, 0, 0, 0, 0, 0, 0, 0, 0, 0, 0, 0, 0, 0, 0, 0, 0, 0, 0, 0, 0, 0, 0, 0, 0, 0, 0, 0, 0, 0, 0, 0, 0, 0, 0, 0, 0, 0, 0, 0, 0, 0, 0, 0, 0, 0, 0, 0, 0, 0, 0, 0, 0, 0, 0, 0, 0, 0, 0, 0, 0, 0, 0, 0, 0, 0, 0, 0, 0, 0, 0, 0, 0, 0, 0, 0, 0, 0, 0, 0, 0, 0, 0, 0, 0, 0, 0, 0, 0, 0, 0, 0, 0, 0, 0, 0, 0, 0, 0, 0, 0, 0, 0, 0, 0, 0, 0, 0, 0, 0, 0, 0, 0, 0, 0, 0, 0, 0, 0, 0, 0, 0, 0, 0, 0, 0, 0, 0, 0, 0, 0, 0, 0, 0, 0, 0, 0, 0, 0, 0, 0, 0, 0, 0, 0, 0, 0, 0, 0, 0, 0, 0, 0, 0, 0, 0, 0, 0, 0, 0, 0, 0, 0, 0, 0, 0, 0, 0, 0, 0, 0, 0, 0, 0, 0, 0, 0, 0, 0, 0, 0, 0, 0, 0, 0, 0, 0, 0, 0, 0, 0, 0, 0, 0, 0, 0, 0, 0, 0, 0, 0, 0, 0, 0, 0, 0, 0, 0, 0, 0, 0, 0, 0, 0, 1, 0, 0, 0, 0, 0, 0, 0, 0, 0, 0, 0, 0, 0, 0, 0, 0, 0, 0, 0, 0, 0, 0, 0, 0, 0, 0, 0, 0, 0, 0, 0, 0, 0, 0, 0, 0, 0, 0, 0, 0, 0, 0, 0, 0, 0, 0, 0, 0, 0, 0, 0, 0, 0, 0, 0, 0, 0, 0, 0, 0, 0, 0, 0, 0, 0, 0, 0, 0, 0, 0, 0, 0, 0, 0, 1, 0, 0, 0, 0, 0, 0, 0, 0, 0, 0, 0, 0, 0, 0, 0, 0, 0, 0, 0, 0, 1, 0, 0, 1, 0, 0, 0, 0, 0, 0, 0, 0, 0, 0, 0, 0, 0, 0, 0, 0, 0, 0, 0, 0, 0, 0, 0, 0, 0, 0, 0, 0, 0, 0, 0, 0, 0, 0, 0, 0, 0, 0, 0, 0, 0, 0, 0, 0, 0, 0, 0, 0, 0, 0, 0, 0, 0, 0, 0, 0, 0, 0, 0, 0, 0, 0, 0, 0, 0, 0, 0, 0, 0, 0, 0, 0, 0, 0, 0, 0, 0, 0, 0, 0, 0, 0, 0, 0, 0, 0, 0, 0, 0, 0, 0, 0, 0, 0, 0, 0, 0, 0, 0, 0, 0, 0, 0, 0, 0, 0, 0, 0, 0, 0, 0, 0, 0, 0, 0, 0, 0, 0, 0, 0, 0, 0, 0, 0, 0, 0, 0, 0, 0, 0, 0, 0, 0, 0, 0, 0, 0, 0, 0, 0, 0, 0, 0, 0, 0, 0, 0, 0, 0, 0, 0, 0, 0, 0, 0, 0, 0, 0, 0, 0, 0, 0, 0, 0, 0, 0, 0, 0, 0, 0, 0, 0, 0, 0, 0, 0, 0, 0, 0, 0, 0, 0, 0, 0, 0, 0, 0, 0, 0, 0, 0, 0, 0, 0, 0, 0, 0, 0, 0, 0, 0, 0, 0, 0, 0, 0, 0, 0, 0, 0, 0, 0, 0, 0, 0, 0, 0, 0, 0, 0, 0, 0, 0, 0, 0, 0, 0, 0, 0, 0, 0, 0, 0, 0, 0, 0, 0, 0, 0, 0, 0, 0, 0, 0, 0, 0, 0, 0, 0, 0, 0, 0, 0, 0, 0, 0, 0, 0, 0, 0, 0, 0, 0, 0, 0, 0, 0, 0, 0, 0, 0, 0, 0, 0, 0, 0, 0, 0, 0, 0, 0, 0, 0, 0, 0, 0, 0, 0, 0, 0, 0, 0, 0, 0, 0, 0, 0, 0, 0, 0, 0, 0, 0, 0, 0, 0, 0, 0, 0, 0, 0, 0, 0, 0, 0, 0, 0, 0, 0, 0, 0, 0, 0, 0, 0, 0, 0, 0, 0, 0, 0, 0, 0, 0, 0, 0, 0, 0, 0, 0, 0, 0, 0, 0, 0, 0, 0, 0, 0, 0, 0, 0, 0, 0, 0, 0, 0, 0, 0, 0, 0, 0, 0, 0, 0, 0, 0, 0, 0, 0, 0, 0, 0, 0, 0, 0, 0, 0, 0, 0, 0, 0, 0, 0, 0, 0, 0, 0, 0, 0, 0, 0, 0, 0, 0, 0, 0, 0, 0, 0, 0, 0, 0, 0, 0, 0, 0, 0, 0, 0, 0, 0, 0, 0, 0, 0, 0, 0, 0, 0, 0, 0, 0, 0, 0, 0, 0, 0, 0, 0, 0, 0, 0, 0, 0, 0, 0, 0, 0, 0, 0, 0, 0, 0, 0, 0, 0, 0, 0, 0, 0, 0, 0, 0, 0, 0, 0, 0, 0, 0, 0, 0, 0, 0, 0, 0, 1, 0, 0, 0, 0, 0, 0, 0, 0, 0, 0, 0, 0, 0, 0, 0, 0, 0, 0, 0, 0, 0, 0, 0, 0, 0, 0, 0, 0, 0, 0, 0, 0, 0, 0, 0, 0, 0, 0, 0, 0, 0, 0, 0, 0, 0, 0, 0, 0, 0, 0, 0, 0, 0, 0, 0, 0, 0, 0, 0, 0, 0, 0, 0, 0, 0, 0, 0, 0, 0, 0, 0, 0, 0, 0, 0, 0, 0, 0, 0, 0, 0, 0, 0, 0, 0, 0, 0, 0, 0, 0, 0, 0, 0, 0, 0, 0, 0, 0, 0, 0, 0, 0, 0, 0, 0, 0, 0, 0, 0, 0, 0, 0, 0, 0, 0, 0, 0, 0, 0, 0, 0, 0, 0, 0, 0, 0, 0, 0, 0, 0, 0, 0, 0, 0, 0, 0, 0, 0, 0, 0, 0, 0, 0, 0, 0, 0, 0, 0, 0, 0, 0, 0, 0, 0, 0, 0, 0, 0, 0, 0, 0, 0, 0, 0, 0, 0, 0, 0, 0, 0, 0, 0, 0, 0, 0, 0, 0, 0, 0, 0, 0, 0, 0, 0, 0, 0, 0, 0, 0, 0, 0, 0, 0, 0, 0, 0, 0, 0, 0, 0, 0, 0, 0, 0, 0, 0, 0, 0, 0, 0, 0, 0, 0, 0, 0, 0, 0, 0, 0, 0, 0, 0, 0, 0, 0, 0, 0, 0, 0, 0, 0, 0, 0, 0, 0, 0, 0, 0, 0, 0, 0, 0, 0, 0, 0, 0, 0, 0, 0, 0, 0, 0, 0, 0, 0, 0, 0, 0, 0, 0, 0, 0, 0, 0, 0, 0, 0, 0, 0, 0, 0, 0, 0, 0, 0, 0, 0, 0, 0, 0, 0, 0, 0, 0, 0, 0, 0, 0, 0, 0, 0, 0, 0, 0, 0, 0, 0, 0, 0, 0, 0, 0, 0, 0, 0, 0, 0, 0, 0, 0, 0, 0, 0, 0, 0, 0, 0, 0, 0, 0, 0, 0, 0, 0, 0, 0, 0, 0, 0, 0, 0, 0, 0, 0, 0, 0, 0, 0, 0, 0, 0, 0, 0, 0, 0, 0, 0, 0, 0, 0, 0, 0, 0, 0, 0, 0, 0, 0, 0, 0, 0, 0, 0, 0, 0, 0, 0, 0, 0, 0, 0, 0, 0, 0, 0, 0, 0, 0, 0, 0, 0, 0, 0, 0, 0, 0, 0, 0, 0, 0, 0, 0, 0, 0, 0, 0, 0, 0, 0, 0, 0, 0, 0, 0, 0, 0, 0, 0, 0, 0, 0, 0, 0, 0, 0, 0, 0, 0, 0, 0, 0, 0, 0, 0, 0, 0, 0, 0, 0, 0, 0, 0, 0, 0, 0, 0, 0, 0, 0, 0, 0, 0, 0, 0, 0, 0, 0, 0, 0, 0, 0, 0, 0, 0, 0, 0, 0, 0, 0, 0, 0, 0, 0, 0, 0, 0, 0, 0, 0, 0, 0, 0, 0, 0, 0, 0, 0, 0, 0, 0, 0, 0, 0, 0, 0, 0, 0, 0, 0, 0, 0, 0, 0, 0, 0, 0, 0, 0, 0, 0, 0, 0, 0, 0, 0, 0, 0, 0, 0, 0, 0, 0, 1, 0, 0, 0, 0, 0, 0, 0, 0, 0, 0, 0, 0, 0, 0, 0, 0, 0, 0, 0, 0, 0, 0, 0, 0, 0, 0, 0, 0, 0, 0, 0, 0, 0, 0, 0, 2, 0, 0, 0, 0, 0, 0, 0, 0, 0, 0, 0, 0, 0, 0, 0, 0, 0, 0, 0, 0, 0, 0, 0, 0, 0, 0, 0, 0, 0, 0, 0, 0, 0, 0, 0, 0, 0, 0, 0, 0, 1, 0, 0, 0, 0, 0, 0, 0, 0, 0, 0, 0, 0, 0, 0, 0, 0, 0, 0, 0, 0, 0, 0, 0, 0, 0, 0, 0, 0, 0, 0, 0, 0, 0, 0, 0, 0, 0, 0, 0, 0, 0, 0, 0, 0, 0, 0, 0, 0, 0, 0, 0, 0, 0, 0, 0, 0, 0, 0, 0, 0, 0, 0, 0, 0, 0, 0, 0, 0, 0, 0, 0, 0, 0, 0, 0, 0, 0, 0, 0, 0, 0, 0, 0, 0, 0, 0, 0, 0, 0, 0, 0, 0, 0, 0, 0, 0, 0, 0, 0, 0, 0, 0, 0, 0, 0, 0, 0, 0, 0, 0, 0, 0, 0, 0, 0, 0, 0, 0, 0, 0, 0, 0, 0, 0, 0, 0, 0, 0, 0, 0, 0, 0, 0, 0, 0, 0, 0, 0, 0, 0, 0, 0, 0, 0, 0, 0, 0, 0, 0, 0, 0, 0, 0, 0, 0, 0, 0, 0, 0, 0, 0, 0, 0, 0, 0, 0, 0, 0, 0, 0, 0, 0, 0, 0, 0, 0, 0, 0, 0, 0, 0, 0, 0, 0, 0, 0, 0, 0, 0, 0, 0, 0, 0, 0, 0, 0, 0, 0, 0, 0, 0, 0, 0, 0, 0, 0, 0, 0, 0, 0, 0, 0, 0, 0, 0, 0, 0, 0, 0, 0, 0, 0, 0, 0, 0, 0, 0, 0, 0, 0, 0, 0, 0, 0, 0, 0, 0, 0, 0, 0, 0, 0, 0, 0, 0, 0, 0, 0, 0, 0, 0, 0, 0, 0, 0, 0, 0, 0, 0, 0, 0, 0, 0, 0, 0, 0, 0, 0, 0, 0, 0, 0, 0, 0, 0, 0, 0, 0, 0, 0, 0, 0, 0, 0, 0, 0, 0, 0, 0, 0, 0, 0, 0, 0, 0, 0, 0, 0, 0, 0, 0, 0, 0, 0, 0, 0, 0, 0, 0, 0, 0, 0, 0, 0, 0, 0, 0, 0, 0, 0, 0, 0, 0, 0, 0, 0, 0, 0, 0, 0, 0, 0, 0, 0, 0, 0, 0, 0, 0, 0, 0, 0, 0, 0, 0, 0, 0, 0, 0, 0, 0, 0, 0, 0, 0, 0, 0, 0, 0, 0, 0, 0, 0, 0, 0, 0, 0, 0, 0, 0, 0, 0, 0, 0, 0, 0, 0, 0, 0, 0, 0, 0, 0, 0, 0, 0, 0, 0, 0, 0, 0, 0, 0, 0, 0, 0, 0, 0, 0, 0, 0, 0, 0, 0, 0, 0, 0, 0, 0, 0, 0, 0, 0, 0, 0, 0, 0, 0, 0, 0, 0, 0, 0, 0, 0, 0, 0, 0, 0, 0, 0, 0, 0, 0, 0, 0, 0, 0, 0, 0, 0, 0, 0, 0, 0, 0, 0, 0, 0, 0, 0, 0, 0, 0, 0, 0, 0, 0, 0, 0, 0, 0, 0, 0, 0, 0, 0, 0, 0, 0, 0, 0, 0, 0, 0, 0, 0, 0, 0, 0, 0, 0, 0, 0, 0, 0, 0, 0, 0, 0, 0, 0, 0, 0, 0, 0, 0, 1, 0, 0, 0, 0, 0, 0, 0, 0, 0, 0, 0, 0, 0, 0, 0, 0, 0, 0, 0, 0, 0, 0, 0, 0, 0, 0, 0, 0, 0, 0, 0, 0, 0, 0, 0, 0, 0, 0, 0, 0, 0, 0, 0, 0, 0, 0, 0, 0, 0, 0, 0, 0, 0, 0, 0, 0, 0, 0, 0, 0, 0, 0, 0, 0, 0, 0, 0, 0, 0, 0, 0, 0, 0, 0, 0, 0, 0, 0, 0, 0, 0, 0, 0, 0, 0, 0, 0, 0, 0, 0, 0, 0, 0, 0, 0, 0, 0, 0, 0, 0, 0, 0, 0, 0, 0, 0, 0, 0, 0, 0, 2, 0, 0, 0, 0, 0, 0, 0, 0, 0, 0, 0, 0, 0, 0, 0, 0, 0, 0, 0, 0, 0, 0, 0, 0, 0, 0, 0, 0, 0, 0, 0, 0, 0, 0, 0, 0, 0, 0, 0, 0, 0, 0, 0, 0, 0, 0, 0, 0, 0, 0, 0, 0, 0, 0, 0, 0, 0, 0, 0, 0, 0, 0, 0, 0, 0, 0, 0, 0, 0, 0, 0, 0, 0, 0, 0, 0, 0, 0, 0, 0, 0, 0, 0, 0, 0, 0, 0, 0, 0, 0, 0, 0, 0, 0, 0, 0, 0, 0, 0, 0, 0, 0, 0, 0, 0, 0, 0, 0, 0, 0, 0, 0, 0, 0, 0, 0, 0, 0, 0, 0, 0, 0, 0, 0, 0, 0, 0, 0, 0, 0, 0, 0, 0, 0, 0, 0, 0, 0, 0, 0, 0, 0, 0, 0, 0, 0, 0, 0, 0, 0, 0, 0, 0, 0, 0, 0, 0, 0, 0, 0, 0, 0, 0, 0, 0, 0, 0, 0, 0, 0, 0, 0, 0, 0, 0, 0, 0, 0, 0, 0, 0, 0, 0, 0, 0, 0, 0, 0, 0, 0, 0, 0, 0, 0, 0, 0, 0, 0, 0, 0, 0, 0, 0, 0, 0, 0, 0, 0, 0, 0, 0, 0, 0, 0, 0, 0, 0, 0, 0, 0, 0, 0, 0, 0, 0, 0, 0, 0, 0, 0, 0, 0, 0, 0, 0, 0, 0, 0, 0, 0, 0, 0, 0, 0, 0, 0, 0, 0, 0, 0, 0, 0, 0, 0, 0, 0, 0, 0, 0, 0, 0, 0, 0, 0, 0, 0, 0, 0, 0, 0, 0, 0, 0, 0, 0, 0, 0, 0, 0, 0, 0, 0, 0, 0, 0, 0, 0, 0, 0, 0, 0, 0, 0, 0, 0, 0, 0, 0, 0, 0, 0, 0, 0, 0, 0, 0, 0, 0, 0, 0, 0, 0, 0, 0, 0, 0, 0, 0, 0, 0, 0, 0, 0, 0, 0, 0, 0, 0, 0, 0, 0, 0, 0, 0, 0, 0, 0, 0, 0, 0, 0, 0, 0, 0, 0, 0, 0, 0, 0, 0, 0, 0, 0, 0, 0, 0, 0, 0, 0, 0, 0, 0, 0, 0, 0, 0, 0, 0, 0, 0, 0, 0, 0, 0, 0, 0, 0, 0, 0, 0, 0, 0, 0, 0, 0, 0, 0, 0, 0, 0, 0, 0, 0, 0, 0, 0, 0, 0, 0, 0, 0, 0, 0, 0, 0, 0, 0, 0, 0, 0, 0, 0, 0, 0, 0, 0, 0, 0, 0, 0, 0, 0, 0, 0, 0, 0, 0, 0, 0, 0, 0, 0, 0, 0, 0, 0, 0, 0, 0, 0, 0, 0, 0, 0, 0, 0, 0, 0, 0, 0, 0, 0, 0, 0, 0, 0, 0, 0, 0, 0, 0, 0, 0, 0, 0, 0, 0, 0, 0, 0, 0, 0, 0, 0, 0, 0, 0, 0, 0, 0, 0, 0, 0, 0, 0, 0, 0, 0, 0, 0, 0, 0, 0, 0, 0, 0, 0, 0, 0, 0, 0, 0, 0, 0, 0, 0, 0, 0, 0, 0, 0, 0, 0, 0, 0, 0, 0, 0, 0, 0, 0, 0, 0, 0, 0, 0, 0, 0, 0, 0, 0, 0, 0, 0, 0, 0, 0, 0, 0, 0, 0, 0, 0, 0, 0, 0, 0, 0, 0, 0, 0, 0, 0, 0, 0, 0, 0, 0, 0, 0, 0, 0, 0, 0, 0, 0, 0, 0, 0, 0, 0, 0, 0, 0, 0, 0, 0, 0, 0, 0, 0, 0, 0, 0, 0, 0, 0, 0, 0, 0, 0, 0, 0, 0, 0, 0, 0, 0, 0, 0, 0, 0, 0, 0, 0, 0, 0, 0, 0, 0, 0, 0, 0, 0, 0, 0, 0, 0, 0, 0, 0, 0, 0, 0, 0, 0, 0, 0, 0, 0, 0, 0, 0, 0, 0, 0, 0, 0, 0, 0, 0, 0, 0, 0, 0, 0, 0, 0, 0, 0, 0, 0, 0, 0, 0, 0, 0, 0, 0, 0, 0, 0, 0, 0, 0, 0, 0, 0, 0, 0, 0, 0, 0, 0, 0, 0, 0, 0, 0, 0, 0, 0, 0, 0, 0, 0, 0, 0, 0, 0, 1, 0, 0, 0, 0, 0, 0, 0, 0, 0, 0, 0, 0, 0, 0, 0, 0, 0, 0, 0, 0, 0, 0, 0, 0, 0, 0, 0, 0, 0, 0, 0, 0, 0, 0, 0, 0, 0, 0, 0, 0, 0, 0, 0, 0, 0, 0, 0, 0, 0, 0, 0, 0, 0, 0, 0, 0, 0, 0, 0, 0, 0, 0, 0, 0, 0, 0, 0, 0, 0, 0, 0, 0, 0, 0, 0, 0, 0, 0, 0, 0, 0, 0, 0, 0, 0, 0, 0, 0, 0, 0, 0, 0, 0, 0, 0, 0, 0, 0, 0, 0, 0, 0, 0, 0, 0, 0, 0, 1, 0, 0, 0, 0, 0, 0, 0, 0, 0, 0, 0, 0, 0, 0, 0, 0, 0, 0, 0, 0, 0, 0, 0, 0, 0, 0, 0, 0, 0, 0, 0, 0, 0, 0, 0, 0, 0, 0, 0, 0, 0, 0, 0, 0, 0, 0, 0, 0, 0, 0, 0, 0, 0, 0, 0, 0, 0, 0, 0, 0, 0, 0, 0, 0, 0, 0, 0, 0, 0, 0, 0, 0, 0, 0, 0, 0, 0, 0, 0, 0, 0, 0, 0, 0, 0, 0, 0, 0, 0, 0, 0, 0, 0, 0, 0, 0, 0, 0, 0, 0, 0, 0, 0, 0, 0, 0, 0, 0, 0, 0, 0, 0, 0, 0, 0, 0, 0, 0, 0, 0, 0, 0, 0, 0, 0, 0, 0, 0, 0, 0, 0, 0, 0, 0, 0, 0, 0, 0, 0, 0, 0, 0, 0, 0, 0, 0, 0, 0, 0, 0, 0, 0, 0, 0, 0, 0, 0, 0, 0, 0, 0, 0, 0, 0, 0, 0, 0, 0, 0, 0, 0, 0, 0, 0, 0, 0, 0, 0, 0, 0, 0, 0, 0, 0, 0, 0, 0, 0, 0, 0, 0, 0, 0, 0, 0, 0, 0, 0, 0, 0, 0, 0, 0, 0, 0, 0, 0, 0, 0, 0, 0, 0, 0, 0, 0, 0, 0, 0, 0, 0, 0, 0, 0, 0, 0, 0, 0, 0, 0, 0, 0, 0, 0, 0, 0, 0, 0, 0, 0, 0, 0, 0, 0, 0, 0, 0, 0, 0, 0, 0, 0, 0, 0, 0, 0, 0, 0, 0, 0, 0, 0, 0, 0, 0, 0, 0, 0, 0, 0, 0, 0, 0, 0, 0, 0, 0, 0, 0, 0, 0, 0, 0, 0, 0, 0, 0, 0, 0, 0, 0, 0, 0, 0, 0, 0, 0, 0, 0, 0, 0, 0, 0, 0, 0, 0, 0, 0, 0, 0, 0, 0, 0, 0, 0, 0, 0, 0, 0, 0, 0, 0, 0, 0, 0, 0, 0, 0, 0, 0, 0, 0, 0, 0, 0, 0, 0, 0, 0, 0, 0, 0, 0, 0, 0, 0, 0, 0, 0, 0, 0, 0, 0, 0, 0, 0, 0, 0, 0, 0, 0, 0, 0, 0, 0, 0, 0, 0, 0, 0, 0, 0, 0, 0, 0, 0, 0, 0, 0, 0, 0, 0, 0, 0, 0, 0, 0, 0, 0, 0, 0, 0, 0, 0, 0, 0, 0, 0, 0, 0, 0, 0, 0, 0, 0, 0, 0, 0, 0, 0, 0, 0, 0, 0, 0, 0, 0, 0, 0, 0, 0, 0, 0, 0, 0, 0, 0, 0, 0, 0, 0, 0, 0, 0, 0, 0, 0, 0, 0, 0, 0, 0, 0, 0, 0, 0, 0, 0, 0, 0, 0, 0, 0, 0, 0, 0, 0, 0, 0, 0, 0, 0, 0, 0, 2, 0, 1, 0], type: <class 'list'>, valid types: <class 'bytes'>, <class 'bytearray'>, file-like object",
     "output_type": "error",
     "traceback": [
      "\u001b[0;31m---------------------------------------------------------------------------\u001b[0m",
      "\u001b[0;31mParamValidationError\u001b[0m                      Traceback (most recent call last)",
      "\u001b[0;32m<ipython-input-44-c9ab54ae3a48>\u001b[0m in \u001b[0;36m<module>\u001b[0;34m()\u001b[0m\n\u001b[1;32m      1\u001b[0m response = runtime.invoke_endpoint(EndpointName = xgb_predictor.endpoint, # The name of the endpoint we created\n\u001b[1;32m      2\u001b[0m                                        \u001b[0mContentType\u001b[0m \u001b[0;34m=\u001b[0m \u001b[0;34m'text/csv'\u001b[0m\u001b[0;34m,\u001b[0m                     \u001b[0;31m# The data format that is expected\u001b[0m\u001b[0;34m\u001b[0m\u001b[0m\n\u001b[0;32m----> 3\u001b[0;31m                                        Body = test_bow)\n\u001b[0m",
      "\u001b[0;32m~/anaconda3/envs/python3/lib/python3.6/site-packages/botocore/client.py\u001b[0m in \u001b[0;36m_api_call\u001b[0;34m(self, *args, **kwargs)\u001b[0m\n\u001b[1;32m    318\u001b[0m                     \"%s() only accepts keyword arguments.\" % py_operation_name)\n\u001b[1;32m    319\u001b[0m             \u001b[0;31m# The \"self\" in this scope is referring to the BaseClient.\u001b[0m\u001b[0;34m\u001b[0m\u001b[0;34m\u001b[0m\u001b[0m\n\u001b[0;32m--> 320\u001b[0;31m             \u001b[0;32mreturn\u001b[0m \u001b[0mself\u001b[0m\u001b[0;34m.\u001b[0m\u001b[0m_make_api_call\u001b[0m\u001b[0;34m(\u001b[0m\u001b[0moperation_name\u001b[0m\u001b[0;34m,\u001b[0m \u001b[0mkwargs\u001b[0m\u001b[0;34m)\u001b[0m\u001b[0;34m\u001b[0m\u001b[0m\n\u001b[0m\u001b[1;32m    321\u001b[0m \u001b[0;34m\u001b[0m\u001b[0m\n\u001b[1;32m    322\u001b[0m         \u001b[0m_api_call\u001b[0m\u001b[0;34m.\u001b[0m\u001b[0m__name__\u001b[0m \u001b[0;34m=\u001b[0m \u001b[0mstr\u001b[0m\u001b[0;34m(\u001b[0m\u001b[0mpy_operation_name\u001b[0m\u001b[0;34m)\u001b[0m\u001b[0;34m\u001b[0m\u001b[0m\n",
      "\u001b[0;32m~/anaconda3/envs/python3/lib/python3.6/site-packages/botocore/client.py\u001b[0m in \u001b[0;36m_make_api_call\u001b[0;34m(self, operation_name, api_params)\u001b[0m\n\u001b[1;32m    595\u001b[0m         }\n\u001b[1;32m    596\u001b[0m         request_dict = self._convert_to_request_dict(\n\u001b[0;32m--> 597\u001b[0;31m             api_params, operation_model, context=request_context)\n\u001b[0m\u001b[1;32m    598\u001b[0m \u001b[0;34m\u001b[0m\u001b[0m\n\u001b[1;32m    599\u001b[0m         \u001b[0mservice_id\u001b[0m \u001b[0;34m=\u001b[0m \u001b[0mself\u001b[0m\u001b[0;34m.\u001b[0m\u001b[0m_service_model\u001b[0m\u001b[0;34m.\u001b[0m\u001b[0mservice_id\u001b[0m\u001b[0;34m.\u001b[0m\u001b[0mhyphenize\u001b[0m\u001b[0;34m(\u001b[0m\u001b[0;34m)\u001b[0m\u001b[0;34m\u001b[0m\u001b[0m\n",
      "\u001b[0;32m~/anaconda3/envs/python3/lib/python3.6/site-packages/botocore/client.py\u001b[0m in \u001b[0;36m_convert_to_request_dict\u001b[0;34m(self, api_params, operation_model, context)\u001b[0m\n\u001b[1;32m    643\u001b[0m             api_params, operation_model, context)\n\u001b[1;32m    644\u001b[0m         request_dict = self._serializer.serialize_to_request(\n\u001b[0;32m--> 645\u001b[0;31m             api_params, operation_model)\n\u001b[0m\u001b[1;32m    646\u001b[0m         \u001b[0;32mif\u001b[0m \u001b[0;32mnot\u001b[0m \u001b[0mself\u001b[0m\u001b[0;34m.\u001b[0m\u001b[0m_client_config\u001b[0m\u001b[0;34m.\u001b[0m\u001b[0minject_host_prefix\u001b[0m\u001b[0;34m:\u001b[0m\u001b[0;34m\u001b[0m\u001b[0m\n\u001b[1;32m    647\u001b[0m             \u001b[0mrequest_dict\u001b[0m\u001b[0;34m.\u001b[0m\u001b[0mpop\u001b[0m\u001b[0;34m(\u001b[0m\u001b[0;34m'host_prefix'\u001b[0m\u001b[0;34m,\u001b[0m \u001b[0;32mNone\u001b[0m\u001b[0;34m)\u001b[0m\u001b[0;34m\u001b[0m\u001b[0m\n",
      "\u001b[0;32m~/anaconda3/envs/python3/lib/python3.6/site-packages/botocore/validate.py\u001b[0m in \u001b[0;36mserialize_to_request\u001b[0;34m(self, parameters, operation_model)\u001b[0m\n\u001b[1;32m    295\u001b[0m                                                     operation_model.input_shape)\n\u001b[1;32m    296\u001b[0m             \u001b[0;32mif\u001b[0m \u001b[0mreport\u001b[0m\u001b[0;34m.\u001b[0m\u001b[0mhas_errors\u001b[0m\u001b[0;34m(\u001b[0m\u001b[0;34m)\u001b[0m\u001b[0;34m:\u001b[0m\u001b[0;34m\u001b[0m\u001b[0m\n\u001b[0;32m--> 297\u001b[0;31m                 \u001b[0;32mraise\u001b[0m \u001b[0mParamValidationError\u001b[0m\u001b[0;34m(\u001b[0m\u001b[0mreport\u001b[0m\u001b[0;34m=\u001b[0m\u001b[0mreport\u001b[0m\u001b[0;34m.\u001b[0m\u001b[0mgenerate_report\u001b[0m\u001b[0;34m(\u001b[0m\u001b[0;34m)\u001b[0m\u001b[0;34m)\u001b[0m\u001b[0;34m\u001b[0m\u001b[0m\n\u001b[0m\u001b[1;32m    298\u001b[0m         return self._serializer.serialize_to_request(parameters,\n\u001b[1;32m    299\u001b[0m                                                      operation_model)\n",
      "\u001b[0;31mParamValidationError\u001b[0m: Parameter validation failed:\nInvalid type for parameter Body, value: [0, 0, 0, 0, 0, 0, 0, 0, 0, 0, 0, 0, 0, 0, 0, 0, 0, 0, 0, 0, 0, 0, 0, 0, 0, 0, 0, 0, 0, 0, 0, 0, 0, 0, 0, 0, 0, 0, 0, 0, 0, 0, 0, 0, 0, 0, 0, 0, 0, 0, 0, 0, 0, 0, 0, 0, 0, 0, 0, 0, 0, 0, 0, 0, 0, 0, 0, 0, 0, 0, 0, 0, 0, 0, 0, 0, 0, 0, 0, 0, 0, 0, 0, 0, 0, 0, 0, 0, 0, 0, 0, 0, 0, 0, 0, 0, 0, 0, 0, 0, 0, 0, 0, 0, 0, 0, 0, 0, 0, 0, 0, 0, 0, 0, 0, 0, 0, 0, 0, 0, 0, 0, 0, 0, 0, 0, 0, 0, 0, 0, 0, 0, 0, 0, 0, 0, 0, 0, 0, 0, 0, 0, 0, 0, 0, 0, 0, 0, 0, 0, 0, 0, 0, 0, 0, 0, 0, 0, 0, 0, 0, 0, 0, 0, 0, 0, 0, 0, 0, 0, 0, 0, 0, 0, 0, 0, 0, 0, 0, 0, 0, 0, 0, 0, 0, 0, 0, 0, 0, 0, 0, 0, 0, 0, 0, 0, 0, 0, 0, 0, 0, 0, 0, 0, 0, 0, 0, 0, 0, 0, 0, 0, 0, 0, 0, 0, 0, 0, 0, 0, 0, 0, 0, 0, 0, 0, 1, 0, 0, 0, 0, 0, 0, 0, 0, 0, 0, 0, 0, 0, 0, 0, 0, 0, 0, 0, 0, 0, 0, 0, 0, 0, 0, 0, 0, 0, 1, 0, 0, 0, 0, 0, 0, 0, 0, 0, 0, 0, 0, 0, 0, 0, 0, 0, 0, 0, 0, 0, 0, 0, 0, 0, 0, 0, 0, 0, 0, 0, 0, 0, 0, 0, 0, 0, 0, 0, 0, 0, 0, 0, 0, 0, 0, 0, 0, 0, 0, 0, 0, 0, 0, 0, 0, 0, 0, 0, 0, 0, 0, 0, 0, 0, 0, 0, 0, 0, 0, 0, 0, 0, 0, 0, 0, 0, 0, 0, 0, 0, 0, 0, 0, 0, 0, 0, 0, 0, 0, 0, 0, 0, 0, 0, 0, 0, 0, 0, 0, 0, 0, 0, 0, 0, 0, 0, 0, 0, 0, 0, 0, 0, 0, 0, 0, 0, 0, 0, 0, 0, 0, 0, 0, 0, 0, 0, 0, 0, 0, 0, 0, 0, 0, 0, 0, 0, 0, 0, 0, 0, 0, 0, 0, 0, 0, 0, 0, 0, 0, 0, 0, 0, 0, 0, 0, 0, 0, 0, 0, 0, 0, 0, 0, 0, 0, 0, 0, 0, 0, 0, 0, 0, 0, 0, 0, 0, 0, 0, 0, 0, 0, 0, 0, 0, 0, 0, 0, 0, 0, 0, 0, 0, 0, 0, 0, 0, 0, 0, 0, 0, 0, 0, 0, 0, 0, 0, 0, 0, 0, 0, 0, 0, 0, 0, 0, 0, 0, 0, 0, 0, 0, 0, 0, 0, 0, 0, 0, 0, 0, 0, 0, 0, 0, 0, 0, 0, 0, 0, 0, 0, 0, 0, 0, 0, 0, 0, 0, 0, 0, 0, 0, 0, 0, 0, 0, 0, 0, 0, 0, 0, 0, 0, 0, 0, 0, 0, 0, 0, 0, 0, 0, 0, 0, 0, 0, 0, 0, 0, 0, 0, 0, 0, 0, 0, 0, 0, 0, 0, 0, 0, 0, 0, 0, 0, 0, 0, 0, 0, 0, 0, 0, 0, 0, 0, 0, 0, 0, 0, 0, 0, 0, 0, 0, 0, 0, 0, 0, 0, 0, 0, 0, 0, 0, 0, 0, 0, 0, 0, 0, 0, 0, 0, 0, 0, 0, 0, 0, 0, 0, 0, 0, 0, 0, 0, 0, 0, 0, 0, 0, 0, 0, 0, 0, 0, 0, 0, 0, 0, 0, 0, 0, 0, 0, 0, 0, 0, 0, 0, 0, 0, 0, 0, 0, 0, 0, 0, 0, 0, 1, 0, 0, 0, 0, 0, 0, 0, 0, 0, 0, 0, 0, 0, 0, 0, 0, 0, 0, 0, 0, 0, 0, 0, 0, 0, 0, 0, 0, 0, 0, 0, 0, 0, 0, 0, 0, 0, 0, 0, 0, 0, 0, 0, 0, 0, 0, 0, 0, 0, 0, 0, 0, 0, 0, 0, 0, 0, 0, 0, 0, 0, 0, 0, 0, 0, 0, 0, 0, 0, 0, 0, 0, 0, 0, 0, 0, 0, 0, 0, 0, 0, 0, 0, 0, 0, 0, 0, 0, 0, 0, 0, 0, 0, 0, 0, 0, 0, 0, 0, 0, 0, 0, 0, 0, 0, 0, 0, 0, 0, 0, 0, 0, 0, 0, 0, 0, 0, 0, 0, 0, 0, 0, 0, 0, 0, 0, 0, 0, 0, 0, 0, 0, 0, 0, 0, 0, 0, 0, 0, 0, 0, 0, 0, 0, 0, 0, 0, 0, 0, 0, 0, 0, 0, 0, 0, 0, 0, 0, 0, 0, 0, 0, 0, 0, 0, 0, 0, 0, 0, 0, 0, 0, 0, 0, 0, 0, 0, 0, 0, 0, 0, 0, 0, 0, 0, 0, 0, 0, 0, 0, 0, 0, 0, 0, 0, 0, 0, 0, 0, 0, 0, 0, 0, 0, 0, 0, 0, 0, 0, 0, 0, 0, 0, 0, 0, 0, 0, 0, 0, 0, 0, 0, 0, 0, 0, 0, 0, 0, 0, 0, 0, 0, 0, 0, 0, 0, 0, 0, 0, 0, 0, 0, 0, 0, 0, 0, 0, 0, 0, 0, 0, 0, 0, 1, 0, 0, 0, 0, 0, 0, 0, 0, 0, 0, 0, 0, 0, 0, 0, 0, 0, 0, 0, 0, 0, 0, 0, 0, 0, 0, 0, 0, 0, 0, 0, 0, 0, 0, 0, 0, 0, 0, 0, 0, 0, 0, 0, 0, 0, 0, 0, 0, 0, 0, 0, 0, 0, 0, 0, 0, 0, 0, 0, 0, 0, 0, 0, 0, 0, 0, 0, 0, 0, 0, 0, 0, 0, 0, 0, 0, 0, 0, 0, 0, 0, 0, 0, 0, 0, 0, 1, 0, 0, 0, 0, 0, 0, 0, 0, 0, 0, 0, 0, 0, 0, 0, 0, 0, 0, 0, 0, 0, 0, 0, 0, 0, 0, 0, 0, 0, 0, 0, 0, 0, 0, 0, 0, 0, 0, 0, 0, 0, 0, 0, 0, 0, 0, 0, 0, 0, 0, 0, 0, 0, 0, 0, 0, 0, 0, 0, 0, 0, 0, 0, 0, 0, 0, 0, 0, 0, 0, 0, 0, 0, 0, 0, 0, 0, 0, 0, 0, 0, 0, 0, 0, 0, 0, 0, 0, 0, 0, 0, 0, 0, 0, 0, 0, 0, 0, 0, 0, 0, 0, 0, 0, 0, 0, 0, 0, 0, 0, 0, 0, 0, 0, 0, 0, 0, 0, 0, 0, 0, 0, 0, 0, 0, 0, 0, 0, 0, 0, 0, 0, 0, 0, 0, 0, 0, 0, 0, 0, 0, 0, 0, 0, 0, 0, 0, 0, 0, 0, 0, 0, 0, 0, 0, 0, 0, 0, 0, 0, 0, 0, 0, 0, 0, 0, 0, 0, 0, 0, 0, 0, 0, 0, 0, 0, 0, 0, 0, 0, 0, 0, 0, 0, 0, 0, 0, 0, 0, 0, 0, 0, 0, 0, 0, 0, 0, 0, 0, 0, 0, 0, 0, 0, 0, 0, 0, 0, 0, 0, 0, 0, 0, 0, 0, 0, 0, 0, 0, 0, 0, 0, 0, 0, 0, 0, 0, 0, 0, 0, 0, 0, 0, 0, 0, 0, 0, 0, 0, 0, 0, 0, 0, 0, 0, 0, 0, 0, 0, 0, 0, 0, 1, 0, 0, 0, 0, 0, 0, 0, 0, 0, 0, 0, 0, 0, 0, 0, 0, 0, 0, 0, 0, 0, 0, 0, 0, 0, 0, 0, 0, 0, 0, 0, 0, 0, 0, 0, 0, 0, 0, 0, 0, 0, 0, 0, 0, 0, 0, 0, 0, 0, 0, 0, 0, 0, 0, 0, 1, 0, 0, 0, 0, 0, 0, 0, 0, 0, 0, 0, 0, 0, 0, 0, 0, 0, 0, 0, 0, 0, 0, 0, 0, 0, 0, 0, 0, 0, 0, 0, 0, 0, 0, 0, 0, 0, 0, 0, 0, 0, 0, 0, 0, 0, 0, 0, 0, 0, 0, 0, 0, 0, 0, 0, 0, 0, 0, 0, 0, 0, 0, 0, 0, 0, 0, 0, 0, 0, 0, 0, 0, 0, 0, 0, 0, 0, 0, 0, 0, 0, 0, 0, 0, 0, 0, 0, 0, 0, 0, 0, 0, 0, 0, 0, 0, 0, 0, 0, 0, 0, 0, 0, 0, 0, 0, 0, 0, 0, 0, 0, 0, 0, 0, 0, 0, 0, 0, 0, 0, 0, 0, 0, 0, 0, 0, 0, 0, 0, 0, 0, 0, 0, 0, 0, 0, 0, 0, 0, 0, 0, 0, 0, 0, 0, 0, 0, 0, 0, 0, 0, 0, 0, 0, 0, 0, 0, 0, 0, 0, 0, 0, 0, 0, 0, 0, 0, 0, 0, 0, 0, 0, 0, 0, 0, 0, 0, 0, 0, 0, 0, 0, 0, 0, 0, 0, 0, 0, 0, 0, 0, 0, 0, 0, 0, 0, 0, 0, 0, 0, 0, 0, 0, 0, 0, 0, 0, 0, 0, 0, 0, 0, 0, 0, 0, 0, 0, 0, 0, 0, 0, 0, 0, 0, 0, 0, 0, 0, 0, 0, 0, 0, 0, 0, 0, 0, 0, 0, 0, 0, 0, 0, 0, 0, 0, 0, 0, 0, 0, 0, 0, 0, 0, 0, 0, 0, 0, 0, 0, 0, 0, 0, 0, 0, 0, 0, 0, 0, 0, 0, 0, 0, 0, 0, 0, 0, 0, 0, 0, 0, 0, 0, 0, 0, 0, 0, 0, 0, 0, 0, 0, 0, 0, 0, 0, 0, 0, 0, 0, 0, 0, 0, 0, 0, 0, 0, 0, 0, 0, 0, 0, 0, 0, 0, 0, 0, 0, 0, 0, 0, 0, 0, 0, 0, 0, 0, 0, 0, 0, 0, 0, 0, 0, 0, 0, 0, 0, 0, 0, 0, 0, 0, 0, 0, 0, 0, 0, 0, 0, 0, 0, 0, 0, 0, 0, 0, 0, 0, 0, 0, 0, 0, 0, 0, 0, 0, 0, 0, 0, 0, 0, 0, 0, 0, 0, 0, 0, 0, 0, 0, 0, 0, 0, 0, 0, 0, 0, 0, 0, 0, 0, 0, 0, 0, 0, 0, 0, 0, 0, 0, 0, 0, 0, 0, 0, 0, 0, 0, 0, 0, 0, 0, 0, 0, 0, 0, 0, 0, 0, 0, 0, 0, 0, 0, 0, 0, 0, 0, 0, 0, 0, 0, 0, 0, 0, 0, 0, 0, 0, 0, 0, 0, 0, 0, 0, 0, 0, 0, 0, 0, 0, 0, 0, 0, 0, 0, 0, 0, 0, 0, 0, 0, 0, 0, 0, 0, 0, 0, 0, 0, 0, 0, 0, 0, 0, 0, 0, 0, 0, 0, 0, 0, 0, 0, 0, 0, 0, 0, 0, 0, 0, 0, 0, 0, 0, 0, 0, 0, 0, 0, 0, 0, 0, 0, 0, 0, 0, 0, 0, 0, 0, 0, 0, 0, 0, 0, 0, 0, 0, 0, 0, 0, 0, 0, 0, 0, 0, 0, 0, 0, 0, 0, 0, 0, 0, 0, 0, 0, 0, 0, 0, 0, 0, 0, 0, 0, 0, 0, 0, 0, 0, 0, 0, 0, 0, 0, 0, 0, 0, 0, 0, 0, 0, 0, 0, 0, 0, 0, 0, 0, 0, 0, 0, 0, 0, 0, 0, 0, 0, 0, 0, 0, 0, 0, 0, 0, 0, 0, 0, 0, 0, 0, 0, 0, 0, 0, 0, 0, 0, 0, 0, 0, 0, 0, 0, 0, 0, 0, 0, 0, 0, 0, 0, 0, 0, 0, 0, 0, 0, 0, 0, 0, 0, 0, 0, 0, 0, 0, 0, 0, 0, 0, 0, 0, 0, 0, 0, 0, 0, 0, 0, 0, 0, 0, 0, 0, 0, 0, 0, 0, 0, 0, 0, 0, 0, 0, 0, 0, 0, 0, 0, 0, 0, 0, 0, 0, 0, 0, 0, 0, 0, 0, 0, 0, 0, 0, 0, 0, 0, 0, 0, 1, 0, 0, 0, 0, 0, 0, 0, 0, 0, 0, 0, 0, 0, 0, 0, 0, 0, 0, 0, 0, 0, 0, 0, 0, 0, 0, 0, 0, 0, 0, 0, 0, 0, 0, 0, 0, 0, 0, 0, 0, 0, 0, 0, 0, 0, 0, 0, 0, 0, 0, 0, 0, 0, 0, 0, 0, 0, 0, 0, 0, 0, 0, 0, 0, 0, 0, 0, 0, 0, 0, 0, 0, 0, 0, 1, 0, 0, 0, 0, 0, 0, 0, 0, 0, 0, 0, 0, 0, 0, 0, 0, 0, 0, 0, 0, 1, 0, 0, 1, 0, 0, 0, 0, 0, 0, 0, 0, 0, 0, 0, 0, 0, 0, 0, 0, 0, 0, 0, 0, 0, 0, 0, 0, 0, 0, 0, 0, 0, 0, 0, 0, 0, 0, 0, 0, 0, 0, 0, 0, 0, 0, 0, 0, 0, 0, 0, 0, 0, 0, 0, 0, 0, 0, 0, 0, 0, 0, 0, 0, 0, 0, 0, 0, 0, 0, 0, 0, 0, 0, 0, 0, 0, 0, 0, 0, 0, 0, 0, 0, 0, 0, 0, 0, 0, 0, 0, 0, 0, 0, 0, 0, 0, 0, 0, 0, 0, 0, 0, 0, 0, 0, 0, 0, 0, 0, 0, 0, 0, 0, 0, 0, 0, 0, 0, 0, 0, 0, 0, 0, 0, 0, 0, 0, 0, 0, 0, 0, 0, 0, 0, 0, 0, 0, 0, 0, 0, 0, 0, 0, 0, 0, 0, 0, 0, 0, 0, 0, 0, 0, 0, 0, 0, 0, 0, 0, 0, 0, 0, 0, 0, 0, 0, 0, 0, 0, 0, 0, 0, 0, 0, 0, 0, 0, 0, 0, 0, 0, 0, 0, 0, 0, 0, 0, 0, 0, 0, 0, 0, 0, 0, 0, 0, 0, 0, 0, 0, 0, 0, 0, 0, 0, 0, 0, 0, 0, 0, 0, 0, 0, 0, 0, 0, 0, 0, 0, 0, 0, 0, 0, 0, 0, 0, 0, 0, 0, 0, 0, 0, 0, 0, 0, 0, 0, 0, 0, 0, 0, 0, 0, 0, 0, 0, 0, 0, 0, 0, 0, 0, 0, 0, 0, 0, 0, 0, 0, 0, 0, 0, 0, 0, 0, 0, 0, 0, 0, 0, 0, 0, 0, 0, 0, 0, 0, 0, 0, 0, 0, 0, 0, 0, 0, 0, 0, 0, 0, 0, 0, 0, 0, 0, 0, 0, 0, 0, 0, 0, 0, 0, 0, 0, 0, 0, 0, 0, 0, 0, 0, 0, 0, 0, 0, 0, 0, 0, 0, 0, 0, 0, 0, 0, 0, 0, 0, 0, 0, 0, 0, 0, 0, 0, 0, 0, 0, 0, 0, 0, 0, 0, 0, 0, 0, 0, 0, 0, 0, 0, 0, 0, 0, 0, 0, 0, 0, 0, 0, 0, 0, 0, 0, 0, 0, 0, 0, 0, 0, 0, 0, 0, 0, 0, 0, 0, 0, 0, 0, 0, 0, 0, 0, 0, 0, 0, 0, 0, 0, 0, 0, 0, 0, 0, 0, 0, 0, 0, 0, 0, 0, 0, 0, 0, 0, 0, 0, 0, 0, 0, 0, 0, 0, 0, 0, 0, 0, 0, 0, 0, 0, 0, 0, 0, 0, 0, 0, 0, 0, 0, 0, 0, 0, 0, 0, 0, 0, 0, 0, 0, 0, 0, 0, 0, 0, 0, 0, 0, 0, 0, 0, 0, 0, 0, 0, 0, 0, 0, 0, 0, 0, 0, 0, 0, 0, 0, 0, 0, 0, 1, 0, 0, 0, 0, 0, 0, 0, 0, 0, 0, 0, 0, 0, 0, 0, 0, 0, 0, 0, 0, 0, 0, 0, 0, 0, 0, 0, 0, 0, 0, 0, 0, 0, 0, 0, 0, 0, 0, 0, 0, 0, 0, 0, 0, 0, 0, 0, 0, 0, 0, 0, 0, 0, 0, 0, 0, 0, 0, 0, 0, 0, 0, 0, 0, 0, 0, 0, 0, 0, 0, 0, 0, 0, 0, 0, 0, 0, 0, 0, 0, 0, 0, 0, 0, 0, 0, 0, 0, 0, 0, 0, 0, 0, 0, 0, 0, 0, 0, 0, 0, 0, 0, 0, 0, 0, 0, 0, 0, 0, 0, 0, 0, 0, 0, 0, 0, 0, 0, 0, 0, 0, 0, 0, 0, 0, 0, 0, 0, 0, 0, 0, 0, 0, 0, 0, 0, 0, 0, 0, 0, 0, 0, 0, 0, 0, 0, 0, 0, 0, 0, 0, 0, 0, 0, 0, 0, 0, 0, 0, 0, 0, 0, 0, 0, 0, 0, 0, 0, 0, 0, 0, 0, 0, 0, 0, 0, 0, 0, 0, 0, 0, 0, 0, 0, 0, 0, 0, 0, 0, 0, 0, 0, 0, 0, 0, 0, 0, 0, 0, 0, 0, 0, 0, 0, 0, 0, 0, 0, 0, 0, 0, 0, 0, 0, 0, 0, 0, 0, 0, 0, 0, 0, 0, 0, 0, 0, 0, 0, 0, 0, 0, 0, 0, 0, 0, 0, 0, 0, 0, 0, 0, 0, 0, 0, 0, 0, 0, 0, 0, 0, 0, 0, 0, 0, 0, 0, 0, 0, 0, 0, 0, 0, 0, 0, 0, 0, 0, 0, 0, 0, 0, 0, 0, 0, 0, 0, 0, 0, 0, 0, 0, 0, 0, 0, 0, 0, 0, 0, 0, 0, 0, 0, 0, 0, 0, 0, 0, 0, 0, 0, 0, 0, 0, 0, 0, 0, 0, 0, 0, 0, 0, 0, 0, 0, 0, 0, 0, 0, 0, 0, 0, 0, 0, 0, 0, 0, 0, 0, 0, 0, 0, 0, 0, 0, 0, 0, 0, 0, 0, 0, 0, 0, 0, 0, 0, 0, 0, 0, 0, 0, 0, 0, 0, 0, 0, 0, 0, 0, 0, 0, 0, 0, 0, 0, 0, 0, 0, 0, 0, 0, 0, 0, 0, 0, 0, 0, 0, 0, 0, 0, 0, 0, 0, 0, 0, 0, 0, 0, 0, 0, 0, 0, 0, 0, 0, 0, 0, 0, 0, 0, 0, 0, 0, 0, 0, 0, 0, 0, 0, 0, 0, 0, 0, 0, 0, 0, 0, 0, 0, 0, 0, 0, 0, 0, 0, 0, 0, 0, 0, 0, 0, 0, 0, 0, 0, 0, 0, 0, 0, 0, 0, 0, 0, 0, 0, 0, 0, 0, 0, 0, 0, 0, 0, 0, 0, 0, 0, 0, 0, 0, 0, 0, 0, 0, 0, 0, 0, 0, 0, 0, 0, 0, 0, 0, 0, 0, 0, 0, 0, 0, 0, 0, 0, 0, 0, 0, 0, 0, 0, 0, 0, 0, 0, 0, 0, 0, 0, 0, 0, 0, 0, 0, 0, 0, 0, 0, 0, 0, 0, 0, 0, 0, 1, 0, 0, 0, 0, 0, 0, 0, 0, 0, 0, 0, 0, 0, 0, 0, 0, 0, 0, 0, 0, 0, 0, 0, 0, 0, 0, 0, 0, 0, 0, 0, 0, 0, 0, 0, 2, 0, 0, 0, 0, 0, 0, 0, 0, 0, 0, 0, 0, 0, 0, 0, 0, 0, 0, 0, 0, 0, 0, 0, 0, 0, 0, 0, 0, 0, 0, 0, 0, 0, 0, 0, 0, 0, 0, 0, 0, 1, 0, 0, 0, 0, 0, 0, 0, 0, 0, 0, 0, 0, 0, 0, 0, 0, 0, 0, 0, 0, 0, 0, 0, 0, 0, 0, 0, 0, 0, 0, 0, 0, 0, 0, 0, 0, 0, 0, 0, 0, 0, 0, 0, 0, 0, 0, 0, 0, 0, 0, 0, 0, 0, 0, 0, 0, 0, 0, 0, 0, 0, 0, 0, 0, 0, 0, 0, 0, 0, 0, 0, 0, 0, 0, 0, 0, 0, 0, 0, 0, 0, 0, 0, 0, 0, 0, 0, 0, 0, 0, 0, 0, 0, 0, 0, 0, 0, 0, 0, 0, 0, 0, 0, 0, 0, 0, 0, 0, 0, 0, 0, 0, 0, 0, 0, 0, 0, 0, 0, 0, 0, 0, 0, 0, 0, 0, 0, 0, 0, 0, 0, 0, 0, 0, 0, 0, 0, 0, 0, 0, 0, 0, 0, 0, 0, 0, 0, 0, 0, 0, 0, 0, 0, 0, 0, 0, 0, 0, 0, 0, 0, 0, 0, 0, 0, 0, 0, 0, 0, 0, 0, 0, 0, 0, 0, 0, 0, 0, 0, 0, 0, 0, 0, 0, 0, 0, 0, 0, 0, 0, 0, 0, 0, 0, 0, 0, 0, 0, 0, 0, 0, 0, 0, 0, 0, 0, 0, 0, 0, 0, 0, 0, 0, 0, 0, 0, 0, 0, 0, 0, 0, 0, 0, 0, 0, 0, 0, 0, 0, 0, 0, 0, 0, 0, 0, 0, 0, 0, 0, 0, 0, 0, 0, 0, 0, 0, 0, 0, 0, 0, 0, 0, 0, 0, 0, 0, 0, 0, 0, 0, 0, 0, 0, 0, 0, 0, 0, 0, 0, 0, 0, 0, 0, 0, 0, 0, 0, 0, 0, 0, 0, 0, 0, 0, 0, 0, 0, 0, 0, 0, 0, 0, 0, 0, 0, 0, 0, 0, 0, 0, 0, 0, 0, 0, 0, 0, 0, 0, 0, 0, 0, 0, 0, 0, 0, 0, 0, 0, 0, 0, 0, 0, 0, 0, 0, 0, 0, 0, 0, 0, 0, 0, 0, 0, 0, 0, 0, 0, 0, 0, 0, 0, 0, 0, 0, 0, 0, 0, 0, 0, 0, 0, 0, 0, 0, 0, 0, 0, 0, 0, 0, 0, 0, 0, 0, 0, 0, 0, 0, 0, 0, 0, 0, 0, 0, 0, 0, 0, 0, 0, 0, 0, 0, 0, 0, 0, 0, 0, 0, 0, 0, 0, 0, 0, 0, 0, 0, 0, 0, 0, 0, 0, 0, 0, 0, 0, 0, 0, 0, 0, 0, 0, 0, 0, 0, 0, 0, 0, 0, 0, 0, 0, 0, 0, 0, 0, 0, 0, 0, 0, 0, 0, 0, 0, 0, 0, 0, 0, 0, 0, 0, 0, 0, 0, 0, 0, 0, 0, 0, 0, 0, 0, 0, 0, 0, 0, 0, 0, 0, 0, 0, 0, 0, 0, 0, 0, 0, 0, 0, 0, 0, 0, 0, 0, 0, 0, 0, 0, 0, 0, 0, 0, 0, 0, 0, 0, 0, 0, 0, 0, 0, 0, 0, 0, 0, 0, 0, 1, 0, 0, 0, 0, 0, 0, 0, 0, 0, 0, 0, 0, 0, 0, 0, 0, 0, 0, 0, 0, 0, 0, 0, 0, 0, 0, 0, 0, 0, 0, 0, 0, 0, 0, 0, 0, 0, 0, 0, 0, 0, 0, 0, 0, 0, 0, 0, 0, 0, 0, 0, 0, 0, 0, 0, 0, 0, 0, 0, 0, 0, 0, 0, 0, 0, 0, 0, 0, 0, 0, 0, 0, 0, 0, 0, 0, 0, 0, 0, 0, 0, 0, 0, 0, 0, 0, 0, 0, 0, 0, 0, 0, 0, 0, 0, 0, 0, 0, 0, 0, 0, 0, 0, 0, 0, 0, 0, 0, 0, 0, 2, 0, 0, 0, 0, 0, 0, 0, 0, 0, 0, 0, 0, 0, 0, 0, 0, 0, 0, 0, 0, 0, 0, 0, 0, 0, 0, 0, 0, 0, 0, 0, 0, 0, 0, 0, 0, 0, 0, 0, 0, 0, 0, 0, 0, 0, 0, 0, 0, 0, 0, 0, 0, 0, 0, 0, 0, 0, 0, 0, 0, 0, 0, 0, 0, 0, 0, 0, 0, 0, 0, 0, 0, 0, 0, 0, 0, 0, 0, 0, 0, 0, 0, 0, 0, 0, 0, 0, 0, 0, 0, 0, 0, 0, 0, 0, 0, 0, 0, 0, 0, 0, 0, 0, 0, 0, 0, 0, 0, 0, 0, 0, 0, 0, 0, 0, 0, 0, 0, 0, 0, 0, 0, 0, 0, 0, 0, 0, 0, 0, 0, 0, 0, 0, 0, 0, 0, 0, 0, 0, 0, 0, 0, 0, 0, 0, 0, 0, 0, 0, 0, 0, 0, 0, 0, 0, 0, 0, 0, 0, 0, 0, 0, 0, 0, 0, 0, 0, 0, 0, 0, 0, 0, 0, 0, 0, 0, 0, 0, 0, 0, 0, 0, 0, 0, 0, 0, 0, 0, 0, 0, 0, 0, 0, 0, 0, 0, 0, 0, 0, 0, 0, 0, 0, 0, 0, 0, 0, 0, 0, 0, 0, 0, 0, 0, 0, 0, 0, 0, 0, 0, 0, 0, 0, 0, 0, 0, 0, 0, 0, 0, 0, 0, 0, 0, 0, 0, 0, 0, 0, 0, 0, 0, 0, 0, 0, 0, 0, 0, 0, 0, 0, 0, 0, 0, 0, 0, 0, 0, 0, 0, 0, 0, 0, 0, 0, 0, 0, 0, 0, 0, 0, 0, 0, 0, 0, 0, 0, 0, 0, 0, 0, 0, 0, 0, 0, 0, 0, 0, 0, 0, 0, 0, 0, 0, 0, 0, 0, 0, 0, 0, 0, 0, 0, 0, 0, 0, 0, 0, 0, 0, 0, 0, 0, 0, 0, 0, 0, 0, 0, 0, 0, 0, 0, 0, 0, 0, 0, 0, 0, 0, 0, 0, 0, 0, 0, 0, 0, 0, 0, 0, 0, 0, 0, 0, 0, 0, 0, 0, 0, 0, 0, 0, 0, 0, 0, 0, 0, 0, 0, 0, 0, 0, 0, 0, 0, 0, 0, 0, 0, 0, 0, 0, 0, 0, 0, 0, 0, 0, 0, 0, 0, 0, 0, 0, 0, 0, 0, 0, 0, 0, 0, 0, 0, 0, 0, 0, 0, 0, 0, 0, 0, 0, 0, 0, 0, 0, 0, 0, 0, 0, 0, 0, 0, 0, 0, 0, 0, 0, 0, 0, 0, 0, 0, 0, 0, 0, 0, 0, 0, 0, 0, 0, 0, 0, 0, 0, 0, 0, 0, 0, 0, 0, 0, 0, 0, 0, 0, 0, 0, 0, 0, 0, 0, 0, 0, 0, 0, 0, 0, 0, 0, 0, 0, 0, 0, 0, 0, 0, 0, 0, 0, 0, 0, 0, 0, 0, 0, 0, 0, 0, 0, 0, 0, 0, 0, 0, 0, 0, 0, 0, 0, 0, 0, 0, 0, 0, 0, 0, 0, 0, 0, 0, 0, 0, 0, 0, 0, 0, 0, 0, 0, 0, 0, 0, 0, 0, 0, 0, 0, 0, 0, 0, 0, 0, 0, 0, 0, 0, 0, 0, 0, 0, 0, 0, 0, 0, 0, 0, 0, 0, 0, 0, 0, 0, 0, 0, 0, 0, 0, 0, 0, 0, 0, 0, 0, 0, 0, 0, 0, 0, 0, 0, 0, 0, 0, 0, 0, 0, 0, 0, 0, 0, 0, 0, 0, 0, 0, 0, 0, 0, 0, 0, 0, 0, 0, 0, 0, 0, 0, 0, 0, 0, 0, 0, 0, 0, 0, 0, 0, 0, 0, 0, 0, 0, 0, 0, 0, 0, 0, 0, 0, 0, 0, 0, 0, 0, 0, 0, 0, 0, 0, 0, 0, 0, 0, 0, 0, 0, 0, 0, 0, 0, 0, 0, 0, 0, 0, 0, 0, 0, 0, 0, 0, 0, 0, 0, 0, 0, 0, 0, 0, 0, 0, 0, 0, 0, 0, 0, 0, 0, 0, 0, 0, 0, 0, 0, 0, 0, 0, 0, 0, 0, 0, 0, 0, 0, 0, 0, 0, 0, 0, 0, 0, 0, 0, 0, 0, 0, 0, 0, 1, 0, 0, 0, 0, 0, 0, 0, 0, 0, 0, 0, 0, 0, 0, 0, 0, 0, 0, 0, 0, 0, 0, 0, 0, 0, 0, 0, 0, 0, 0, 0, 0, 0, 0, 0, 0, 0, 0, 0, 0, 0, 0, 0, 0, 0, 0, 0, 0, 0, 0, 0, 0, 0, 0, 0, 0, 0, 0, 0, 0, 0, 0, 0, 0, 0, 0, 0, 0, 0, 0, 0, 0, 0, 0, 0, 0, 0, 0, 0, 0, 0, 0, 0, 0, 0, 0, 0, 0, 0, 0, 0, 0, 0, 0, 0, 0, 0, 0, 0, 0, 0, 0, 0, 0, 0, 0, 0, 1, 0, 0, 0, 0, 0, 0, 0, 0, 0, 0, 0, 0, 0, 0, 0, 0, 0, 0, 0, 0, 0, 0, 0, 0, 0, 0, 0, 0, 0, 0, 0, 0, 0, 0, 0, 0, 0, 0, 0, 0, 0, 0, 0, 0, 0, 0, 0, 0, 0, 0, 0, 0, 0, 0, 0, 0, 0, 0, 0, 0, 0, 0, 0, 0, 0, 0, 0, 0, 0, 0, 0, 0, 0, 0, 0, 0, 0, 0, 0, 0, 0, 0, 0, 0, 0, 0, 0, 0, 0, 0, 0, 0, 0, 0, 0, 0, 0, 0, 0, 0, 0, 0, 0, 0, 0, 0, 0, 0, 0, 0, 0, 0, 0, 0, 0, 0, 0, 0, 0, 0, 0, 0, 0, 0, 0, 0, 0, 0, 0, 0, 0, 0, 0, 0, 0, 0, 0, 0, 0, 0, 0, 0, 0, 0, 0, 0, 0, 0, 0, 0, 0, 0, 0, 0, 0, 0, 0, 0, 0, 0, 0, 0, 0, 0, 0, 0, 0, 0, 0, 0, 0, 0, 0, 0, 0, 0, 0, 0, 0, 0, 0, 0, 0, 0, 0, 0, 0, 0, 0, 0, 0, 0, 0, 0, 0, 0, 0, 0, 0, 0, 0, 0, 0, 0, 0, 0, 0, 0, 0, 0, 0, 0, 0, 0, 0, 0, 0, 0, 0, 0, 0, 0, 0, 0, 0, 0, 0, 0, 0, 0, 0, 0, 0, 0, 0, 0, 0, 0, 0, 0, 0, 0, 0, 0, 0, 0, 0, 0, 0, 0, 0, 0, 0, 0, 0, 0, 0, 0, 0, 0, 0, 0, 0, 0, 0, 0, 0, 0, 0, 0, 0, 0, 0, 0, 0, 0, 0, 0, 0, 0, 0, 0, 0, 0, 0, 0, 0, 0, 0, 0, 0, 0, 0, 0, 0, 0, 0, 0, 0, 0, 0, 0, 0, 0, 0, 0, 0, 0, 0, 0, 0, 0, 0, 0, 0, 0, 0, 0, 0, 0, 0, 0, 0, 0, 0, 0, 0, 0, 0, 0, 0, 0, 0, 0, 0, 0, 0, 0, 0, 0, 0, 0, 0, 0, 0, 0, 0, 0, 0, 0, 0, 0, 0, 0, 0, 0, 0, 0, 0, 0, 0, 0, 0, 0, 0, 0, 0, 0, 0, 0, 0, 0, 0, 0, 0, 0, 0, 0, 0, 0, 0, 0, 0, 0, 0, 0, 0, 0, 0, 0, 0, 0, 0, 0, 0, 0, 0, 0, 0, 0, 0, 0, 0, 0, 0, 0, 0, 0, 0, 0, 0, 0, 0, 0, 0, 0, 0, 0, 0, 0, 0, 0, 0, 0, 0, 0, 0, 0, 0, 0, 0, 0, 0, 0, 0, 0, 0, 0, 0, 0, 0, 0, 0, 0, 0, 0, 0, 0, 0, 0, 0, 0, 0, 0, 0, 0, 0, 0, 0, 0, 0, 0, 0, 2, 0, 1, 0], type: <class 'list'>, valid types: <class 'bytes'>, <class 'bytearray'>, file-like object"
     ]
    }
   ],
   "source": [
    "response = runtime.invoke_endpoint(EndpointName = xgb_predictor.endpoint, # The name of the endpoint we created\n",
    "                                       ContentType = 'text/csv',                     # The data format that is expected\n",
    "                                       Body = test_bow)"
   ]
  },
  {
   "cell_type": "markdown",
   "metadata": {},
   "source": [
    "So why did we get an error?\n",
    "\n",
    "Because we tried to send the endpoint a list of integers but it expected us to send data of type `text/csv`. So, we need to convert it."
   ]
  },
  {
   "cell_type": "code",
   "execution_count": 45,
   "metadata": {},
   "outputs": [],
   "source": [
    "response = runtime.invoke_endpoint(EndpointName = xgb_predictor.endpoint, # The name of the endpoint we created\n",
    "                                       ContentType = 'text/csv',                     # The data format that is expected\n",
    "                                       Body = ','.join([str(val) for val in test_bow]).encode('utf-8'))"
   ]
  },
  {
   "cell_type": "code",
   "execution_count": 46,
   "metadata": {},
   "outputs": [
    {
     "name": "stdout",
     "output_type": "stream",
     "text": [
      "{'ResponseMetadata': {'RequestId': 'c6271bf1-c6ef-42b3-86f5-f0e2e53153e8', 'HTTPStatusCode': 200, 'HTTPHeaders': {'x-amzn-requestid': 'c6271bf1-c6ef-42b3-86f5-f0e2e53153e8', 'x-amzn-invoked-production-variant': 'AllTraffic', 'date': 'Sun, 20 Jan 2019 15:51:10 GMT', 'content-type': 'text/csv; charset=utf-8', 'content-length': '14'}, 'RetryAttempts': 0}, 'ContentType': 'text/csv; charset=utf-8', 'InvokedProductionVariant': 'AllTraffic', 'Body': <botocore.response.StreamingBody object at 0x7fdbe9f6fef0>}\n"
     ]
    }
   ],
   "source": [
    "print(response)"
   ]
  },
  {
   "cell_type": "markdown",
   "metadata": {},
   "source": [
    "As we can see, the response from our model is a somewhat complicated looking dict that contains a bunch of information. The bit that we are most interested in is `'Body'` object which is a streaming object that we need to `read` in order to make use of."
   ]
  },
  {
   "cell_type": "code",
   "execution_count": 47,
   "metadata": {},
   "outputs": [
    {
     "name": "stdout",
     "output_type": "stream",
     "text": [
      "0.464617609978\n"
     ]
    }
   ],
   "source": [
    "response = response['Body'].read().decode('utf-8')\n",
    "print(response)"
   ]
  },
  {
   "cell_type": "markdown",
   "metadata": {},
   "source": [
    "Now that we know how to process the incoming user data we can start setting up the infrastructure to make our simple web app work. To do this we will make use of two different services. Amazon's Lambda and API Gateway services.\n",
    "\n",
    "Lambda is a service which allows someone to write some relatively simple code and have it executed whenever a chosen trigger occurs. For example, you may want to update a database whenever new data is uploaded to a folder stored on S3.\n",
    "\n",
    "API Gateway is a service that allows you to create HTTP endpoints (url addresses) which are connected to other AWS services. One of the benefits to this is that you get to decide what credentials, if any, are required to access these endpoints.\n",
    "\n",
    "In our case we are going to set up an HTTP endpoint through API Gateway which is open to the public. Then, whenever anyone sends data to our public endpoint we will trigger a Lambda function which will send the input (in our case a review) to our model's endpoint and then return the result."
   ]
  },
  {
   "cell_type": "markdown",
   "metadata": {},
   "source": [
    "### Setting up a Lambda function\n",
    "\n",
    "The first thing we are going to do is set up a Lambda function. This Lambda function will be executed whenever our public API has data sent to it. When it is executed it will receive the data, perform any sort of processing that is required, send the data (the review) to the SageMaker endpoint we've created and then return the result.\n",
    "\n",
    "#### Part A: Create an IAM Role for the Lambda function\n",
    "\n",
    "Since we want the Lambda function to call a SageMaker endpoint, we need to make sure that it has permission to do so. To do this, we will construct a role that we can later give the Lambda function.\n",
    "\n",
    "Using the AWS Console, navigate to the **IAM** page and click on **Roles**. Then, click on **Create role**. Make sure that the **AWS service** is the type of trusted entity selected and choose **Lambda** as the service that will use this role, then click **Next: Permissions**.\n",
    "\n",
    "In the search box type `sagemaker` and select the check box next to the **AmazonSageMakerFullAccess** policy. Then, click on **Next: Review**.\n",
    "\n",
    "Lastly, give this role a name. Make sure you use a name that you will remember later on, for example `LambdaSageMakerRole`. Then, click on **Create role**."
   ]
  },
  {
   "cell_type": "markdown",
   "metadata": {},
   "source": [
    "#### Part B: Create a Lambda function\n",
    "\n",
    "Now it is time to actually create the Lambda function. Remember from earlier that in order to process the user provided input and send it to our endpoint we need to gather two pieces of information:\n",
    "\n",
    " - The name of the endpoint, and\n",
    " - the vocabulary object.\n",
    "\n",
    "We will copy these pieces of information to our Lambda function after we create it.\n",
    "\n",
    "To start, using the AWS Console, navigate to the AWS Lambda page and click on **Create a function**. When you get to the next page, make sure that **Author from scratch** is selected. Now, name your Lambda function, using a name that you will remember later on, for example `sentiment_analysis_xgboost_func`. Make sure that the **Python 3.6** runtime is selected and then choose the role that you created in the previous part. Then, click on **Create Function**.\n",
    "\n",
    "On the next page you will see some information about the Lambda function you've just created. If you scroll down you should see an editor in which you can write the code that will be executed when your Lambda function is triggered. Collecting the code we wrote above to process a single review and adding it to the provided example `lambda_handler` we arrive at the following.\n",
    "\n",
    "```python\n",
    "# We need to use the low-level library to interact with SageMaker since the SageMaker API\n",
    "# is not available natively through Lambda.\n",
    "import boto3\n",
    "\n",
    "# And we need the regular expression library to do some of the data processing\n",
    "import re\n",
    "\n",
    "REPLACE_NO_SPACE = re.compile(\"(\\.)|(\\;)|(\\:)|(\\!)|(\\')|(\\?)|(\\,)|(\\\")|(\\()|(\\))|(\\[)|(\\])\")\n",
    "REPLACE_WITH_SPACE = re.compile(\"(<br\\s*/><br\\s*/>)|(\\-)|(\\/)\")\n",
    "\n",
    "def review_to_words(review):\n",
    "    words = REPLACE_NO_SPACE.sub(\"\", review.lower())\n",
    "    words = REPLACE_WITH_SPACE.sub(\" \", words)\n",
    "    return words\n",
    "    \n",
    "def bow_encoding(words, vocabulary):\n",
    "    bow = [0] * len(vocabulary) # Start by setting the count for each word in the vocabulary to zero.\n",
    "    for word in words.split():  # For each word in the string\n",
    "        if word in vocabulary:  # If the word is one that occurs in the vocabulary, increase its count.\n",
    "            bow[vocabulary[word]] += 1\n",
    "    return bow\n",
    "\n",
    "\n",
    "def lambda_handler(event, context):\n",
    "    \n",
    "    vocab = \"*** ACTUAL VOCABULARY GOES HERE ***\"\n",
    "    \n",
    "    words = review_to_words(event['body'])\n",
    "    bow = bow_encoding(words, vocab)\n",
    "\n",
    "    # The SageMaker runtime is what allows us to invoke the endpoint that we've created.\n",
    "    runtime = boto3.Session().client('sagemaker-runtime')\n",
    "\n",
    "    # Now we use the SageMaker runtime to invoke our endpoint, sending the review we were given\n",
    "    response = runtime.invoke_endpoint(EndpointName = '***ENDPOINT NAME HERE***',# The name of the endpoint we created\n",
    "                                       ContentType = 'text/csv',                 # The data format that is expected\n",
    "                                       Body = ','.join([str(val) for val in bow]).encode('utf-8')) # The actual review\n",
    "\n",
    "    # The response is an HTTP response whose body contains the result of our inference\n",
    "    result = response['Body'].read().decode('utf-8')\n",
    "    \n",
    "    # Round the result so that our web app only gets '1' or '0' as a response.\n",
    "    result = round(float(result))\n",
    "\n",
    "    return {\n",
    "        'statusCode' : 200,\n",
    "        'headers' : { 'Content-Type' : 'text/plain', 'Access-Control-Allow-Origin' : '*' },\n",
    "        'body' : str(result)\n",
    "    }\n",
    "```"
   ]
  },
  {
   "cell_type": "markdown",
   "metadata": {},
   "source": [
    "Once you have copy and pasted the code above into the Lambda code editor, replace the `**ENDPOINT NAME HERE**` portion with the name of the endpoint that we deployed earlier. You can determine the name of the endpoint using the code cell below."
   ]
  },
  {
   "cell_type": "code",
   "execution_count": 48,
   "metadata": {},
   "outputs": [
    {
     "data": {
      "text/plain": [
       "'xgboost-2019-01-20-15-14-46-694'"
      ]
     },
     "execution_count": 48,
     "metadata": {},
     "output_type": "execute_result"
    }
   ],
   "source": [
    "xgb_predictor.endpoint"
   ]
  },
  {
   "cell_type": "markdown",
   "metadata": {},
   "source": [
    "In addition, you will need to copy the vocabulary dict to the appropriate place in the code at the beginning of the `lambda_handler` method. The cell below prints out the vocabulary dict in a way that is easy to copy and paste."
   ]
  },
  {
   "cell_type": "code",
   "execution_count": 49,
   "metadata": {},
   "outputs": [
    {
     "name": "stdout",
     "output_type": "stream",
     "text": [
      "{'saw': 3798, 'this': 4457, 'film': 1716, 'with': 4911, 'special': 4097, 'screening': 3830, 'of': 3083, 'the': 4426, 'work': 4940, 'it': 2366, 'is': 2360, 'so': 4046, 'interesting': 2325, 'where': 4864, 'did': 1241, 'guy': 2000, 'come': 886, 'from': 1840, 'now': 3054, 'he': 2056, 'probably': 3407, 'key': 2458, 'independent': 2272, 'african': 142, 'filmmaker': 1719, 'in': 2257, 'world': 4946, 'and': 226, 'am': 204, 'not': 3040, 'talking': 4360, 'about': 67, 'black': 493, 'filmmakers': 1720, 'who': 4871, 'are': 285, 'culture': 1079, 'idea': 2213, 'if': 2222, 'anything': 260, 'to': 4507, 'range': 3516, 'themes': 4434, 'his': 2118, 'years': 4979, 'later': 2525, 'issue': 2364, 'but': 636, 'doesnt': 1309, 'fit': 1740, 'that': 4424, 'showing': 3958, 'artistic': 308, 'an': 223, 'all': 187, 'cast': 710, 'topic': 4526, 'human': 2188, 'which': 4867, 'most': 2909, 'us': 4690, 'could': 1007, 'relate': 3593, 'just': 2437, 'love': 2669, 'mild': 2839, 'comedy': 890, 'amazing': 209, 'really': 3556, 'art': 304, 'house': 2178, 'gem': 1877, 'sat': 3786, 'how': 2181, 'awful': 372, 'youd': 4987, 'have': 2052, 'write': 4967, 'pages': 3168, 'suffice': 4279, 'say': 3799, 'bad': 382, 'directing': 1260, 'when': 4862, 'directors': 1266, 'go': 1924, 'should': 3951, 'been': 438, 'title': 4504, 'production': 3419, 'indeed': 2271, 'supposed': 4306, 'their': 4431, 'sense': 3877, 'visual': 4757, 'style': 4249, 'story': 4207, 'telling': 4396, 'forward': 1808, 'constantly': 958, 'camera': 659, 'playing': 3300, 'course': 1019, 'theres': 4440, 'also': 199, 'editing': 1421, 'by': 642, 'random': 3514, 'numbers': 3061, 'nonsense': 3030, 'apparently': 270, 'its': 2370, 'become': 433, 'hip': 2114, 'cut': 1089, 'randomly': 3515, 'guess': 1989, 'too': 4522, 'much': 2934, 'do': 1302, 'good': 1937, 'well': 4843, 'made': 2697, 'for': 1784, 'people': 3221, 'watch': 4811, 'as': 311, 'one': 3107, 'over': 3148, 'shows': 3960, 'time': 4495, 'name': 2960, 'thats': 4425, 'holy': 2140, 'ever': 1538, 'get': 1899, 'distribution': 1298, 'looks': 2649, 'has': 2043, 'shot': 3949, 'on': 3105, 'someones': 4065, 'phone': 3255, 'takes': 4351, 'screaming': 3827, 'girl': 1909, 'victim': 4729, 'scenario': 3808, 'whole': 4873, 'new': 3003, 'they': 4442, 'literally': 2622, 'scream': 3826, 'full': 1846, '90': 60, 'minutes': 2859, 'movie': 2926, 'there': 4438, 'no': 3020, 'plot': 3309, 'tension': 4404, 'characters': 760, 'lot': 2661, 'acting': 99, 'more': 2904, 'gave': 1875, 'up': 4683, 'after': 143, 'fifteen': 1706, 'fast': 1661, 'wound': 4960, 'through': 4477, 'see': 3855, 'happened': 2027, 'except': 1556, 'enough': 1491, 'act': 97, 'going': 1931, 'highlights': 2104, 'another': 250, 'problem': 3408, 'speak': 4094, 'every': 1539, 'like': 2599, 'other': 3135, 'middle': 2833, 'distance': 1294, 'angle': 236, 'dull': 1384, 'plain': 3286, 'adorable': 124, 'domestic': 1318, 'my': 2951, 'kids': 2467, 'we': 4823, 'liked': 2600, 'second': 3846, 'parents': 3188, 'havent': 2053, 'heard': 2062, 'them': 4432, 'laugh': 2529, 'was': 4805, 'first': 1736, 'can': 665, 'remember': 3616, 'seeing': 3857, 'enjoy': 1484, 'cute': 1090, 'cant': 671, 'wait': 4770, 'out': 3141, 'dvd': 1391, 'need': 2987, 'make': 2713, 'movies': 2927, 'refreshing': 3586, 'three': 4469, 'different': 1248, 'generations': 1884, 'be': 418, 'embarrassed': 1453, 'seen': 3865, 'since': 3990, 'big': 478, 'fat': 1663, 'greek': 1970, 'wedding': 4836, 'loved': 2670, 'mother': 2911, 'she': 3923, 'powers': 3361, 'howard': 2182, 'hilarious': 2106, 'him': 2110, 'little': 2624, 'dad': 1095, 'video': 4733, 'store': 4204, 'among': 217, 'favorite': 1671, 'hadnt': 2004, 'then': 4436, 'nor': 3032, 'having': 2054, 'forgotten': 1797, 'wake': 4774, 'don': 1320, 'better': 472, 'films': 1721, 'managed': 2723, 'track': 4544, 'down': 1335, 'few': 1700, 'weeks': 4839, 'ago': 154, 'however': 2183, 'pleasantly': 3303, 'surprised': 4313, 'again': 146, 'set': 3898, '1930s': 11, 'animation': 242, 'delightful': 1168, 'songs': 4072, 'memorable': 2802, 'continuity': 972, 'you': 4986, 'look': 2646, 'hard': 2033, 'generally': 1881, 'dont': 1324, 'storyline': 4208, 'leaves': 2556, 'smiling': 4037, 'maybe': 2776, 'even': 1533, 'eyed': 1612, 'lover': 2672, 'animals': 240, 'believable': 453, 'grown': 1984, 'younger': 4990, 'two': 4620, 'those': 4460, 'while': 4868, 'definitely': 1162, 'worth': 4953, 're': 3535, 'beginning': 443, 'had': 2003, 'feeling': 1685, 'friday': 1834, '13th': 5, 'starts': 4159, 'times': 4497, 'goes': 1930, 'pointless': 3318, 'supernatural': 4302, 'silent': 3975, 'serial': 3889, 'killer': 2470, 'mean': 2779, 'under': 4639, 'guys': 2001, 'bed': 436, 'without': 4913, 'making': 2718, 'any': 256, 'sound': 4081, 'anyone': 259, 'blind': 506, 'failed': 1626, 'execution': 1566, 'walks': 4780, 'kills': 2474, 'used': 4693, 'im': 2232, 'tired': 4501, 'me': 2778, 'same': 3778, 'thing': 4450, 'words': 4938, 'unreal': 4676, 'many': 2732, 'mistakes': 2873, 'confusing': 942, 'information': 2288, 'scene': 3809, 'woman': 4921, 'looked': 2647, 'impressive': 2253, 'at': 331, 'intriguing': 2335, 'stars': 4155, 'earth': 1403, 'must': 2950, 'children': 792, 'adults': 126, 'son': 4070, 'great': 1964, 'fun': 1848, 'watching': 4815, 'these': 4441, 'funny': 1852, 'birds': 485, 'ice': 2210, 'bears': 421, 'learn': 2550, 'proud': 3444, 'our': 3139, 'treasure': 4571, 'some': 4061, 'danger': 1109, 'disappear': 1270, 'exactly': 1551, 'prevent': 3385, 'planet': 3289, 'documentary': 1307, 'offers': 3090, 'exceptional': 1558, 'pictures': 3270, 'never': 3001, 'before': 440, 'accompanied': 86, 'music': 2946, 'director': 1264, 'job': 2405, 'here': 2086, 'gets': 1900, 'high': 2100, 'respect': 3652, 'nothing': 3047, 'stop': 4201, 'family': 1645, 'give': 1912, 'highest': 2102, 'rate': 3526, 'hope': 2155, 'stuff': 4243, 'will': 4886, 'create': 1036, 'sequel': 3885, 'starting': 4158, 'think': 4452, 'conspiracy': 956, 'right': 3696, 'involves': 2348, 'money': 2888, 'paid': 3169, 'access': 83, 'or': 3124, 'despite': 1211, 'reach': 3536, 'higher': 2101, 'status': 4165, 'via': 4726, 'ratings': 3530, 'point': 3316, 'tag': 4348, 'universal': 4665, 'something': 4066, 'within': 4912, 'thus': 4486, 'folk': 1770, 'into': 2332, 'rent': 3626, 'bloody': 513, 'expecting': 1578, 'surprise': 4312, 'only': 3110, 'find': 1726, 'myself': 2953, 'bathroom': 412, 'across': 96, 'because': 432, 'rather': 3528, 'clear': 839, 'things': 4451, 'might': 2835, 'either': 1438, 'didnt': 1242, 'message': 2819, 'hidden': 2096, 'beneath': 464, 'inner': 2292, 'impossible': 2249, 'watched': 4813, 'entirely': 1503, 'happen': 2026, 'share': 3920, 'dirty': 1268, 'trick': 4582, 'audience': 352, 'wonder': 4926, 'appeared': 276, 'disappeared': 1271, 'faster': 1662, 'than': 4420, 'rating': 3529, 'got': 1944, 'terrible': 4407, 'top': 4525, 'firstly': 1737, 'present': 3374, 'number': 3060, 'four': 1812, 'start': 4156, 'finish': 1732, 'symbolism': 4341, 'okay': 3099, 'done': 1322, 'various': 4715, 'success': 4265, 'known': 2492, 'dogs': 1311, 'looking': 2648, 'empty': 1465, 'street': 4216, 'suddenly': 4273, 'drops': 1372, 'onto': 3111, 'proceeds': 3411, 'rip': 3700, 'open': 3112, 'bar': 396, 'although': 201, 'non': 3027, 'separate': 3883, 'ways': 4822, 'nevertheless': 3002, 'each': 1395, 'what': 4858, 'lives': 2628, 'concept': 930, 'may': 2775, 'particularly': 3195, 'would': 4957, 'model': 2880, 'played': 3297, 'territory': 4411, 'extremely': 1610, 'bizarre': 492, 'way': 4820, 'initial': 2290, 'theme': 4433, 'lost': 2660, 'translation': 4562, 'said': 3774, 'lies': 2591, 'spent': 4108, 'revolves': 3682, 'death': 1141, 'her': 2085, 'sister': 4001, 'less': 2575, 'subsequent': 4257, 'follows': 1775, 'interest': 2323, 'horrifying': 2167, 'tales': 4357, 'strangers': 4214, 'seem': 3861, 'truth': 4599, 'own': 3158, 'truly': 4597, 'together': 4511, 'david': 1124, 'past': 3207, 'alternate': 200, 'mundane': 2938, 'science': 3816, 'fiction': 1702, 'battle': 414, 'against': 147, 'wall': 4781, 'someone': 4064, 'weird': 4841, 'sake': 3775, 'endure': 1475, 'army': 295, 'veteran': 4724, 'deeply': 1156, 'offended': 3085, 'opinion': 3118, 'vietnam': 4735, 'war': 4792, 'real': 3547, 'soldiers': 4054, 'knew': 2486, 'were': 4848, 'crap': 1031, 'presented': 3376, 'satire': 3788, 'cartoon': 704, 'received': 3564, 'taken': 4350, 'seriously': 3892, 'especially': 1520, 'silly': 3976, 'sounds': 4084, 'went': 4847, 'europe': 1529, 'late': 2523, '80s': 59, 'seemed': 3862, 'judge': 2424, 'americans': 214, 'general': 1880, 'unrealistic': 4677, 'lets': 2580, 'bound': 553, 'pulled': 3462, 'off': 3084, 'prison': 3401, 'gang': 1867, 'secret': 3849, 'mission': 2870, 'free': 1827, 'american': 213, 'running': 3756, 'enemy': 1477, '60': 53, 'machine': 2693, 'gun': 1996, 'runs': 3757, 'misses': 2868, 'held': 2074, 'arm': 292, 'getting': 1901, '10': 0, 'slightly': 4029, 'rambo': 3511, 'iii': 2227, 'attempt': 340, 'theory': 4437, 'guns': 1998, 'steel': 4173, 'explaining': 1588, 'version': 4720, 'came': 656, 'hours': 2177, '20': 29, 'completely': 922, 'useless': 4695, 'scenes': 3811, 'professor': 3422, 'diamond': 1236, 'failing': 1627, 'use': 4692, 'properly': 3437, 'badly': 383, 'hero': 2088, 'part': 3193, 'spoof': 4127, 'worst': 4952, 'shown': 3959, 'breaking': 570, 'ward': 4793, 'hospital': 2172, 'none': 3028, 'helps': 2082, 'understand': 4643, '100': 1, 'dire': 1257, 'situation': 4008, 'stay': 4166, 'finally': 1724, 'business': 633, 'equal': 1509, 'parts': 3199, 'utterly': 4702, 'boring': 543, 'peoples': 3222, 'fine': 1729, 'stone': 4197, 'wooden': 4934, 'weapons': 4829, 'convince': 983, 'explain': 1586, 'allow': 189, 'paper': 3183, 'thin': 4449, 'end': 1468, 'trying': 4601, 'capable': 672, 'racist': 3503, 'already': 197, 'know': 2489, 'bumbling': 622, 'native': 2972, 'intended': 2315, 'though': 4461, 'read': 3543, 'book': 535, 'oh': 3096, 'dear': 1140, 'small': 4033, 'fan': 1648, 'anthony': 253, 'industry': 2280, 'date': 1118, 'disappointed': 1273, 'nobody': 3022, 'hoped': 2156, 'comments': 901, 'wind': 4893, 'isnt': 2362, 'commercial': 902, 'value': 4709, 'member': 2800, 'place': 3282, 'yes': 4982, 'suspend': 4329, 'belief': 451, 'brief': 579, 'period': 3236, 'enter': 1494, 'state': 4160, 'total': 4531, 'disbelief': 1277, 'unknown': 4668, 'author': 359, 'unfortunately': 4654, 'left': 2561, 'wide': 4880, 'confused': 941, 'reviews': 3679, 'given': 1913, 'worried': 4949, 'perhaps': 3235, 'try': 4600, 'view': 4736, 'merits': 2817, 'regardless': 3590, 'studio': 4240, 'content': 966, 'advice': 133, 'direct': 1258, 'credibility': 1047, 'school': 3813, 'picked': 3266, 'library': 2589, 'very': 4723, 'lots': 2662, 'tight': 4492, 'equally': 1510, 'script': 3834, 'superb': 4296, 'actors': 104, 'piece': 3272, 'brain': 562, 'true': 4596, 'cinema': 816, 'hollywood': 2137, 'does': 1308, 'hands': 2020, 'sure': 4308, 'ruin': 3750, 'choice': 797, 'treat': 4572, 'around': 297, 'bother': 548, 'take': 4349, 'mine': 2853, 'miss': 2866, 'call': 651, 'entertainment': 1500, 'lips': 2615, 'doubt': 1332, 'perfect': 3224, 'low': 2676, 'ridiculous': 3693, 'saying': 3800, 'jackie': 2374, 'chan': 746, 'porn': 3336, 'fight': 1707, 'action': 100, 'makes': 2716, 'compare': 911, 'era': 1513, 'realize': 3552, 'fights': 1710, 'plots': 3310, 'compared': 912, 'doing': 1312, 'smart': 4035, 'critic': 1061, 'keep': 2449, 'entertained': 1498, 'put': 3480, 'rest': 3657, 'stunts': 4246, 'pay': 3216, 'change': 749, 'created': 1037, 'want': 4788, 'man': 2721, 'hes': 2093, 'pure': 3471, 'walk': 4775, 'park': 3190, 'todays': 4509, 'effects': 1431, 'safety': 3772, 'stunt': 4245, 'police': 3322, 'pieces': 3273, 'talented': 4355, 'masterpiece': 2759, 'rocks': 3722, 'nick': 3012, 'pretty': 3384, 'cool': 989, 'figured': 1712, 'featuring': 1681, 'couldnt': 1008, 'considering': 952, 'cringe': 1059, 'dialogue': 1234, 'both': 547, 'perform': 3227, 'reasonably': 3559, 'able': 66, '75': 57, 'odd': 3080, 'main': 2707, 'sign': 3970, '40': 48, 'youre': 4992, 'problems': 3409, 'mentioned': 2811, 'appalling': 268, 'jones': 2418, 'unbelievably': 4635, 'shes': 3930, 'character': 758, 'spend': 4105, 'following': 1774, 'flaw': 1749, 'manages': 2725, 'convoluted': 987, 'being': 448, 'clichéd': 845, 'predictable': 3367, 'major': 2711, 'twists': 4619, 'shots': 3950, 'aside': 315, 'tries': 4585, 'far': 1653, 'awkward': 374, 'distracting': 1297, 'element': 1442, 'fact': 1621, 'contains': 964, 'last': 2521, 'jokes': 2415, 'bit': 488, 'wouldnt': 4958, 'recommend': 3571, 'circumstances': 822, 'avoid': 363, 'costs': 1004, 'mgm': 2828, 'short': 3946, 'subject': 4253, 'editor': 1423, 'cole': 873, 'decide': 1148, 'important': 2247, 'news': 3005, 'spell': 4104, 'disaster': 1276, 'shooting': 3943, 'notorious': 3051, 'gangster': 1868, 'town': 4541, 'enjoyable': 1485, 'performance': 3228, 'comic': 893, 'charles': 764, 'viewers': 4739, 'interested': 2324, 'appearance': 274, 'james': 2378, 'stewart': 4184, 'assistant': 326, 'slow': 4031, 'somewhat': 4068, 'goofy': 1939, 'huge': 2185, 'star': 4150, 'often': 3095, 'overlooked': 3154, 'today': 4508, 'reel': 3581, 'subjects': 4254, 'useful': 4694, 'studios': 4241, 'training': 4558, 'talents': 4356, 'front': 1841, 'behind': 447, 'creating': 1039, 'successful': 4266, 'feature': 1678, 'length': 2569, 'writing': 4971, 'novel': 3052, 'produce': 3413, 'terms': 4406, 'budget': 610, 'portraying': 3343, 'material': 2766, 'chinese': 796, 'mob': 2879, 'case': 707, 'leader': 2546, 'seems': 3864, 'between': 475, 'tony': 4521, 'simon': 3982, 'contact': 961, 'once': 3106, 'wins': 4899, 'refuses': 3587, 'accept': 80, 'whatever': 4859, 'recognition': 3568, 'unlike': 4670, 'asian': 314, 'gangsters': 1869, 'moments': 2887, 'necessary': 2984, 'basically': 407, 'effective': 1429, 'drama': 1346, 'plays': 3301, 'year': 4978, 'old': 3100, 'power': 3359, 'changes': 751, 'several': 3905, 'settle': 3902, 'appear': 273, 'ends': 1474, '70': 55, 'minute': 2858, 'mark': 2739, 'still': 4188, 'couple': 1016, 'surprises': 4314, 'waiting': 4772, 'sort': 4077, 'picture': 3269, 'quite': 3495, 'award': 366, 'winner': 4897, 'hong': 2149, 'kong': 2494, 'awards': 367, 'winning': 4898, 'best': 469, 'actor': 103, 'johnny': 2410, 'heroic': 2090, 'trio': 4587, 'screenplay': 3831, 'cinematography': 820, 'score': 3822, 'performances': 3229, 'including': 2264, 'glad': 1916, 'almost': 193, 'positive': 3346, 'sisters': 4002, 'ought': 3138, 'boys': 559, 'adventure': 130, 'tale': 4353, 'cops': 993, 'investigation': 2343, 'search': 3841, 'missing': 2869, 'young': 4989, 'scientist': 3818, 'company': 910, 'sin': 3988, 'city': 825, 'appreciated': 280, 'french': 1830, 'comics': 895, 'meaningful': 2781, 'collection': 874, 'week': 4837, 'atmosphere': 333, 'lines': 2612, 'nice': 3008, 'endearing': 1469, 'cop': 991, 'displayed': 1292, 'rising': 3703, 'medical': 2790, 'research': 3644, 'mildly': 2840, 'hot': 2174, 'blonde': 511, 'whose': 4877, 'rebel': 3561, 'tv': 4610, 'series': 3890, 'beautiful': 428, 'wild': 4885, 'west': 4852, 'episode': 1507, 'replaced': 3634, 'future': 1856, 'thrilling': 4474, 'suspenseful': 4331, 'paced': 3162, 'albeit': 173, 'briefly': 580, 'distant': 1295, 'childhood': 790, 'feel': 1684, 'certain': 737, 'professional': 3421, 'cartoons': 705, 'dick': 1239, 'adaptation': 113, 'stood': 4199, 'works': 4945, 'beauty': 430, 'genuine': 1891, 'excitement': 1562, 'thought': 4462, 'futuristic': 1857, 'appropriate': 283, 'conventional': 979, 'eerie': 1427, 'costumes': 1006, 'exotic': 1574, 'names': 2963, 'mostly': 2910, 'arts': 310, 'noticed': 3049, 'poster': 3353, 'features': 1680, 'alike': 185, 'originality': 3130, 'resemblance': 3645, 'miller': 2846, 'namely': 2962, 'bleak': 503, 'society': 4050, 'cross': 1066, 'willis': 4890, 'persona': 3239, 'previous': 3387, 'hand': 2015, 'public': 3460, 'air': 164, 'straight': 4210, 'word': 4937, 'cause': 723, 'nudity': 3059, 'display': 1291, 'clichés': 846, 'common': 906, 'places': 3284, 'adult': 125, 'brought': 600, 'screen': 3829, 'fair': 1630, 'ring': 3698, 'admit': 122, 'third': 4455, 'jim': 2402, '1990': 24, 'starring': 4154, 'famous': 1647, 'released': 3603, 'born': 544, 'originally': 3131, 'original': 3129, 'trilogy': 4586, 'mid': 2832, 'kid': 2464, 'manhattan': 2726, 'until': 4680, 'april': 284, '2007': 37, 'shortly': 3947, 'island': 2361, 'disappoint': 1272, 'viewing': 4740, 'nearly': 2981, 'impressed': 2251, 'certainly': 738, 'downhill': 1336, 'stage': 4139, 'musical': 2947, 'turns': 4609, 'hit': 2122, 'college': 875, 'soon': 4074, 'leaving': 2557, 'show': 3953, 'broadway': 592, 'arrival': 299, 'begin': 442, 'searching': 3842, 'producer': 3415, 'jobs': 2406, 'leave': 2555, 'stays': 4169, 'determined': 1221, 'york': 4985, 'restaurant': 3658, 'named': 2961, 'quickly': 3491, 'daughter': 1121, 'jenny': 2393, 'fashion': 1659, 'currently': 1085, 'fathers': 1667, 'waitress': 4773, 'continues': 971, 'attempts': 343, 'help': 2079, 'secretly': 3851, 'stayed': 4167, 'begins': 444, 'theyre': 4445, 'close': 853, 'leads': 2548, 'disappointing': 1274, 'rushed': 3760, 'forgettable': 1794, 'bits': 490, 'during': 1387, 'such': 4268, 'animal': 239, 'chasing': 772, 'bland': 500, 'fortunately': 1805, 'wasnt': 4807, 'long': 2644, 'changed': 750, 'entertaining': 1499, 'poignant': 3315, 'song': 4071, 'sing': 3992, 'happens': 2029, 'funniest': 1851, 'sees': 3866, 'laughed': 2532, 'poor': 3328, 'charm': 767, 'comical': 894, 'antics': 255, 'obviously': 3072, 'carry': 700, 'simple': 3983, 'ages': 152, 'sequence': 3887, 'neither': 2996, 'significant': 3972, 'entire': 1502, 'experience': 1580, 'started': 4157, 'franchise': 1817, 'popular': 3333, 'weakest': 4825, 'space': 4090, 'theatrical': 4430, 'sad': 3767, 'passing': 3204, 'least': 2554, 'wont': 4932, 'details': 1219, '1999': 27, 'twenty': 4612, 'ive': 2372, 'explained': 1587, 'review': 3676, 'why': 4878, 'found': 1811, 'appeal': 271, 'clearly': 840, 'alone': 194, 'lovable': 2668, 'life': 2592, 'installment': 2303, 'showed': 3956, 'slight': 4027, 'quality': 3484, 'directly': 1263, 'historical': 2119, 'coming': 896, 'age': 148, 'involving': 2349, 'color': 877, 'pre': 3365, 'civil': 826, 'picks': 3268, 'learned': 2551, 'exploitation': 1592, 'women': 4923, 'rights': 3697, 'control': 977, 'slave': 4022, 'men': 2805, 'live': 2625, 'whether': 4866, 'system': 4345, 'community': 908, 'enjoyed': 1486, 'favorites': 1672, 'anna': 245, 'filmed': 1717, 'inducing': 2279, 'rented': 3628, 'took': 4523, 'lasted': 2522, 'forty': 1807, 'giving': 1915, 'pretentious': 3383, 'romance': 3732, 'popularity': 3334, 'itll': 2369, 'catch': 714, 'america': 212, 'next': 3007, 'called': 652, 'average': 362, 'eye': 1611, 'father': 1666, 'retired': 3664, 'views': 4742, 'totally': 4532, 'everyone': 1542, 'else': 1448, 'watches': 4814, 'miracle': 2860, 'fantastic': 1651, 'artists': 309, 'brave': 567, 'tell': 4395, 'inside': 2297, 'minds': 2852, 'hearts': 2066, 'responsible': 3656, 'importantly': 2248, 'staff': 4138, 'complex': 923, 'footage': 1782, 'riveting': 3708, 'extraordinary': 1607, 'room': 3735, 'crying': 1074, 'television': 4394, 'chair': 742, 'let': 2579, 'profound': 3423, 'committed': 905, 'horrendous': 2162, 'crimes': 1056, 'cases': 708, 'yet': 4984, 'themselves': 4435, 'courage': 1018, 'harsh': 2040, 'environment': 1505, 'react': 3540, 'forget': 1793, 'thank': 4421, 'allowed': 190, 'glimpse': 1919, 'possible': 3350, 'taking': 4352, 'blood': 512, 'soul': 4079, 'tears': 4380, 'project': 3427, 'everything': 1544, 'oz': 3160, 'shakespeare': 3915, 'ultimate': 4627, 'homage': 2141, 'poetry': 3314, 'perfectly': 3226, 'chosen': 805, 'suit': 4284, 'muslim': 2949, 'india': 2273, 'etc': 1527, 'master': 2757, 'maker': 2714, 'sub': 4252, 'controversial': 978, 'humanity': 2189, 'face': 1616, 'reality': 3551, 'usual': 4699, 'john': 2409, 'passed': 3202, 'recently': 3567, 'always': 203, 'remembered': 3617, 'role': 3726, 'inspector': 2299, 'jack': 2373, '1970s': 17, 'filming': 1718, 'bring': 585, 'back': 378, 'memories': 2803, 'britain': 588, 'london': 2641, 'escape': 1517, 'german': 1896, 'interaction': 2322, 'boy': 557, 'william': 4887, 'acted': 98, 'michelle': 2830, '1960s': 15, 'social': 4049, 'spoke': 4125, 'racial': 3501, 'politics': 3326, 'sexual': 3908, 'drug': 1373, 'daily': 1097, 'attempted': 341, 'aspects': 322, 'largely': 2518, 'succeeded': 4263, 'families': 1644, 'followed': 1773, 'white': 4870, 'half': 2007, 'basis': 408, 'struggles': 4235, 'dedicated': 1153, 'admittedly': 123, 'century': 736, 'mixed': 2877, 'clips': 852, 'figures': 1713, 'line': 2610, 'situations': 4009, 'fault': 1668, 'direction': 1261, 'overdone': 3152, 'absolutely': 72, 'substance': 4258, 'considered': 951, 'quotes': 3497, 'felt': 1692, 'deserved': 1200, 'comment': 898, 'form': 1798, 'current': 1084, 'focus': 1766, 'revealing': 3672, 'craft': 1028, 'blame': 499, 'unfortunate': 4653, 'condition': 937, 'dare': 1113, 'lack': 2502, 'regard': 3588, 'hunters': 2200, 'heavy': 2070, 'handed': 2016, 'sex': 3907, 'actress': 105, 'dance': 1103, 'signed': 3971, 'exaggerated': 1552, 'liners': 2611, 'annoying': 249, 'overwhelming': 3157, 'push': 3477, 'emotion': 1458, 'your': 4991, 'throat': 4476, 'development': 1225, 'revealed': 3671, 'effect': 1428, 'altogether': 202, 'lacks': 2505, 'remotely': 3623, 'subtlety': 4261, 'stereotypes': 4179, 'genre': 1888, 'aware': 368, 'depth': 1190, 'mind': 2849, 'wisdom': 4902, 'insight': 2298, 'commented': 900, 'others': 3136, 'gandhi': 1866, 'godfather': 1927, 'wars': 4804, 'lord': 2652, 'rings': 3699, 'crew': 1053, 'luck': 2681, 'crude': 1069, 'imdb': 2240, 'losers': 2656, 'parker': 3191, 'game': 1864, 'basketball': 409, 'using': 4698, 'baseball': 403, 'rules': 3754, 'becomes': 434, 'along': 195, 'league': 2549, 'team': 4378, 'cities': 823, 'standing': 4146, 'rule': 3753, 'owner': 3159, 'wants': 4791, 'serious': 3891, 'aspect': 321, 'soundtrack': 4085, 'beer': 439, 'fish': 1738, 'underrated': 4642, 'overall': 3150, 'wolf': 4920, 'italian': 2367, 'barely': 399, 'pull': 3461, 'martial': 2747, 'move': 2921, 'heart': 2064, 'steven': 4182, 'seagal': 3839, 'lowest': 2678, 'level': 2584, 'career': 686, 'pathetic': 3210, 'behavior': 446, 'day': 1129, 'hardly': 2036, 'laughing': 2533, 'stock': 4193, 'clown': 862, 'reasons': 3560, 'reputation': 3640, 'force': 1786, 'crime': 1055, 'group': 1980, 'designed': 1203, 'military': 2844, 'warrior': 4802, 'response': 3654, 'laughable': 2530, 'gives': 1914, 'opportunity': 3121, 'include': 2261, 'walls': 4783, 'mention': 2810, 'sucks': 4271, 'complete': 921, 'joke': 2414, 'yeah': 4977, 'somebody': 4062, 'dollar': 1314, 'service': 3896, 'single': 3996, 'retarded': 3663, 'lame': 2510, 'heres': 2087, 'spoiler': 4123, 'youll': 4988, 'dark': 1115, 'blue': 518, 'lawyer': 2541, 'drawn': 1351, 'deadly': 1133, 'cat': 713, 'mouse': 2919, 'involved': 2346, 'creates': 1038, 'gothic': 1945, 'weak': 4824, 'southern': 4088, 'branagh': 564, 'convincing': 985, 'object': 3066, 'desire': 1205, 'likable': 2598, 'private': 3404, 'detective': 1220, 'round': 3742, 'deliver': 1169, 'promise': 3430, 'friendly': 1836, 'charming': 768, 'lugosi': 2686, 'lively': 2627, 'stupid': 4247, 'away': 369, 'eastern': 1408, 'loves': 2674, 'killers': 2471, 'sexy': 3911, 'kidnapped': 2466, 'priest': 3392, 'sent': 3880, 'asleep': 320, 'boat': 523, 'phony': 3256, 'temple': 4398, 'strange': 4211, 'creepy': 1052, 'king': 2479, 'imagery': 2234, 'protect': 3443, 'drunk': 1375, 'uncle': 4636, 'wood': 4933, 'impression': 2252, 'strong': 4229, 'sympathy': 4343, 'fancy': 1649, 'spike': 4111, 'lee': 2559, 'early': 1400, 'mess': 2818, 'frequently': 1832, 'hoping': 2160, 'lees': 2560, 'disappointment': 1275, 'whats': 4860, 'swear': 4334, 'wives': 4918, 'wanted': 4789, 'id': 2212, 'incredibly': 2270, 'adds': 119, 'stereotype': 4178, 'waste': 4808, 'gotta': 1946, 'ed': 1415, 'god': 1926, 'bucks': 606, 'says': 3801, 'blow': 514, 'subtle': 4260, 'humor': 2192, 'gone': 1935, 'recent': 3566, 'thinking': 4453, 'bet': 470, 'natural': 2973, 'moved': 2922, 'type': 4621, 'mummy': 2937, 'biggest': 480, 'reactions': 3542, 'spot': 4131, 'realized': 3553, 'shoot': 3942, 'em': 1452, 'guessing': 1991, 'standard': 4144, 'bank': 394, 'kill': 2468, 'win': 4892, 'bourne': 554, 'bo': 521, 'curtis': 1087, 'wayne': 4821, 'double': 1331, 'twins': 4616, 'wondered': 4927, 'foreign': 1790, 'accents': 79, 'countries': 1013, 'states': 4163, 'bonus': 534, 'producers': 3416, 'international': 2326, 'audiences': 353, 'smoking': 4040, 'dean': 1139, 'bob': 524, 'save': 3794, 'poorly': 3329, 'written': 4972, 'timing': 4498, 'ii': 2226, 'mistake': 2871, 'court': 1020, 'dorothy': 1330, 'agent': 150, 'portrayed': 3342, 'eddie': 1416, 'regarding': 3589, 'california': 650, 'hills': 2109, 'effort': 1432, 'usually': 4700, 'butler': 637, 'comedic': 888, 'toward': 4539, 'evidence': 1546, 'oddly': 3081, 'lovely': 2671, 'acts': 107, 'nicely': 3009, 'delight': 1167, 'hear': 2061, 'voice': 4761, 'unique': 4662, 'radio': 3504, 'friends': 1837, 'yelling': 4980, 'idiot': 2218, 'test': 4416, 'games': 1865, 'quest': 3486, 'changing': 752, 'wrong': 4973, 'actually': 109, 'network': 3000, 'answer': 251, 'damn': 1100, 'hour': 2176, 'monkey': 2890, 'amazingly': 210, 'intelligent': 2314, 'lab': 2501, 'experiments': 1584, 'brother': 598, 'honestly': 2147, 'copy': 994, 'needs': 2990, 'directions': 1262, 'mr': 2929, 'lincoln': 2608, 'filled': 1715, 'fashioned': 1660, 'values': 4710, 'dimensional': 1253, 'portrayal': 3341, 'simplicity': 3984, 'history': 2121, 'lesson': 2577, 'abraham': 69, 'president': 3378, 'earlier': 1399, 'charismatic': 763, 'unexpected': 4650, 'superhero': 4299, 'figure': 1711, 'flaws': 1752, 'goodness': 1938, 'sight': 3969, 'ford': 1789, 'lie': 2590, 'worked': 4941, 'manner': 2729, 'moving': 2928, 'strength': 4219, 'somehow': 4063, 'kind': 2476, 'companion': 909, 'smith': 4038, 'washington': 4806, 'law': 2538, 'fonda': 1777, 'terrific': 4409, 'lead': 2545, 'loose': 2650, 'extra': 1606, 'shoes': 3941, 'personality': 3242, 'comes': 891, 'unlikely': 4671, 'mature': 2773, 'wise': 4903, 'prove': 3445, 'himself': 2111, 'murder': 2939, 'final': 1722, 'walking': 4779, 'road': 3709, 'dated': 1119, 'met': 2822, 'balance': 387, 'prepared': 3371, 'throughout': 4478, 'mystery': 2956, 'theater': 4427, 'experiment': 1583, 'appears': 278, 'decided': 1149, 'unwatchable': 4682, 'riding': 3695, 'repeatedly': 3632, 'wears': 4832, 'football': 1783, 'offer': 3087, 'writer': 4968, 'creative': 1041, 'killed': 2469, 'aged': 149, 'joe': 2407, 'bride': 577, 'loosely': 2651, 'based': 404, 'crowd': 1067, 'wonderfully': 4929, 'rise': 3702, 'sport': 4129, 'boxing': 556, 'flynn': 1765, 'humble': 2191, 'san': 3780, 'thru': 4483, 'chance': 747, 'ex': 1549, 'eventually': 1537, 'fighting': 1709, 'sullivan': 4288, 'bond': 532, 'spin': 4112, 'grand': 1953, 'class': 833, 'issues': 2365, 'overcome': 3151, 'fellow': 1691, 'club': 863, 'members': 2801, 'ego': 1435, 'grows': 1985, 'wonderful': 4928, 'humorous': 2193, 'support': 4303, 'journey': 2421, 'bold': 528, 'moment': 2886, 'testament': 4417, 'outer': 3143, 'keeping': 2450, 'hurts': 2203, 'sequences': 3888, 'stand': 4143, 'became': 431, 'brand': 565, 'dancing': 1107, 'placed': 3283, 'meeting': 2794, 'puts': 3481, 'context': 968, 'viewer': 4738, 'peter': 3247, 'michael': 2829, 'craig': 1030, 'harry': 2039, 'andrews': 229, 'alas': 172, 'utter': 4701, 'overacting': 3149, 'twice': 4613, 'scottish': 3825, 'castle': 712, 'drink': 1361, 'likes': 2602, 'mad': 2696, 'apart': 264, 'redeeming': 3577, 'whatsoever': 4861, 'assume': 328, 'dreary': 1356, 'murphy': 2944, 'supporting': 4304, 'insult': 2309, 'alan': 171, 'jamie': 2379, 'zombie': 4997, 'comparison': 914, 'chicago': 785, 'singing': 3995, 'jennifer': 2392, 'hudson': 2184, 'zero': 4996, 'play': 3296, 'typical': 4623, 'vs': 4767, 'rap': 3520, 'excellent': 1555, 'arnold': 296, 'sci': 3815, 'fi': 1701, 'greatest': 1966, 'perfection': 3225, 'trek': 4578, 'planning': 3291, 'excited': 1561, 'enterprise': 1495, 'setting': 3900, 'scott': 3824, 'superior': 4300, 'captain': 674, 'jonathan': 2417, 'roger': 3724, 'obsessed': 3069, 'marketing': 2741, 'approach': 282, 'differences': 1247, 'amanda': 205, 'violence': 4747, 'abuse': 74, 'dealt': 1138, 'realistic': 3550, 'shape': 3919, 'surprisingly': 4316, 'herself': 2092, 'turn': 4605, 'evil': 1548, 'dies': 1245, 'rough': 3741, 'jane': 2380, 'eyre': 1614, 'george': 1893, 'rochester': 3719, 'angry': 238, 'rich': 3685, 'deep': 1154, 'intellectual': 2312, 'ending': 1471, 'ludicrous': 2685, 'please': 3304, 'timothy': 4499, 'dalton': 1098, 'instead': 2307, 'graphics': 1959, 'ps': 3453, 'beat': 423, 'protagonist': 3441, 'faced': 1617, 'believe': 454, 'deserves': 1201, 'remake': 3612, 'buy': 640, 'rental': 3627, 'ad': 110, 'inventive': 2341, 'sometimes': 4067, 'combat': 882, 'addition': 118, 'definite': 1161, 'tonight': 4519, 'lived': 2626, 'mediocre': 2791, 'trailer': 4554, 'run': 3755, 'hasnt': 2044, 'cliché': 844, 'stopped': 4202, 'spectacular': 4101, 'girlfriend': 1910, 'check': 777, 'buddies': 608, 'friend': 1835, 'super': 4295, '24': 39, 'thrown': 4481, 'bunch': 623, 'references': 3583, 'specifically': 4100, 'disney': 1289, 'square': 4136, 'throw': 4479, 'messages': 2820, 'care': 684, 'listen': 2619, 'girls': 1911, 'boyfriend': 558, 'block': 508, 'relationship': 3597, 'means': 2783, 'side': 3965, 'depressed': 1187, 'falling': 1639, 'homosexual': 2145, 'unfolds': 4651, 'pg': 3250, '13': 4, 'needed': 2988, 'dropped': 1370, 'gotten': 1947, 'enjoys': 1489, 'media': 2789, 'exposure': 1599, 'hold': 2129, 'rated': 3527, 'comedies': 889, 'hits': 2125, 'checking': 778, 'channel': 753, 'alice': 182, 'resolution': 3649, 'kicked': 2461, 'subplots': 4256, 'tried': 4584, 'develop': 1222, 'flies': 1756, 'window': 4894, '90s': 61, 'rock': 3720, 'reminds': 3620, 'holmes': 2139, 'mix': 2876, 'ill': 2228, 'props': 3439, 'summer': 4291, 'yellow': 4981, 'bottle': 550, 'band': 391, '15': 7, 'night': 3013, 'knock': 2488, 'otherwise': 3137, 'pass': 3201, 'reviewers': 3678, 'nowhere': 3056, 'near': 2979, 'wet': 4855, 'bag': 384, 'english': 1483, 'fighter': 1708, 'leg': 2562, 'skills': 4014, 'par': 3184, 'dialog': 1232, 'audio': 354, 'spare': 4093, 'misery': 2865, 'delivery': 1173, 'decent': 1147, 'cheesy': 781, 'spoil': 4121, 'price': 3389, 'jet': 2400, 'notice': 3048, 'familiar': 1643, 'notably': 3042, 'market': 2740, 'matrix': 2767, 'helicopter': 2076, 'wearing': 4831, 'flick': 1754, 'arent': 288, 'neo': 2998, 'noir': 3023, 'robert': 3713, 'appealing': 272, 'obvious': 3071, '1990s': 25, 'dressed': 1358, 'bands': 392, 'uninteresting': 4660, 'burt': 629, 'anti': 254, 'buying': 641, 'modern': 2882, 'equipment': 1511, 'suck': 4269, 'reaction': 3541, 'couldve': 1009, 'saving': 3797, 'flesh': 1753, 'pace': 3161, 'dry': 1377, 'benefit': 465, 'tongue': 4518, 'cheek': 779, 'previously': 3388, 'boredom': 542, 'experienced': 1581, 'terrorist': 4413, 'steal': 4170, 'weapon': 4828, 'process': 3412, 'hotel': 2175, 'hide': 2097, 'hiding': 2099, 'body': 527, 'youve': 4995, 'return': 3665, 'living': 2629, 'dead': 1132, 'widely': 4881, 'critics': 1064, 'fans': 1650, 'points': 3319, 'plenty': 3307, 'deaths': 1142, 'gore': 1941, 'happy': 2032, 'zombies': 4998, 'everywhere': 1545, 'water': 4816, 'houses': 2180, 'trees': 4577, 'reason': 3557, 'spring': 4134, 'attack': 337, 'heroes': 2089, 'flying': 1764, 'head': 2057, 'required': 3641, 'questionable': 3488, 'doctor': 1304, 'sit': 4003, 'fits': 1741, 'bill': 481, 'pop': 3330, 'minded': 2850, 'sheer': 3925, 'enjoyment': 1488, 'horrible': 2163, 'canadian': 667, 'player': 3298, 'ten': 4399, 'horrific': 2166, 'flow': 1762, 'producing': 3417, 'missed': 2867, 'mile': 2842, 'credit': 1049, 'worthy': 4956, 'energy': 1478, 'premise': 3370, 'break': 569, 'child': 789, 'mothers': 2912, 'husband': 2204, 'sorry': 4076, 'cook': 988, 'explanation': 1590, 'loss': 2659, 'oscar': 3133, 'fool': 1779, 'hired': 2117, 'cover': 1022, 'simply': 3986, 'stunning': 4244, 'beautifully': 429, 'picking': 3267, 'amusing': 221, 'watchable': 4812, 'potential': 3355, 'fall': 1637, 'flat': 1748, 'cruel': 1070, 'intentions': 2321, 'wondering': 4930, 'prequel': 3372, 'bothered': 549, 'exact': 1550, 'kissing': 2484, 'amy': 222, 'mask': 2752, 'leslie': 2574, 'innovative': 2295, 'alright': 198, 'downright': 1337, 'format': 1799, 'suffering': 4277, 'blows': 517, 'logical': 2639, 'horror': 2168, 'built': 618, 'upon': 4684, 'string': 4227, 'fx': 1858, 'hurt': 2202, 'whoever': 4872, 'wrote': 4974, 'design': 1202, 'cgi': 740, 'rex': 3683, 'reminiscent': 3621, 'recognize': 3569, 'dinosaurs': 1256, 'underlying': 4641, 'shall': 3916, 'elements': 1443, 'included': 2262, 'evident': 1547, 'student': 4238, 'outrageous': 3145, 'insulting': 2310, 'asking': 318, 'concerns': 934, 'provide': 3448, 'lessons': 2578, 'cultural': 1078, 'itself': 2371, 'commentary': 899, 'receives': 3565, 'spanish': 4092, 'actions': 101, 'european': 1530, 'meant': 2784, 'dress': 1357, 'language': 2516, 'therefore': 4439, 'due': 1382, 'plan': 3287, 'dinosaur': 1255, 'sticks': 4186, 'intent': 2318, 'christian': 808, 'romantic': 3733, 'spiritual': 4116, 'north': 3036, 'female': 1693, 'feels': 1687, 'belongs': 460, 'nature': 2975, 'table': 4346, 'easily': 1406, 'wicked': 4879, 'led': 2558, 'naive': 2958, 'noble': 3021, 'caught': 722, 'leading': 2547, 'eat': 1411, 'instance': 2304, 'hence': 2083, 'remaining': 3610, 'reference': 3582, 'disease': 1285, 'ideal': 2214, 'represents': 3639, 'americas': 215, 'honest': 2146, 'ignorant': 2223, 'self': 3869, 'ian': 2209, 'darkness': 1117, 'proves': 3447, 'bought': 552, 'forgot': 1796, 'anyway': 261, 'whom': 4875, 'closing': 859, 'pleasure': 3306, 'stealing': 4171, 'alexander': 180, '2006': 36, 'began': 441, 'causes': 725, 'matter': 2769, 'surprising': 4315, 'exciting': 1563, 'difference': 1246, 'ironic': 2355, 'cried': 1054, 'touched': 4534, 'remarkable': 3613, 'contemporary': 965, 'per': 3223, 'connection': 946, 'possibility': 3349, 'intense': 2316, 'ideas': 2215, 'expressed': 1601, 'tender': 4401, 'train': 4556, 'personal': 3240, 'grandfather': 1954, 'plane': 3288, 'morning': 2906, 'gorgeous': 1942, 'scenery': 3810, 'importance': 2246, 'conversations': 981, 'relationships': 3598, 'stories': 4205, 'seemingly': 3863, 'essential': 1522, 'qualities': 3483, 'werent': 4849, 'religious': 3608, 'faith': 1633, 'church': 813, 'fascinating': 1658, 'cynical': 1093, 'meanwhile': 2785, 'ethan': 1528, 'julie': 2428, 'roles': 3727, 'generation': 1883, 'kinds': 2478, 'central': 735, 'streets': 4217, 'somewhere': 4069, 'encounter': 1466, 'sweet': 4336, 'acceptable': 81, 'kiss': 2483, 'ho': 2127, 'cinematic': 818, 'splendid': 4119, 'ear': 1397, 'wit': 4908, 'happiness': 2031, 'contained': 963, 'whos': 4876, 'attached': 336, 'married': 2744, 'calling': 653, 'brilliant': 583, 'yesterday': 4983, 'mom': 2885, '11': 2, 'particular': 3194, 'factor': 1622, 'sorts': 4078, 'pick': 3265, 'suffered': 4276, 'red': 3576, 'hair': 2005, 'finds': 1728, 'yourself': 4993, 'gross': 1978, 'wannabe': 4787, 'fictional': 1703, 'dude': 1381, 'jake': 2377, 'speed': 4103, 'fired': 1735, 'greatly': 1967, 'bare': 398, 'thrills': 4475, 'escapes': 1519, 'clever': 841, 'propaganda': 3435, 'besides': 468, 'attention': 345, 'lifetime': 2594, 'presentation': 3375, 'location': 2635, 'represented': 3638, 'rural': 3758, 'virginia': 4750, 'la': 2500, 'site': 4005, 'similar': 3978, 'specific': 4099, 'cary': 706, 'grant': 1956, 'tom': 4514, 'hanks': 2025, 'et': 1526, 'al': 170, 'ryan': 3765, '12': 3, 'added': 116, 'days': 1130, 'henry': 2084, 'outstanding': 3147, 'menacing': 2807, 'tough': 4537, 'charlie': 765, 'agree': 155, 'primary': 3394, 'engaging': 1481, 'describes': 1196, 'performers': 3232, 'chemistry': 782, 'combination': 883, 'minor': 2857, 'harder': 2035, 'edge': 1418, 'fare': 1655, 'classics': 837, 'citizen': 824, 'kane': 2442, 'results': 3662, 'achieved': 93, 'mail': 2706, 'co': 867, 'equivalent': 1512, 'credible': 1048, 'harris': 2038, 'lighting': 2596, 'angles': 237, 'mans': 2730, 'country': 1014, 'dream': 1354, 'land': 2511, 'achieve': 92, 'encounters': 1467, 'advantage': 129, 'desperation': 1210, 'festival': 1697, '2000': 30, 'walter': 4784, 'meaning': 2780, 'dollars': 1315, 'nightmare': 3014, 'wife': 4884, 'apartment': 265, 'purposes': 3475, 'homeless': 2143, 'meet': 2793, 'introduces': 2338, 'jewish': 2401, 'center': 732, 'worse': 4951, 'clean': 838, 'resort': 3650, 'chooses': 800, 'ladies': 2506, 'naked': 2959, 'realizes': 3554, 'unhappy': 4656, 'garbage': 1870, 'innocent': 2294, 'laura': 2536, 'affair': 135, 'worker': 4942, 'lesbian': 2573, 'passion': 3205, 'order': 3126, 'daniel': 1111, 'wonders': 4931, 'proper': 3436, 'perspective': 3245, 'reflect': 3584, 'handsome': 2021, 'projects': 3428, 'tremendous': 4579, 'magnificent': 2705, 'spite': 4117, 'fallen': 1638, 'keeps': 2451, 'attitude': 346, 'meets': 2795, 'list': 2617, 'casting': 711, 'reynolds': 3684, 'boss': 546, 'above': 68, 'simpson': 3987, 'jessica': 2398, 'duke': 1383, 'asks': 319, 'tells': 4397, 'saved': 3795, 'christopher': 811, 'presence': 3373, 'suffers': 4278, 'disturbing': 1300, 'honor': 2150, 'navy': 2976, 'fabulous': 1615, 'cuba': 1075, 'jr': 2423, 'touches': 4535, 'absolute': 71, 'de': 1131, 'niro': 3019, 'marvelous': 2750, 'chief': 788, 'billy': 482, 'sunday': 4293, 'practically': 3362, 'alongside': 196, '2001': 31, 'latest': 2526, 'finest': 1730, 'includes': 2263, 'promising': 3433, 'hood': 2151, 'jerry': 2396, 'instinct': 2308, 'usa': 4691, 'dubbing': 1380, '3000': 43, 'warriors': 4803, 'remain': 3609, '30s': 44, 'eg': 1434, 'whale': 4857, 'judy': 2426, 'initially': 2291, 'suggested': 4281, 'vivid': 4760, 'directed': 1259, 'touch': 4533, 'lake': 2509, 'joan': 2404, 'grey': 1973, 'kay': 2447, 'barbara': 397, 'glorious': 1921, 'home': 2142, 'nurse': 3063, 'bridge': 578, 'donna': 1323, 'gold': 1932, 'brady': 561, 'marry': 2745, 'sings': 3997, 'monkeys': 2891, 'hire': 2116, 'count': 1010, 'ray': 3533, 'mistaken': 2872, 'falls': 1640, 'thinks': 4454, 'australia': 356, 'marriage': 2743, 'decides': 1150, 'matters': 2770, 'local': 2634, 'station': 4164, 'rendition': 3625, 'opera': 3116, 'singer': 3993, 'happily': 2030, 'walker': 4778, 'highly': 2105, 'recommended': 3572, 'nasty': 2968, 'possibly': 3351, 'folks': 1771, 'fails': 1628, 'spending': 4106, 'race': 3499, 'cars': 702, '1983': 22, 'germany': 1898, 'car': 680, 'academy': 77, 'seconds': 3848, 'trash': 4565, 'online': 3109, 'describe': 1194, 'villains': 4745, 'descent': 1193, 'psychological': 3458, 'thriller': 4472, 'dynamic': 1394, 'synopsis': 4344, 'woods': 4935, 'breaks': 571, 'warned': 4798, 'hysterical': 2208, 'foot': 1781, 'worry': 4950, 'upset': 4687, 'blond': 510, 'events': 1536, 'cannot': 670, 'torture': 4529, 'gag': 1861, 'eating': 1413, 'contain': 962, 'actual': 108, 'food': 1778, 'reveals': 3673, 'acid': 95, 'trip': 4588, 'inspired': 2301, 'killing': 2472, 'shoots': 3944, 'mysterious': 2955, 'covers': 1024, 'hopefully': 2157, 'spy': 4135, 'mini': 2854, 'ones': 3108, 'hat': 2045, 'le': 2544, 'alex': 179, 'steals': 4172, 'ensemble': 1492, 'episodes': 1508, 'lying': 2690, 'told': 4513, 'fully': 1847, 'ability': 65, 'fake': 1635, 'calls': 654, 'difficult': 1249, 'path': 3209, 'masters': 2761, 'everyones': 1543, 'con': 928, 'dreams': 1355, 'example': 1553, 'learns': 2553, 'surviving': 4323, 'constant': 957, 'british': 589, 'uk': 4626, 'kept': 2456, 'agents': 151, 'turned': 4606, 'older': 3101, 'enthusiasm': 1501, 'lucas': 2680, 'buck': 605, 'sheriff': 3929, 'secrets': 3852, 'frightening': 1839, 'cousin': 1021, 'shame': 3918, 'finished': 1733, 'ignored': 2225, 'scary': 3807, 'bottom': 551, 'fulci': 1845, 'putting': 3482, 'ruined': 3751, 'gory': 1943, 'flicks': 1755, 'desperate': 1208, 'sword': 4340, 'sleep': 4024, 'sucked': 4270, 'pit': 3278, 'feet': 1688, 'release': 3602, 'season': 3843, 'stellar': 4174, 'vhs': 4725, 'host': 2173, 'stuck': 4237, 'repeat': 3630, 'ran': 3513, 'longer': 2645, 'twilight': 4614, 'zone': 4999, 'limits': 2607, 'purchase': 3469, 'blown': 516, 'physical': 3262, 'carries': 699, 'asked': 317, 'purpose': 3474, 'intention': 2319, 'planned': 3290, 'defined': 1160, 'greater': 1965, 'board': 522, 'rarely': 3524, 'warm': 4794, 'thoroughly': 4459, 'jimmy': 2403, 'nail': 2957, 'solid': 4057, 'concerned': 932, 'superbly': 4297, 'flashbacks': 1747, 'talk': 4358, 'convey': 982, 'agreed': 156, 'viewed': 4737, 'ahead': 159, 'limited': 2606, 'knowing': 2490, 'helped': 2080, 'clue': 864, 'result': 3660, 'knows': 2493, 'alive': 186, 'flashback': 1746, 'technique': 4383, 'claire': 831, 'damage': 1099, 'emotions': 1461, 'outside': 3146, 'lesser': 2576, 'france': 1816, 'screams': 3828, 'unusual': 4681, 'presents': 3377, 'ultimately': 4628, 'affect': 136, 'affected': 137, 'irrelevant': 2358, 'deals': 1137, 'gratuitous': 1961, 'incredible': 2269, 'directorial': 1265, 'debut': 1143, 'dozens': 1339, 'choose': 799, 'depression': 1189, 'epic': 1506, 'questions': 3489, 'easy': 1410, 'follow': 1772, 'chose': 804, 'irish': 2353, 'criminal': 1057, 'martin': 2748, 'chain': 741, 'teenager': 4390, 'jon': 2416, 'voight': 4764, 'desperately': 1209, 'category': 718, 'aforementioned': 139, 'masterpieces': 2760, 'stretched': 4222, 'cinematographer': 819, 'belong': 459, 'five': 1743, 'fail': 1625, 'classic': 835, 'motion': 2913, '40s': 49, 'occurs': 3078, 'opinions': 3119, 'shocking': 3940, 'hate': 2046, 'strike': 4224, 'impact': 2244, 'relief': 3605, 'existent': 1572, 'tons': 4520, 'plus': 3311, 'technical': 4381, 'bullets': 621, 'magazine': 2701, 'fire': 1734, 'aliens': 184, 'junk': 2436, 'wasted': 4809, 'precious': 3366, 'nyc': 3065, 'sunshine': 4294, 'expect': 1575, 'mainly': 2708, 'boot': 538, 'camp': 662, 'returned': 3666, 'paul': 3214, 'command': 897, 'souls': 4080, 'reed': 3580, 'confusion': 943, 'feelings': 1686, 'quirky': 3493, 'touching': 4536, 'sutherland': 4333, 'musicals': 2948, 'bigger': 479, 'francis': 1818, 'albert': 174, 'sinatra': 3989, 'cameos': 658, 'page': 3167, 'rival': 3706, 'broadcast': 591, 'frank': 1821, 'morgan': 2905, 'seven': 3903, 'months': 2897, 'chapter': 757, 'lose': 2654, 'pool': 3327, 'resources': 3651, 'hopes': 2159, 'fortune': 1806, 'players': 3299, 'elizabeth': 1445, 'suspect': 4327, 'victor': 4731, 'seeking': 3859, 'account': 89, 'wilson': 4891, 'grace': 1950, 'mel': 2796, 'mary': 2751, 'household': 2179, 'evening': 1534, 'nominated': 3025, 'union': 4661, 'recording': 3575, 'recorded': 3574, 'chorus': 803, 'broke': 593, 'ranks': 3519, 'record': 3573, 'provided': 3449, 'tommy': 4516, 'closed': 854, 'legend': 2564, 'slasher': 4020, 'sell': 3871, 'cards': 683, 'witty': 4917, 'angel': 231, 'talent': 4354, 'richards': 3687, 'extras': 1608, 'threat': 4467, 'clothes': 860, 'essentially': 1523, 'shower': 3957, 'light': 2595, 'jump': 2429, 'hole': 2132, 'cg': 739, 'amateur': 206, 'million': 2847, 'aired': 165, 'glass': 1917, 'cage': 645, 'poetic': 3313, 'visually': 4758, 'accomplished': 87, 'haunting': 2051, 'intensity': 2317, 'melodramatic': 2798, 'steps': 4177, 'pulls': 3464, 'painfully': 3172, 'understated': 4646, 'tense': 4403, 'diana': 1237, 'lady': 2507, 'magical': 2704, 'crazy': 1035, 'lousy': 2667, 'travel': 4567, 'dumb': 1385, 'campy': 664, 'favor': 1670, 'cheap': 774, 'presumably': 3380, 'revenge': 3675, 'goal': 1925, 'babe': 375, 'corpse': 999, 'princess': 3397, 'suffer': 4275, 'towards': 4540, 'ancient': 225, 'moon': 2900, 'feed': 1683, 'wishes': 4906, 'stephen': 4176, 'gordon': 1940, 'dr': 1340, 'wed': 4835, 'plans': 3292, 'aging': 153, 'providing': 3451, 'merely': 2815, 'carried': 698, 'successfully': 4267, 'rubbish': 3748, 'powerful': 3360, 'uses': 4697, 'monster': 2892, 'mansion': 2731, 'burning': 627, 'satisfying': 3791, 'climax': 849, 'mitchell': 2875, 'guilt': 1994, 'admire': 121, 'ruth': 3763, 'selfish': 3870, 'embarrassing': 1454, 'columbo': 881, 'speech': 4102, 'delivering': 1171, 'pursuit': 3476, 'justice': 2438, 'ms': 2931, 'excessive': 1560, 'vehicle': 4718, 'golden': 1934, 'forces': 1788, 'guide': 1993, 'philosophical': 3253, 'challenge': 743, 'thoughts': 4464, 'mountain': 2917, 'elderly': 1440, 'monk': 2889, 'fantasy': 1652, 'notion': 3050, 'unaware': 4632, 'reveal': 3670, 'destroy': 1213, 'advertising': 132, 'opened': 3113, 'rush': 3759, 'awesome': 371, '3rd': 47, 'lower': 2677, 'prom': 3429, 'dramatic': 1348, 'sappy': 3784, 'immensely': 2243, 'further': 1853, 'plight': 3308, 'holes': 2133, 'victims': 4730, 'floor': 1759, 'drop': 1369, 'occurred': 3077, 'working': 4944, 'fairly': 1631, 'forced': 1787, 'matthew': 2772, 'knife': 2487, 'throws': 4482, 'shadows': 3913, 'mirror': 2861, 'repeated': 3631, 'creator': 1043, 'scares': 3806, 'afraid': 140, 'halfway': 2008, 'disjointed': 1287, 'cutting': 1092, 'moves': 2925, 'catches': 715, 'pack': 3165, 'silver': 3977, 'weekend': 4838, 'bullet': 620, 'sacrifice': 3766, 'locations': 2636, 'explosions': 1597, 'tracy': 4546, 'angels': 234, 'described': 1195, 'andy': 230, 'ticket': 4487, '1972': 18, 'psychotic': 3459, 'clothing': 861, 'styles': 4250, 'fond': 1776, 'aids': 161, 'terrorists': 4414, 'rage': 3505, 'bird': 484, 'computer': 927, 'internet': 2327, 'thief': 4448, 'area': 286, 'event': 1535, 'nostalgic': 3039, 'speaking': 4095, 'effectively': 1430, 'numerous': 3062, 'dramas': 1347, 'realism': 3549, 'load': 2631, 'grade': 1951, 'whilst': 4869, 'ask': 316, 'abc': 63, 'disc': 1278, 'detailed': 1218, 'gags': 1862, 'aimed': 162, 'listening': 2620, 'tricks': 4583, 'nine': 3017, 'heck': 2071, 'button': 639, 'ready': 3546, 'lacked': 2503, 'paltrow': 3178, 'visuals': 4759, 'happening': 2028, 'wouldve': 4959, 'sky': 4017, 'karen': 2444, 'allen': 188, 'spielberg': 4110, 'ignore': 2224, 'critical': 1062, 'succeed': 4262, 'levels': 2585, 'understanding': 4645, 'personally': 3243, 'warning': 4800, 'corner': 996, 'ya': 4976, 'sally': 3776, 'plastic': 3294, 'rooms': 3736, 'abandoned': 62, 'huh': 2187, 'attractive': 351, 'gonna': 1936, 'opening': 3114, 'teen': 4388, 'background': 380, 'punch': 3466, 'match': 2762, 'halloween': 2010, 'makeup': 2717, 'appreciate': 279, 'blah': 496, 'nowadays': 3055, 'step': 4175, '2002': 32, 'coherent': 871, 'brings': 587, 'notch': 3043, 'grew': 1972, 'loving': 2675, 'warming': 4795, 'east': 1407, 'ride': 3692, 'canada': 666, 'stomach': 4196, 'product': 3418, 'signs': 3973, 'national': 2970, 'keaton': 2448, 'travels': 4569, 'fox': 1814, 'field': 1704, 'voices': 4763, 'shadow': 3912, 'lovers': 2673, 'negative': 2991, 'lately': 2524, 'screenwriter': 3833, 'instantly': 2306, 'basic': 406, 'expectations': 1576, 'paint': 3173, 'deserve': 1199, 'study': 4242, 'personalities': 3241, 'pot': 3354, 'nicholson': 3011, 'jeremy': 2394, 'introduce': 2336, 'identify': 2216, 'intentionally': 2320, 'bruce': 602, 'driving': 1368, 'coach': 868, 'tone': 4517, 'ball': 388, 'assault': 324, 'ugly': 4625, 'question': 3487, 'motives': 2916, 'drive': 1363, 'statement': 4162, 'bargain': 400, 'forgive': 1795, 'taste': 4369, 'closer': 856, 'blew': 505, 'bringing': 586, 'types': 4622, 'entertain': 1497, 'sadness': 3770, 'pain': 3170, 'afterwards': 145, 'standards': 4145, 'argue': 290, 'shallow': 3917, 'compelling': 916, 'occasional': 3074, 'worthwhile': 4955, 'sleeping': 4025, 'aid': 160, 'choices': 798, 'cusack': 1088, 'blank': 501, 'russian': 3762, 'pants': 3182, 'twist': 4617, 'bored': 541, 'aint': 163, 'ben': 463, 'oil': 3097, 'deal': 1135, 'cold': 872, '2003': 33, '2004': 34, 'ie': 2221, 'male': 2719, 'spirit': 4113, 'dying': 1393, 'officers': 3093, 'sean': 3840, 'aka': 168, 'partner': 3198, 'troubled': 4593, 'friendship': 1838, 'examples': 1554, 'blowing': 515, 'bedroom': 437, 'alcohol': 176, 'scheme': 3812, 'emotional': 1459, 'baby': 376, 'respected': 3653, 'officer': 3092, 'surrounding': 4319, 'batman': 413, 'robin': 3715, 'realizing': 3555, 'sadly': 3769, 'knowledge': 2491, 'corruption': 1002, 'reached': 3537, 'lucky': 2683, 'former': 1800, 'consider': 949, 'margaret': 2735, 'england': 1482, 'kings': 2481, 'teach': 4374, 'royal': 3746, 'loses': 2657, 'triumph': 4590, 'dignity': 1252, 'cabin': 643, 'won': 4925, 'term': 4405, 'normally': 3034, 'greedy': 1969, 'heat': 2067, 'convinced': 984, 'normal': 3033, 'legs': 2566, 'giant': 1905, 'highlight': 2103, 'creation': 1040, 'size': 4012, 'floating': 1758, 'person': 3238, 'smaller': 4034, 'ground': 1979, 'weight': 4840, 'manage': 2722, 'surreal': 4317, 'breathtaking': 574, 'faces': 1618, 'relatively': 3600, 'settings': 3901, 'existence': 1571, 'dog': 1310, 'rescue': 3643, 'dragon': 1344, 'learning': 2552, 'ok': 3098, 'developed': 1223, 'writers': 4969, 'legendary': 2565, 'jean': 2389, 'historically': 2120, 'accurate': 90, 'succeeds': 4264, 'treatment': 4574, 'sons': 4073, 'urban': 4688, 'hunting': 2201, 'reaching': 3539, 'thomas': 4458, 'burns': 628, 'richard': 3686, 'dangerous': 1110, 'students': 4239, 'ended': 1470, 'beyond': 476, 'rank': 3518, 'intelligence': 2313, '16': 8, 'nicholas': 3010, 'reading': 3544, 'taxi': 4371, 'returns': 3668, 'trapped': 4564, 'snow': 4045, 'storm': 4206, 'rangers': 3517, 'airplane': 166, 'mountains': 2918, 'daring': 1114, 'government': 1948, 'spread': 4133, 'sun': 4292, 'offered': 3088, 'village': 4743, 'magic': 2703, 'ghosts': 1903, 'suspense': 4330, 'build': 614, 'overly': 3155, 'threatening': 4468, 'absurd': 73, 'japanese': 2382, 'ruins': 3752, 'reviewer': 3677, 'understood': 4647, 'tragedy': 4551, 'holding': 2130, 'peace': 3219, 'solution': 4059, 'sides': 3967, 'justify': 2439, 'strangely': 4212, 'partly': 3197, 'paying': 3217, 'related': 3594, 'sexuality': 3909, 'conclusion': 936, 'inevitable': 2282, 'elm': 1447, 'freddy': 1826, 'grab': 1949, 'survivor': 4324, 'pregnant': 3369, 'slowly': 4032, 'dialogues': 1235, 'reminded': 3619, 'theatre': 4429, 'lisa': 2616, 'shine': 3931, 'pity': 3281, 'imaginative': 2237, 'craven': 1034, 'dreadful': 1353, 'pig': 3274, 'farm': 1656, 'corny': 997, 'soap': 4047, 'box': 555, 'lights': 2597, 'contrived': 976, 'jaws': 2385, 'unintentionally': 4659, 'shouldnt': 3952, 'edition': 1422, 'frame': 1815, 'segment': 3867, 'global': 1920, 'spoilers': 4124, 'ken': 2453, 'medium': 2792, 'potentially': 3356, 'miserably': 2864, 'executed': 1565, 'amongst': 218, 'section': 3853, 'slapstick': 4019, 'door': 1328, 'scientists': 3819, 'flash': 1745, '17': 9, 'sends': 3876, 'died': 1244, 'efforts': 1433, 'jesse': 2397, 'conflict': 939, 'disagree': 1269, 'glenn': 1918, 'adam': 111, 'traditional': 4550, 'discussion': 1284, 'adams': 112, 'frustrated': 1842, 'expected': 1577, 'necessarily': 2983, 'cagney': 646, 'tiresome': 4502, 'involve': 2345, 'winds': 4895, 'anywhere': 263, 'decades': 1145, 'dislike': 1288, 'occasionally': 3075, 'shop': 3945, 'quiet': 3492, 'cheating': 776, 'hill': 2108, 'hugh': 2186, 'cowboy': 1025, 'sympathetic': 4342, 'nearby': 2980, 'indian': 2274, 'accused': 91, 'rape': 3521, 'defend': 1158, 'indians': 2275, 'press': 3379, 'genres': 1889, 'infamous': 2284, 'catherine': 719, 'bobby': 525, 'screens': 3832, 'christmas': 810, 'narrator': 2967, 'caliber': 649, 'neighbors': 2994, 'handled': 2019, 'manager': 2724, 'sam': 3777, 'familys': 1646, 'continue': 969, 'prior': 3400, 'teacher': 4375, 'becoming': 435, 'kate': 2446, 'sir': 4000, 'funnier': 1850, 'lynch': 2691, 'earned': 1401, 'stupidity': 4248, 'atmospheric': 334, 'vision': 4754, 'busy': 635, 'maintain': 2710, 'trust': 4598, 'daddy': 1096, 'wish': 4904, 'innocence': 2293, 'loads': 2633, 'repetitive': 3633, 'serves': 3895, 'favourite': 1673, 'terry': 4415, 'blend': 504, 'hell': 2077, 'ironically': 2356, 'introduced': 2337, 'irritating': 2359, 'moody': 2899, 'hed': 2072, 'laid': 2508, 'eyes': 1613, 'valuable': 4708, 'destroyed': 1214, 'hundreds': 2196, 'books': 536, 'roman': 3731, 'catholic': 720, 'destroying': 1215, 'movement': 2923, 'base': 402, 'claim': 828, 'joseph': 2419, 'heaven': 2068, 'anybody': 257, 'millions': 2848, 'text': 4419, 'discovered': 1280, 'dating': 1120, 'authentic': 358, 'philosophy': 3254, 'blade': 495, 'likely': 2601, 'hippie': 2115, 'exist': 1569, 'jesus': 2399, 'religion': 3607, 'buddy': 609, 'hatred': 2049, 'competition': 918, 'claims': 830, 'bitter': 491, 'struggle': 4234, 'connect': 944, 'videos': 4734, 'weve': 4856, 'trouble': 4592, 'meaningless': 2782, 'forth': 1804, 'roll': 3728, 'danny': 1112, 'glover': 1923, 'sink': 3999, 'teeth': 4393, 'laughs': 2534, 'fooled': 1780, 'die': 1243, 'bbc': 417, 'eve': 1532, 'print': 3399, 'sold': 4052, 'according': 88, 'website': 4834, 'ha': 2002, 'rare': 3523, 'legal': 2563, 'chilling': 794, 'ghost': 1902, 'troubles': 4594, 'lay': 2542, 'mate': 2765, 'pet': 3246, 'creature': 1045, 'treated': 4573, 'spends': 4107, 'jealous': 2388, 'thick': 4447, 'dancer': 1104, 'joy': 2422, 'choreography': 802, 'explosion': 1596, 'dances': 1106, 'genius': 1887, 'artist': 307, 'cox': 1026, 'humour': 2194, 'alfred': 181, 'spider': 4109, 'doc': 1303, 'suggest': 4280, '1950s': 14, 'painted': 3174, 'underground': 4640, 'hanging': 2023, 'march': 2734, '50s': 52, 'suppose': 4305, 'poverty': 3357, 'fill': 1714, 'china': 795, 'da': 1094, 'businessman': 634, 'letter': 2581, 'neighborhood': 2993, 'centers': 734, 'tradition': 4549, 'mentally': 2809, 'bodies': 526, 'progress': 3425, 'letting': 2583, 'enormous': 1490, 'persons': 3244, 'surely': 4309, 'rolling': 3730, 'popcorn': 3331, 'portion': 3338, 'upper': 4685, 'tear': 4379, 'six': 4010, 'sidney': 3968, 'fourth': 1813, 'celebrity': 729, 'jeff': 2390, 'carrying': 701, 'office': 3091, 'interviews': 2330, 'gay': 1876, 'assigned': 325, 'whenever': 4863, 'conversation': 980, 'attempting': 342, 'expensive': 1579, 'attracted': 349, 'wounded': 4961, 'unfunny': 4655, 'insane': 2296, 'incoherent': 2265, 'dialogs': 1233, 'costume': 1005, 'cell': 730, 'guilty': 1995, 'formulaic': 1803, 'inspiration': 2300, 'parody': 3192, 'relies': 3606, 'killings': 2473, 'mouth': 2920, 'tap': 4364, 'quote': 3496, 'degree': 1164, 'detail': 1217, 'cuts': 1091, 'avoided': 364, 'roots': 3738, 'closest': 857, 'woody': 4936, 'tends': 4402, 'lou': 2663, 'root': 3737, 'redemption': 3578, 'fix': 1744, 'anymore': 258, 'breasts': 572, 'indie': 2276, 'scope': 3821, 'imagine': 2238, 'brooks': 596, 'leonard': 2572, 'violent': 4748, 'criminals': 1058, 'roy': 3745, 'credits': 1050, 'notable': 3041, 'kelly': 2452, 'connected': 945, 'ann': 244, 'gripping': 1976, 'elaborate': 1439, 'sets': 3899, 'witness': 4914, 'ease': 1404, 'photographer': 3259, 'dubbed': 1379, 'hearing': 2063, 'juvenile': 2441, 'monsters': 2893, 'formula': 1802, 'advanced': 128, 'worlds': 4947, 'battles': 415, 'cave': 727, 'rubber': 3747, 'suits': 4287, 'raw': 3532, 'lion': 2614, 'creatures': 1046, 'queen': 3485, 'description': 1197, 'emily': 1456, 'blunt': 520, 'victoria': 4732, '1st': 28, 'prince': 3396, 'atrocious': 335, 'improvement': 2256, 'meat': 2787, 'hammer': 2014, 'unbelievable': 4634, 'arms': 294, 'add': 115, 'plant': 3293, 'plausible': 3295, 'unless': 4669, 'tragic': 4552, 'mindless': 2851, 'vampires': 4712, 'derek': 1192, 'vampire': 4711, '14': 6, 'bright': 581, 'mexico': 2827, 'wow': 4962, 'attraction': 350, 'werewolf': 4850, 'lit': 2621, 'uneven': 4649, 'cliche': 843, 'ridden': 3691, 'extreme': 1609, 'ups': 4686, 'soft': 4051, 'core': 995, 'dropping': 1371, '30': 42, 'horrid': 2165, 'breath': 573, 'fresh': 1833, 'farce': 1654, 'smile': 4036, 'doll': 1313, 'sitting': 4007, 'reads': 3545, 'newspaper': 3006, 'dolls': 1316, 'ensues': 1493, 'hated': 2047, 'grave': 1962, 'hundred': 2195, 'logic': 2638, 'colors': 879, 'nude': 3058, 'che': 773, 'implausible': 2245, 'daughters': 1122, 'panic': 3181, 'brothers': 599, 'finding': 1727, 'everyday': 1541, 'composed': 926, 'official': 3094, 'illegal': 2229, 'dvds': 1392, 'theaters': 4428, 'writes': 4970, 'regular': 3592, 'demon': 1177, 'expression': 1602, 'japan': 2381, 'demons': 1178, 'forms': 1801, 'stands': 4147, 'accidentally': 85, 'till': 4493, 'dawn': 1127, 'fate': 1665, 'enemies': 1476, 'green': 1971, 'faults': 1669, 'thrillers': 4473, 'brian': 576, 'directs': 1267, 'strictly': 4223, 'visits': 4756, 'witch': 4909, 'drag': 1342, 'lifestyle': 2593, 'concerning': 933, 'hop': 2154, 'stated': 4161, 'grim': 1974, 'capture': 676, 'warmth': 4796, 'depressing': 1188, 'los': 2653, 'colour': 880, 'ridiculously': 3694, 'empathy': 1462, 'workers': 4943, 'grow': 1982, 'spain': 4091, 'draw': 1349, 'trap': 4563, 'purely': 3472, 'tied': 4489, 'slaughter': 4021, 'waited': 4771, 'structure': 4233, 'listed': 2618, 'ballet': 389, '25': 40, 'teenage': 4389, 'purchased': 3470, 'sharp': 3922, 'contrast': 975, 'laughter': 2535, 'quick': 3490, 'cry': 1073, 'growing': 1983, 'bore': 540, 'south': 4087, 'candy': 668, 'susan': 4326, 'peters': 3248, 'skip': 4016, 'widmark': 4882, 'petty': 3249, 'seasons': 3844, 'paranoia': 3186, 'skin': 4015, 'struggling': 4236, 'immediately': 2242, 'brando': 566, 'pacino': 3164, 'delivers': 1172, 'tarzan': 4367, 'jungle': 2434, 'civilization': 827, 'ape': 266, 'dragged': 1343, 'blatant': 502, 'racism': 3502, 'cares': 690, 'lengthy': 2570, 'swim': 4337, 'outfit': 3144, 'everybody': 1540, 'helen': 2075, 'curious': 1083, 'reduced': 3579, 'noise': 3024, 'bomb': 531, 'intimate': 2331, 'stronger': 4230, 'building': 615, 'facts': 1624, 'soldier': 4053, 'curiosity': 1082, 'correct': 1000, 'chicks': 787, 'stale': 4141, 'couples': 1017, 'actresses': 106, 'saturday': 3792, 'molly': 2884, 'rob': 3710, 'developing': 1224, 'cable': 644, 'amount': 219, 'opens': 3115, 'beaten': 424, 'shake': 3914, 'versions': 4721, 'link': 2613, 'proved': 3446, 'mentioning': 2812, 'birth': 486, 'fell': 1690, 'performing': 3233, 'luke': 2687, 'portrays': 3344, 'adding': 117, 'reunion': 3669, 'disgusting': 1286, 'cd': 728, 'sequels': 3886, 'psycho': 3457, 'theyd': 4443, 'stereotypical': 4180, 'wendy': 4846, 'wrapped': 4964, 'frustration': 1843, 'vague': 4705, 'portray': 3340, 'cameo': 657, 'pink': 3277, 'vegas': 4717, 'elvis': 1451, 'fbi': 1675, 'practice': 3363, 'warn': 4797, 'moral': 2902, 'painful': 3171, 'frankly': 1823, 'hitting': 2126, 'seat': 3845, 'suicide': 4283, 'code': 869, 'wore': 4939, 'hall': 2009, 'mood': 2898, 'species': 4098, 'kapoor': 2443, 'plague': 3285, 'mental': 2808, 'health': 2060, 'titles': 4506, 'priceless': 3390, 'opposite': 3123, 'cube': 1076, 'promises': 3432, 'mere': 2814, 'anyways': 262, 'polanski': 3321, 'gradually': 1952, 'latter': 2528, 'opposed': 3122, 'achievement': 94, 'sole': 4055, 'uncomfortable': 4637, 'compelled': 915, 'robot': 3717, 'capital': 673, 'letters': 2582, 'animated': 241, 'wealthy': 4827, 'cats': 721, 'join': 2412, 'party': 3200, 'bone': 533, 'catchy': 717, 'angela': 232, 'countryside': 1015, 'dealing': 1136, 'believes': 456, 'trade': 4547, 'elvira': 1450, 'develops': 1226, 'complicated': 925, 'photographed': 3258, 'disneys': 1290, 'humans': 2190, 'terribly': 4408, 'jason': 2383, 'recognized': 3570, 'thanks': 4423, 'chris': 806, 'transition': 4561, 'techniques': 4384, 'bette': 471, 'davis': 1126, 'accent': 78, 'facial': 1619, 'assumed': 329, 'switch': 4339, 'send': 3875, 'traveling': 4568, 'naturally': 2974, 'errors': 1516, 'exceptionally': 1559, 'target': 4366, 'areas': 287, 'desert': 1198, 'attacks': 339, 'warren': 4801, 'depicted': 1183, 'buildings': 616, 'relation': 3595, 'psychiatrist': 3455, 'colonel': 876, 'driver': 1366, 'hbo': 2055, 'split': 4120, 'images': 2235, 'large': 2517, 'ultra': 4629, 'mexican': 2826, 'accepted': 82, 'van': 4713, 'identity': 2217, 'spoiled': 4122, 'incident': 2260, 'mass': 2753, 'tiny': 4500, 'shocked': 3939, 'deeper': 1155, 'honesty': 2148, 'exception': 1557, 'tim': 4494, 'robbins': 3712, 'matthau': 2771, 'conceived': 929, 'fred': 1825, 'brains': 563, 'drew': 1360, 'twin': 4615, 'stooges': 4200, 'larry': 2520, 'trained': 4557, 'severe': 3906, 'shorts': 3948, 'speaks': 4096, 'post': 3352, '1980s': 21, 'boom': 537, 'note': 3044, 'education': 1424, 'surface': 4310, 'stylish': 4251, 'scared': 3805, 'scare': 3803, 'appearances': 275, 'imagination': 2236, 'warner': 4799, 'attorney': 348, 'holds': 2131, 'obnoxious': 3067, 'clark': 832, 'pat': 3208, '1973': 19, 'sick': 3963, 'twisted': 4618, 'neck': 2985, 'population': 3335, 'doctors': 1305, 'financial': 1725, 'thousand': 4465, 'korean': 2495, 'frequent': 1831, 'september': 3884, 'imagined': 2239, 'ourselves': 3140, 'beach': 419, 'santa': 3783, '2005': 35, 'report': 3635, 'gary': 1873, 'lane': 2515, 'cup': 1080, 'curse': 1086, 'countless': 1012, 'thugs': 4484, 'pile': 3275, 'taught': 4370, 'shelf': 3926, 'web': 4833, 'divorce': 1301, 'talked': 4359, 'hello': 2078, 'florida': 1761, 'pleasant': 3302, 'operation': 3117, 'depiction': 1185, 'teenagers': 4391, 'accident': 84, 'believed': 455, 'stress': 4220, 'understandable': 4644, 'sudden': 4272, 'expert': 1585, 'alcoholic': 177, 'blockbuster': 509, 'covered': 1023, 'ritter': 3705, 'generic': 1885, 'delivered': 1170, 'awfully': 373, 'enters': 1496, 'drinking': 1362, 'welcome': 4842, 'beats': 426, 'rocky': 3723, 'distinct': 1296, 'dolph': 1317, 'cash': 709, 'senseless': 3878, 'sidekick': 3966, 'fear': 1676, 'shirt': 3937, 'wanting': 4790, 'guessed': 1990, 'overlook': 3153, 'idiotic': 2219, 'catching': 716, 'careers': 687, 'survive': 4321, 'lone': 2642, 'saga': 3773, 'kinda': 2477, 'trailers': 4555, 'express': 1600, 'hideous': 2098, 'travesty': 4570, 'crash': 1033, 'murdered': 2940, 'scarecrow': 3804, 'annoyed': 248, 'thirty': 4456, 'bin': 483, 'morris': 2908, 'cost': 1003, 'kingdom': 2480, 'tiger': 4491, 'technically': 4382, '3d': 46, 'dickens': 1240, 'faithful': 1634, 'recall': 3562, 'oliver': 3102, 'dub': 1378, 'stick': 4185, 'wasting': 4810, 'minimum': 2856, 'method': 2824, 'photos': 3261, 'drugs': 1374, 'nose': 3037, 'gruesome': 1986, 'cult': 1077, 'prefer': 3368, 'careful': 688, 'ellen': 1446, 'praise': 3364, 'seek': 3858, 'slightest': 4028, 'walken': 4777, 'stiller': 4189, 'locked': 2637, 'destiny': 1212, 'position': 3345, 'iron': 2354, 'pulling': 3463, 'ashamed': 312, 'wing': 4896, 'corrupt': 1001, 'scale': 3802, 'paris': 3189, 'morality': 2903, 'hamlet': 2013, 'youth': 4994, 'graphic': 1958, 'sensitive': 3879, 'ham': 2011, 'timeless': 4496, 'carol': 693, 'headed': 2058, 'stolen': 4195, 'nancy': 2964, 'troops': 4591, 'tunes': 4603, 'involvement': 2347, 'matches': 2764, 'satan': 3787, '80': 58, '35': 45, 'teaching': 4377, 'piano': 3264, 'western': 4853, 'westerns': 4854, 'murders': 2943, 'brutal': 603, 'excuse': 1564, 'rogers': 3725, 'inane': 2258, 'discovers': 1281, 'prisoners': 3403, 'moore': 2901, 'liking': 2604, 'neat': 2982, 'resulting': 3661, 'raised': 3508, 'associated': 327, 'matt': 2768, 'prize': 3405, 'hopper': 2161, 'texas': 4418, 'massacre': 2754, 'brad': 560, 'crappy': 1032, 'sandra': 3782, 'appearing': 277, 'georges': 1894, 'kung': 2498, 'fu': 1844, 'sounded': 4082, 'source': 4086, 'department': 1182, 'decade': 1144, 'von': 4765, 'gentle': 1890, 'allows': 192, 'sophisticated': 4075, 'mixture': 2878, 'unable': 4631, 'italy': 2368, 'turkey': 4604, 'visit': 4755, 'remains': 3611, 'focused': 1767, 'demands': 1175, 'duo': 1386, 'border': 539, 'beliefs': 452, 'surrounded': 4318, 'carefully': 689, 'brilliantly': 584, 'renting': 3629, 'reporter': 3636, 'francisco': 1819, 'united': 4664, 'nations': 2971, 'feminist': 1695, 'powell': 3358, 'heavily': 2069, 'edited': 1420, 'sleazy': 4023, 'midnight': 2834, 'entry': 1504, 'interview': 2329, 'christ': 807, 'regret': 3591, 'vote': 4766, 'brazil': 568, 'offensive': 3086, 'walked': 4776, 'drivel': 1364, 'smooth': 4041, 'quit': 3494, 'chases': 771, 'considerable': 950, 'narrative': 2966, 'proceedings': 3410, 'bang': 393, 'mafia': 2700, 'loyal': 2679, 'pal': 3177, 'ruthless': 3764, 'sexually': 3910, 'abusive': 75, 'neighbor': 2992, 'stops': 4203, 'supposedly': 4307, 'swedish': 4335, 'easier': 1405, 'portrait': 3339, '20th': 38, 'enjoying': 1487, 'afternoon': 144, 'occasion': 3073, 'amounts': 220, 'splatter': 4118, 'shock': 3938, 'opportunities': 3120, 'foster': 1809, 'remarkably': 3614, 'valley': 4707, 'decisions': 1152, 'consequences': 947, 'groups': 1981, 'hearted': 2065, 'broken': 594, 'vulnerable': 4768, 'fatal': 1664, 'gritty': 1977, 'unpredictable': 4675, 'suggests': 4282, '60s': 54, 'mike': 2838, 'shy': 3962, 'del': 1165, 'dancers': 1105, 'semi': 3874, 'experiences': 1582, 'polished': 3323, 'circle': 821, 'provides': 3450, 'hang': 2022, 'desired': 1206, 'explored': 1595, 'serve': 3893, 'adequate': 120, 'deliberately': 1166, 'memory': 2804, 'suitable': 4285, 'lacking': 2504, 'marty': 2749, 'thankfully': 4422, 'preview': 3386, 'kidding': 2465, 'arrives': 302, 'nightmares': 3015, 'omen': 3104, 'devil': 1228, 'possessed': 3347, 'vacation': 4704, 'tracks': 4545, 'strikes': 4225, 'struck': 4232, 'borrowed': 545, 'focuses': 1768, 'burn': 625, 'uninspired': 4657, 'decision': 1151, 'continued': 970, 'tedious': 4387, 'revelation': 3674, 'sinister': 3998, 'hamilton': 2012, 'literature': 2623, 'poem': 3312, 'believing': 457, 'caring': 691, 'nazi': 2977, 'kudos': 2497, 'amazed': 208, 'surfing': 4311, 'waves': 4819, 'wave': 4818, 'sports': 4130, 'restored': 3659, 'swimming': 4338, 'unit': 4663, 'africa': 141, 'complain': 919, 'willing': 4889, 'gene': 1879, 'beings': 449, 'virgin': 4749, 'university': 4667, 'nights': 3016, 'guts': 1999, 'chuck': 812, 'combined': 885, 'steve': 4181, 'driven': 1365, 'arthur': 305, 'drunken': 1376, 'risk': 3704, 'losing': 2658, 'johnson': 2411, 'grandmother': 1955, 'linda': 2609, 'tie': 4488, 'devoted': 1231, 'motivation': 2914, 'ralph': 3510, 'fly': 1763, 'inevitably': 2283, 'notes': 3046, 'captured': 677, 'essence': 1521, 'wrap': 4963, 'lloyd': 2630, 'adventures': 131, 'heads': 2059, 'gain': 1863, 'apparent': 269, 'unbearable': 4633, 'pointed': 3317, 'inspiring': 2302, 'provoking': 3452, 'forever': 1792, 'patient': 3211, 'cheese': 780, 'ripped': 3701, 'channels': 754, 'nonetheless': 3029, 'depicts': 1186, 'elsewhere': 1449, '50': 51, 'bell': 458, 'hung': 2197, 'solve': 4060, 'luckily': 2682, 'showdown': 3955, 'consists': 955, 'hollywoods': 2138, 'river': 3707, 'sea': 3838, 'samurai': 3779, 'hollow': 2135, 'bull': 619, 'hunt': 2198, 'needless': 2989, 'theyve': 4446, 'irony': 2357, 'imitation': 2241, '70s': 56, 'concern': 931, 'chase': 769, 'toys': 4543, 'julia': 2427, 'winters': 4901, 'prostitute': 3440, 'madonna': 2699, 'cia': 814, 'chick': 786, 'ass': 323, 'iraq': 2351, 'mst3k': 2932, 'vaguely': 4706, 'receive': 3563, 'shed': 3924, 'mtv': 2933, 'generous': 1886, 'beating': 425, 'illness': 2230, 'tame': 4363, 'explains': 1589, 'homer': 2144, 'arrogant': 303, 'centered': 733, 'jerk': 2395, 'construction': 960, 'messed': 2821, 'hey': 2095, 'lazy': 2543, 'jazz': 2387, 'available': 361, 'sincere': 3991, 'pushed': 3478, 'louise': 2666, 'jumps': 2432, 'contest': 967, 'hitchcock': 2123, 'image': 2233, 'murderous': 2942, 'ties': 4490, 'vice': 4727, 'harvey': 2042, 'larger': 2519, 'latin': 2527, 'improve': 2254, 'exists': 1573, 'laws': 2540, 'danes': 1108, 'methods': 2825, 'disturbed': 1299, 'torn': 4528, 'russell': 3761, 'educational': 1425, 'unintentional': 4658, 'smoke': 4039, 'solely': 4056, 'integrity': 2311, 'loud': 2664, 'anger': 235, 'kevin': 2457, 'typically': 4624, 'toy': 4542, 'campbell': 663, 'granted': 1957, 'narration': 2965, 'subtitles': 4259, 'produced': 3414, 'terror': 4412, 'survival': 4320, 'junior': 2435, 'wrestling': 4966, 'doors': 1329, 'spooky': 4128, 'makers': 2715, 'convincingly': 986, 'turning': 4608, 'remarks': 3615, '1996': 26, 'rick': 3689, 'discover': 1279, 'chances': 748, 'prime': 3395, 'summary': 4290, 'majority': 2712, 'macy': 2695, 'flawed': 1750, 'protagonists': 3442, 'increasingly': 2268, 'strongly': 4231, 'sarah': 3785, 'abilities': 64, 'offering': 3089, 'characterization': 759, 'established': 1524, 'stevens': 4183, 'shining': 3933, 'widow': 4883, 'revolutionary': 3681, 'villain': 4744, 'stranger': 4213, 'holiday': 2134, 'blues': 519, 'mrs': 2930, 'richardson': 3688, 'shut': 3961, 'rachel': 3500, 'joined': 2413, 'miles': 2843, 'transformation': 4560, 'donald': 1321, 'scrooge': 3837, 'anime': 243, 'creators': 1044, 'beloved': 461, 'ship': 3934, 'mario': 2738, 'invisible': 2344, 'brown': 601, 'defeat': 1157, 'alien': 183, 'tune': 4602, 'massive': 2756, 'staring': 4152, 'kick': 2460, 'domino': 1319, 'parent': 3187, 'eaten': 1412, 'versus': 4722, 'landscapes': 2514, 'capturing': 679, 'glory': 1922, 'trite': 4589, 'masterful': 2758, 'unseen': 4678, 'relative': 3599, 'fears': 1677, 'attacked': 338, 'arrested': 298, 'escaped': 1518, 'captivating': 675, 'documentaries': 1306, 'guard': 1988, 'hank': 2024, 'passes': 3203, 'cared': 685, 'un': 4630, 'intrigued': 2334, 'cannibal': 669, 'removed': 3624, 'soviet': 4089, 'staying': 4168, 'political': 3324, 'funeral': 1849, 'banned': 395, 'nation': 2969, 'revolution': 3680, 'stargate': 4151, 'pushing': 3479, 'scripts': 3836, 'sits': 4006, 'demented': 1176, 'duty': 1390, 'drags': 1345, 'wacky': 4769, 'bus': 631, 'clues': 865, 'builds': 617, 'pearl': 3220, 'bear': 420, 'ambitious': 211, 'satisfy': 3790, 'hardcore': 2034, 'introduction': 2339, 'hitler': 2124, 'passionate': 3206, 'journalist': 2420, 'superficial': 4298, 'thousands': 4466, 'mysteries': 2954, '1968': 16, 'responsibility': 3655, 'orders': 3127, 'justin': 2440, 'louis': 2665, 'atlantis': 332, 'empire': 1464, 'pleased': 3305, 'spots': 4132, 'transfer': 4559, 'whereas': 4865, 'remind': 3618, 'handle': 2018, 'horses': 2171, 'scripted': 3835, 'aunt': 355, 'edward': 1426, 'complaint': 920, 'armed': 293, 'robbery': 3711, 'purple': 3473, 'rain': 3506, 'eighties': 1437, 'emma': 1457, 'sentimental': 3882, 'commercials': 903, 'segments': 3868, 'childrens': 793, 'stones': 4198, 'contract': 973, 'claimed': 829, 'requires': 3642, 'todd': 4510, 'horse': 2170, 'behave': 445, 'inappropriate': 2259, 'incompetent': 2266, 'comedian': 887, 'chaplin': 756, 'marie': 2737, 'waters': 4817, 'tribute': 4581, 'museum': 2945, 'unconvincing': 4638, 'williams': 4888, 'device': 1227, 'pretend': 3381, 'miike': 2837, 'photography': 3260, 'pseudo': 3454, 'grasp': 1960, 'slick': 4026, 'gods': 1928, 'freak': 1824, 'bath': 411, 'orson': 3132, 'welles': 4844, 'saves': 3796, 'ireland': 2352, 'defense': 1159, 'agrees': 157, 'tend': 4400, 'skill': 4013, 'heights': 2073, 'backdrop': 379, 'basement': 405, 'investigate': 2342, 'influenced': 2287, 'caused': 724, 'raped': 3522, 'jail': 2376, 'captures': 678, 'painting': 3175, 'security': 3854, 'sue': 4274, 'punishment': 3467, 'awake': 365, 'max': 2774, 'vincent': 4746, 'mars': 2746, 'reasonable': 3558, 'ingredients': 2289, 'exercise': 1568, 'obscure': 3068, 'motivations': 2915, 'hints': 2113, 'solo': 4058, 'nuclear': 3057, 'urge': 4689, 'eva': 1531, 'fisher': 1739, 'noted': 3045, 'ah': 158, 'kim': 2475, 'emotionally': 1460, 'horribly': 2164, 'staged': 4140, 'li': 2587, 'cardboard': 682, 'selling': 3873, 'charisma': 762, 'impress': 2250, 'trademark': 4548, 'womans': 4922, 'clumsy': 866, 'focusing': 1769, 'dust': 1388, 'novels': 3053, 'despair': 1207, 'lonely': 2643, 'charlotte': 766, 'counter': 1011, 'doomed': 1327, 'st': 4137, 'unforgettable': 4652, 'devils': 1229, 'concert': 935, 'menace': 2806, '18': 10, 'jay': 2386, 'survivors': 4325, 'trashy': 4566, 'wes': 4851, 'miscast': 2862, 'carpenter': 694, 'inept': 2281, 'finale': 1723, 'buried': 624, 'below': 462, 'worthless': 4954, 'genuinely': 1892, 'mainstream': 2709, 'matched': 2763, 'psychic': 3456, 'bite': 489, 'coffee': 870, 'chest': 784, 'displays': 1293, 'performs': 3234, 'productions': 3420, 'card': 681, 'celluloid': 731, 'dozen': 1338, 'contrary': 974, 'pretending': 3382, 'females': 1694, 'heroine': 2091, 'marks': 2742, '2nd': 41, 'trial': 4580, 'newly': 3004, 'authority': 360, 'greed': 1968, 'maggie': 2702, 'represent': 3637, 'fever': 1699, 'illogical': 2231, 'rats': 3531, 'virus': 4752, 'idiots': 2220, 'blacks': 494, 'jackson': 2375, 'pacing': 3163, 'miserable': 2863, 'wandering': 4785, 'pair': 3176, 'virtually': 4751, 'melodrama': 2797, 'devoid': 1230, 'montage': 2894, 'doom': 1326, 'failure': 1629, 'answers': 252, 'silence': 3974, 'artificial': 306, 'parallel': 3185, 'endless': 1473, 'principal': 3398, 'teens': 4392, 'punk': 3468, 'ramones': 3512, 'joey': 2408, 'wanna': 4786, 'witnessed': 4915, 'outcome': 3142, 'betty': 474, 'douglas': 1334, 'eight': 1436, 'relations': 3596, 'individuals': 2278, 'roberts': 3714, 'unnecessary': 4672, 'cruise': 1071, 'attitudes': 347, 'crafted': 1029, 'bush': 632, 'likewise': 2603, 'nostalgia': 3038, 'album': 175, 'shark': 3921, 'championship': 745, 'womens': 4924, 'sloppy': 4030, 'ashley': 313, 'maria': 2736, 'kurt': 2499, 'allowing': 191, 'month': 2896, 'serving': 3897, 'shell': 3927, 'factory': 1623, 'chaos': 755, 'backgrounds': 381, 'butt': 638, 'madness': 2698, 'multiple': 2936, 'crush': 1072, 'measure': 2786, 'shines': 3932, 'sentence': 3881, 'denzel': 1181, 'user': 4696, 'clint': 850, 'eastwood': 1409, 'helping': 2081, 'thumbs': 4485, 'tea': 4373, 'guest': 1992, 'individual': 2277, 'carter': 703, 'angeles': 233, 'attend': 344, 'unpleasant': 4674, 'lawrence': 2539, 'sandler': 3781, 'cake': 648, 'variety': 4714, 'anderson': 227, 'neil': 2995, 'pilot': 3276, 'talks': 4361, 'safe': 3771, 'june': 2433, 'foul': 1810, '1984': 23, '1980': 20, 'tour': 4538, 'twelve': 4611, '45': 50, 'similarly': 3980, 'hooked': 2153, 'jumped': 2430, 'gift': 1906, 'stinks': 4192, 'comfortable': 892, 'satisfied': 3789, 'masses': 2755, '1933': 12, 'nelson': 2997, 'lewis': 2586, 'edgar': 1417, 'overrated': 3156, 'emphasis': 1463, 'turner': 4607, 'tape': 4365, 'scooby': 3820, 'doo': 1325, 'moronic': 2907, 'realise': 3548, 'kitchen': 2485, 'toilet': 4512, 'promised': 3431, 'striking': 4226, 'brooklyn': 595, 'relatives': 3601, 'wells': 4845, 'primarily': 3393, 'digital': 1251, 'technology': 4385, 'returning': 3667, 'extended': 1604, 'amateurish': 207, 'machines': 2694, 'secondly': 3847, 'tooth': 4524, 'tree': 4576, 'witnesses': 4916, 'forest': 1791, 'merit': 2816, 'spirited': 4114, 'norman': 3035, 'pie': 3271, 'pays': 3218, 'dennis': 1179, 'viewings': 4741, 'sneak': 4043, 'jeffrey': 2391, 'pitt': 3280, 'destruction': 1216, 'simmons': 3981, 'resident': 3647, 'husbands': 2205, 'embarrassment': 1455, 'colorful': 878, 'packed': 3166, 'winter': 4900, 'occur': 3076, 'hal': 2006, 'remote': 3622, 'elephant': 1444, 'savage': 3793, 'wizard': 4919, 'charge': 761, 'australian': 357, 'unoriginal': 4673, 'melting': 2799, 'spirits': 4115, 'suited': 4286, 'physically': 3263, 'gadget': 1860, 'hates': 2048, 'birthday': 487, 'climactic': 848, 'spoken': 4126, 'treats': 4575, 'drives': 1367, 'eric': 1514, 'minimal': 2855, 'cure': 1081, 'dressing': 1359, 'rolled': 3729, 'commit': 904, 'performer': 3231, 'rose': 3739, 'reflection': 3585, 'drawing': 1350, 'explore': 1594, 'raymond': 3534, 'strip': 4228, 'baker': 385, 'horrors': 2169, 'arguably': 289, 'gerard': 1895, 'goldberg': 1933, 'wallace': 4782, 'astaire': 330, 'ginger': 1908, 'featured': 1679, 'taylor': 4372, 'berlin': 467, 'routine': 3743, 'generated': 1882, 'stole': 4194, 'carrie': 697, 'program': 3424, 'ted': 4386, 'stiff': 4187, 'crack': 1027, 'cinderella': 815, 'fairy': 1632, 'map': 2733, 'airport': 167, 'parties': 3196, 'cameras': 660, 'garbo': 1871, 'wear': 4830, 'ordinary': 3128, 'obsession': 3070, 'iran': 2350, 'garden': 1872, 'wholly': 4874, 'absence': 70, 'oscars': 3134, 'nomination': 3026, 'brosnan': 597, 'philip': 3252, 'vast': 4716, 'raising': 3509, 'anne': 246, 'engage': 1479, 'causing': 726, 'proof': 3434, 'slap': 4018, 'served': 3894, 'storytelling': 4209, 'hoffman': 2128, 'terrifying': 4410, 'balls': 390, 'cheated': 775, 'phantom': 3251, 'secretary': 3850, 'worn': 4948, 'stanley': 4148, 'mentions': 2813, 'scientific': 3817, 'sixties': 4011, 'undoubtedly': 4648, 'fame': 1642, 'discovery': 1282, 'false': 1641, 'dinner': 1254, 'property': 3438, 'sum': 4289, 'myers': 2952, 'streisand': 4218, 'manipulative': 2727, 'pops': 3332, 'pride': 3391, 'closely': 855, 'orange': 3125, 'trail': 4553, 'classes': 834, 'laughably': 2531, 'chased': 770, 'cliff': 847, 'confidence': 938, 'task': 4368, 'executive': 1567, 'improved': 2255, 'dentist': 1180, 'cleverly': 842, 'resembles': 3646, 'olivier': 3103, 'uwe': 4703, 'boll': 529, 'nonsensical': 3031, 'copies': 992, 'burned': 626, 'singers': 3994, 'doubts': 1333, 'hyde': 2206, 'competent': 917, 'fest': 1696, 'abysmal': 76, 'rocket': 3721, 'multi': 2935, 'challenging': 744, 'similarities': 3979, 'patrick': 3213, 'sid': 3964, 'tall': 4362, 'afford': 138, 'jumping': 2431, 'seed': 3856, 'fields': 1705, 'khan': 2459, 'crisis': 1060, 'extent': 1605, 'consistently': 954, 'dawson': 1128, 'freeman': 1829, 'thoughtful': 4463, 'pitch': 3279, 'wealth': 4826, 'throwing': 4480, 'soccer': 4048, 'forbidden': 1785, 'bugs': 613, 'rabbit': 3498, 'darker': 1116, 'loser': 2655, 'expressions': 1603, 'judging': 2425, 'sounding': 4083, 'handful': 2017, 'cinemas': 817, 'communist': 907, 'schools': 3814, 'teachers': 4376, 'calm': 655, 'snl': 4044, 'scores': 3823, 'hint': 2112, 'relevant': 3604, 'bible': 477, 'titanic': 4503, 'vicious': 4728, 'metal': 2823, 'kicking': 2462, 'thrill': 4471, 'demand': 1174, 'superman': 4301, 'stilted': 4190, 'ocean': 3079, 'creativity': 1042, 'fascinated': 1657, 'blair': 497, 'row': 3744, 'dig': 1250, 'ruby': 3749, 'fitting': 1742, 'nazis': 2978, 'gas': 1874, 'hilariously': 2107, 'survived': 4322, 'unsettling': 4679, 'diane': 1238, 'hopeless': 2158, 'kicks': 2463, 'erotic': 1515, 'titled': 4505, 'suspects': 4328, 'jaw': 2384, 'subplot': 4255, 'stinker': 4191, 'crocodile': 1065, 'stretch': 4221, 'reaches': 3538, 'flight': 1757, 'gabriel': 1859, 'wreck': 4965, 'movements': 2924, 'constructed': 959, 'lol': 2640, 'politically': 3325, 'deaf': 1134, 'odds': 3082, 'argument': 291, 'draws': 1352, 'ears': 1402, 'prisoner': 3402, 'arrive': 300, 'ninja': 3018, 'cameron': 661, 'bay': 416, 'dave': 1123, 'finger': 1731, 'universe': 4666, 'gray': 1963, 'incomprehensible': 2267, 'elegant': 1441, 'christians': 809, 'interpretation': 2328, 'mayor': 2777, 'perry': 3237, 'mistress': 2874, 'choreographed': 801, 'nuts': 3064, 'pan': 3180, 'topless': 4527, 'fed': 1682, 'carl': 692, 'lucy': 2684, 'buffs': 612, 'murderer': 2941, 'exposed': 1598, 'mill': 2845, 'ned': 2986, 'lily': 2605, 'advance': 127, 'holly': 2136, 'ron': 3734, 'mickey': 2831, 'appreciation': 281, 'tomatoes': 4515, 'caine': 647, 'blake': 498, 'pulp': 3465, 'truck': 4595, 'germans': 1897, 'carrey': 696, 'eager': 1396, 'threw': 4470, 'guarantee': 1987, 'theyll': 4444, 'stanwyck': 4149, 'starred': 4153, 'hunter': 2199, 'deceased': 1146, 'performed': 3230, 'freedom': 1828, 'landscape': 2513, 'shirley': 3936, 'cooper': 990, 'bergman': 466, 'fay': 1674, 'liberal': 2588, 'nervous': 2999, 'pro': 3406, 'apes': 267, 'raise': 3507, 'mechanical': 2788, 'adapted': 114, 'criticism': 1063, 'bollywood': 530, 'visible': 4753, 'pokemon': 3320, 'discuss': 1283, 'exploration': 1593, 'hype': 2207, 'sadistic': 3768, 'haunted': 2050, 'wishing': 4907, 'progresses': 3426, 'broad': 590, 'invasion': 2340, 'beatty': 427, 'voiced': 4762, 'lumet': 2688, 'mall': 2720, 'eccentric': 1414, 'sitcom': 4004, 'comparing': 913, 'awe': 370, 'brutally': 604, 'brilliance': 582, 'showcase': 3954, 'beast': 422, 'estate': 1525, 'closet': 858, 'vengeance': 4719, 'hook': 2152, 'hart': 2041, 'edie': 1419, 'fetched': 1698, 'intrigue': 2333, 'bakshi': 386, 'wwii': 4975, 'advise': 134, 'bettie': 473, 'icon': 2211, 'streep': 4215, 'lemmon': 2567, 'designs': 1204, 'conflicts': 940, 'giallo': 1904, 'endings': 1472, 'complexity': 924, 'bat': 410, 'andrew': 228, 'grinch': 1975, 'dutch': 1389, 'sellers': 3872, 'modesty': 2883, 'engaged': 1480, 'combine': 884, 'depicting': 1184, 'rotten': 3740, 'laurel': 2537, 'hardy': 2037, 'stan': 4142, 'buff': 611, 'childish': 791, 'akshay': 169, 'felix': 1689, 'tad': 4347, 'lyrics': 2692, 'rid': 3690, 'photo': 3257, 'tortured': 4530, 'mildred': 2841, 'simplistic': 3985, 'explicit': 1591, 'flop': 1760, 'dan': 1102, 'shelley': 3928, 'robinson': 3716, 'bela': 450, 'clip': 851, 'karloff': 2445, 'lust': 2689, 'kennedy': 2454, 'witches': 4910, 'paulie': 3215, 'godzilla': 1929, 'instant': 2305, 'gifted': 1907, 'models': 2881, 'furthermore': 1854, 'ships': 3935, 'damon': 1101, 'corporate': 998, 'conservative': 948, 'alert': 178, 'suspicious': 4332, 'flawless': 1751, 'mighty': 2836, 'existed': 1570, '1940s': 13, 'bacall': 377, 'annie': 247, 'inferior': 2285, 'isolated': 2363, 'seeks': 3860, 'kubrick': 2496, 'pamela': 3179, 'lena': 2568, 'blob': 507, 'dracula': 1341, 'influence': 2286, 'der': 1191, 'gender': 1878, 'landing': 2512, 'brenda': 575, 'resist': 3648, 'analysis': 224, 'activities': 102, 'burton': 630, 'consistent': 953, 'porno': 3337, 'wished': 4905, 'falk': 1636, 'heston': 2094, 'barry': 401, 'mann': 2728, 'crucial': 1068, 'robots': 3718, 'franco': 1820, 'frankenstein': 1822, 'rat': 3525, 'snake': 4042, 'carradine': 695, 'kirk': 2482, 'possibilities': 3348, 'facing': 1620, 'seventies': 3904, 'kenneth': 2455, 'creep': 1051, 'patients': 3212, 'gundam': 1997, 'loaded': 2632, 'davies': 1125, 'earl': 1398, 'arrived': 301, 'fury': 1855, 'leo': 2571, 'bud': 607, 'montana': 2895, 'definition': 1163, 'amitabh': 216, 'classical': 836, 'chess': 783}\n"
     ]
    }
   ],
   "source": [
    "print(str(vocabulary))"
   ]
  },
  {
   "cell_type": "markdown",
   "metadata": {},
   "source": [
    "Once you have added the endpoint name to the Lambda function, click on **Save**. Your Lambda function is now up and running. Next we need to create a way for our web app to execute the Lambda function."
   ]
  },
  {
   "cell_type": "markdown",
   "metadata": {},
   "source": [
    "### Setting up API Gateway\n",
    "\n",
    "Now that our Lambda function is set up, it is time to create a new API using API Gateway that will trigger the Lambda function we have just created.\n",
    "\n",
    "Using AWS Console, navigate to **Amazon API Gateway** and then click on **Get started**.\n",
    "\n",
    "On the next page, make sure that **New API** is selected and give the new api a name, for example, `sentiment_analysis_web_app`. Then, click on **Create API**.\n",
    "\n",
    "Now we have created an API, however it doesn't currently do anything. What we want it to do is to trigger the Lambda function that we created earlier.\n",
    "\n",
    "Select the **Actions** dropdown menu and click **Create Method**. A new blank method will be created, select its dropdown menu and select **POST**, then click on the check mark beside it.\n",
    "\n",
    "For the integration point, make sure that **Lambda Function** is selected and click on the **Use Lambda Proxy integration**. This option makes sure that the data that is sent to the API is then sent directly to the Lambda function with no processing. It also means that the return value must be a proper response object as it will also not be processed by API Gateway.\n",
    "\n",
    "Type the name of the Lambda function you created earlier into the **Lambda Function** text entry box and then click on **Save**. Click on **OK** in the pop-up box that then appears, giving permission to API Gateway to invoke the Lambda function you created.\n",
    "\n",
    "The last step in creating the API Gateway is to select the **Actions** dropdown and click on **Deploy API**. You will need to create a new Deployment stage and name it anything you like, for example `prod`.\n",
    "\n",
    "You have now successfully set up a public API to access your SageMaker model. Make sure to copy or write down the URL provided to invoke your newly created public API as this will be needed in the next step. This URL can be found at the top of the page, highlighted in blue next to the text **Invoke URL**."
   ]
  },
  {
   "cell_type": "markdown",
   "metadata": {},
   "source": [
    "## Step 7: Deploying our web app\n",
    "\n",
    "Now that we have a publicly available API, we can start using it in a web app. For our purposes, we have provided a simple static html file which can make use of the public api you created earlier.\n",
    "\n",
    "In the `website` folder there should be a file called `index.html`. Download the file to your computer and open that file up in a text editor of your choice. There should be a line which contains **\\*\\*REPLACE WITH PUBLIC API URL\\*\\***. Replace this string with the url that you wrote down in the last step and then save the file.\n",
    "\n",
    "Now, if you open `index.html` on your local computer, your browser will behave as a local web server and you can use the provided site to interact with your SageMaker model.\n",
    "\n",
    "If you'd like to go further, you can host this html file anywhere you'd like, for example using github or hosting a static site on Amazon's S3. Once you have done this you can share the link with anyone you'd like and have them play with it too!\n",
    "\n",
    "> **Important Note** In order for the web app to communicate with the SageMaker endpoint, the endpoint has to actually be deployed and running. This means that you are paying for it. Make sure that the endpoint is running when you want to use the web app but that you shut it down when you don't need it, otherwise you will end up with a surprisingly large AWS bill."
   ]
  },
  {
   "cell_type": "markdown",
   "metadata": {},
   "source": [
    "### Delete the endpoint\n",
    "\n",
    "Remember to always shut down your endpoint if you are no longer using it. You are charged for the length of time that the endpoint is running so if you forget and leave it on you could end up with an unexpectedly large bill."
   ]
  },
  {
   "cell_type": "code",
   "execution_count": 50,
   "metadata": {},
   "outputs": [
    {
     "name": "stderr",
     "output_type": "stream",
     "text": [
      "INFO:sagemaker:Deleting endpoint with name: xgboost-2019-01-20-15-14-46-694\n"
     ]
    }
   ],
   "source": [
    "xgb_predictor.delete_endpoint()"
   ]
  },
  {
   "cell_type": "markdown",
   "metadata": {},
   "source": [
    "## Optional: Clean up\n",
    "\n",
    "The default notebook instance on SageMaker doesn't have a lot of excess disk space available. As you continue to complete and execute notebooks you will eventually fill up this disk space, leading to errors which can be difficult to diagnose. Once you are completely finished using a notebook it is a good idea to remove the files that you created along the way. Of course, you can do this from the terminal or from the notebook hub if you would like. The cell below contains some commands to clean up the created files from within the notebook."
   ]
  },
  {
   "cell_type": "code",
   "execution_count": 51,
   "metadata": {},
   "outputs": [
    {
     "ename": "OSError",
     "evalue": "[Errno 12] Cannot allocate memory",
     "output_type": "error",
     "traceback": [
      "\u001b[0;31m---------------------------------------------------------------------------\u001b[0m",
      "\u001b[0;31mOSError\u001b[0m                                   Traceback (most recent call last)",
      "\u001b[0;32m<ipython-input-51-2c87d8eefdf2>\u001b[0m in \u001b[0;36m<module>\u001b[0;34m()\u001b[0m\n\u001b[1;32m      1\u001b[0m \u001b[0;31m# First we will remove all of the files contained in the data_dir directory\u001b[0m\u001b[0;34m\u001b[0m\u001b[0;34m\u001b[0m\u001b[0m\n\u001b[0;32m----> 2\u001b[0;31m \u001b[0mget_ipython\u001b[0m\u001b[0;34m(\u001b[0m\u001b[0;34m)\u001b[0m\u001b[0;34m.\u001b[0m\u001b[0msystem\u001b[0m\u001b[0;34m(\u001b[0m\u001b[0;34m'rm $data_dir/*'\u001b[0m\u001b[0;34m)\u001b[0m\u001b[0;34m\u001b[0m\u001b[0m\n\u001b[0m\u001b[1;32m      3\u001b[0m \u001b[0;34m\u001b[0m\u001b[0m\n\u001b[1;32m      4\u001b[0m \u001b[0;31m# And then we delete the directory itself\u001b[0m\u001b[0;34m\u001b[0m\u001b[0;34m\u001b[0m\u001b[0m\n\u001b[1;32m      5\u001b[0m \u001b[0mget_ipython\u001b[0m\u001b[0;34m(\u001b[0m\u001b[0;34m)\u001b[0m\u001b[0;34m.\u001b[0m\u001b[0msystem\u001b[0m\u001b[0;34m(\u001b[0m\u001b[0;34m'rmdir $data_dir'\u001b[0m\u001b[0;34m)\u001b[0m\u001b[0;34m\u001b[0m\u001b[0m\n",
      "\u001b[0;32m~/anaconda3/envs/python3/lib/python3.6/site-packages/IPython/core/interactiveshell.py\u001b[0m in \u001b[0;36msystem_piped\u001b[0;34m(self, cmd)\u001b[0m\n\u001b[1;32m   2259\u001b[0m         \u001b[0;31m# a non-None value would trigger :func:`sys.displayhook` calls.\u001b[0m\u001b[0;34m\u001b[0m\u001b[0;34m\u001b[0m\u001b[0m\n\u001b[1;32m   2260\u001b[0m         \u001b[0;31m# Instead, we store the exit_code in user_ns.\u001b[0m\u001b[0;34m\u001b[0m\u001b[0;34m\u001b[0m\u001b[0m\n\u001b[0;32m-> 2261\u001b[0;31m         \u001b[0mself\u001b[0m\u001b[0;34m.\u001b[0m\u001b[0muser_ns\u001b[0m\u001b[0;34m[\u001b[0m\u001b[0;34m'_exit_code'\u001b[0m\u001b[0;34m]\u001b[0m \u001b[0;34m=\u001b[0m \u001b[0msystem\u001b[0m\u001b[0;34m(\u001b[0m\u001b[0mself\u001b[0m\u001b[0;34m.\u001b[0m\u001b[0mvar_expand\u001b[0m\u001b[0;34m(\u001b[0m\u001b[0mcmd\u001b[0m\u001b[0;34m,\u001b[0m \u001b[0mdepth\u001b[0m\u001b[0;34m=\u001b[0m\u001b[0;36m1\u001b[0m\u001b[0;34m)\u001b[0m\u001b[0;34m)\u001b[0m\u001b[0;34m\u001b[0m\u001b[0m\n\u001b[0m\u001b[1;32m   2262\u001b[0m \u001b[0;34m\u001b[0m\u001b[0m\n\u001b[1;32m   2263\u001b[0m     \u001b[0;32mdef\u001b[0m \u001b[0msystem_raw\u001b[0m\u001b[0;34m(\u001b[0m\u001b[0mself\u001b[0m\u001b[0;34m,\u001b[0m \u001b[0mcmd\u001b[0m\u001b[0;34m)\u001b[0m\u001b[0;34m:\u001b[0m\u001b[0;34m\u001b[0m\u001b[0m\n",
      "\u001b[0;32m~/anaconda3/envs/python3/lib/python3.6/site-packages/IPython/utils/_process_posix.py\u001b[0m in \u001b[0;36msystem\u001b[0;34m(self, cmd)\u001b[0m\n\u001b[1;32m    154\u001b[0m                 \u001b[0mchild\u001b[0m \u001b[0;34m=\u001b[0m \u001b[0mpexpect\u001b[0m\u001b[0;34m.\u001b[0m\u001b[0mspawnb\u001b[0m\u001b[0;34m(\u001b[0m\u001b[0mself\u001b[0m\u001b[0;34m.\u001b[0m\u001b[0msh\u001b[0m\u001b[0;34m,\u001b[0m \u001b[0margs\u001b[0m\u001b[0;34m=\u001b[0m\u001b[0;34m[\u001b[0m\u001b[0;34m'-c'\u001b[0m\u001b[0;34m,\u001b[0m \u001b[0mcmd\u001b[0m\u001b[0;34m]\u001b[0m\u001b[0;34m)\u001b[0m \u001b[0;31m# Pexpect-U\u001b[0m\u001b[0;34m\u001b[0m\u001b[0m\n\u001b[1;32m    155\u001b[0m             \u001b[0;32melse\u001b[0m\u001b[0;34m:\u001b[0m\u001b[0;34m\u001b[0m\u001b[0m\n\u001b[0;32m--> 156\u001b[0;31m                 \u001b[0mchild\u001b[0m \u001b[0;34m=\u001b[0m \u001b[0mpexpect\u001b[0m\u001b[0;34m.\u001b[0m\u001b[0mspawn\u001b[0m\u001b[0;34m(\u001b[0m\u001b[0mself\u001b[0m\u001b[0;34m.\u001b[0m\u001b[0msh\u001b[0m\u001b[0;34m,\u001b[0m \u001b[0margs\u001b[0m\u001b[0;34m=\u001b[0m\u001b[0;34m[\u001b[0m\u001b[0;34m'-c'\u001b[0m\u001b[0;34m,\u001b[0m \u001b[0mcmd\u001b[0m\u001b[0;34m]\u001b[0m\u001b[0;34m)\u001b[0m  \u001b[0;31m# Vanilla Pexpect\u001b[0m\u001b[0;34m\u001b[0m\u001b[0m\n\u001b[0m\u001b[1;32m    157\u001b[0m             \u001b[0mflush\u001b[0m \u001b[0;34m=\u001b[0m \u001b[0msys\u001b[0m\u001b[0;34m.\u001b[0m\u001b[0mstdout\u001b[0m\u001b[0;34m.\u001b[0m\u001b[0mflush\u001b[0m\u001b[0;34m\u001b[0m\u001b[0m\n\u001b[1;32m    158\u001b[0m             \u001b[0;32mwhile\u001b[0m \u001b[0;32mTrue\u001b[0m\u001b[0;34m:\u001b[0m\u001b[0;34m\u001b[0m\u001b[0m\n",
      "\u001b[0;32m~/anaconda3/envs/python3/lib/python3.6/site-packages/pexpect/pty_spawn.py\u001b[0m in \u001b[0;36m__init__\u001b[0;34m(self, command, args, timeout, maxread, searchwindowsize, logfile, cwd, env, ignore_sighup, echo, preexec_fn, encoding, codec_errors, dimensions, use_poll)\u001b[0m\n\u001b[1;32m    202\u001b[0m             \u001b[0mself\u001b[0m\u001b[0;34m.\u001b[0m\u001b[0mname\u001b[0m \u001b[0;34m=\u001b[0m \u001b[0;34m'<pexpect factory incomplete>'\u001b[0m\u001b[0;34m\u001b[0m\u001b[0m\n\u001b[1;32m    203\u001b[0m         \u001b[0;32melse\u001b[0m\u001b[0;34m:\u001b[0m\u001b[0;34m\u001b[0m\u001b[0m\n\u001b[0;32m--> 204\u001b[0;31m             \u001b[0mself\u001b[0m\u001b[0;34m.\u001b[0m\u001b[0m_spawn\u001b[0m\u001b[0;34m(\u001b[0m\u001b[0mcommand\u001b[0m\u001b[0;34m,\u001b[0m \u001b[0margs\u001b[0m\u001b[0;34m,\u001b[0m \u001b[0mpreexec_fn\u001b[0m\u001b[0;34m,\u001b[0m \u001b[0mdimensions\u001b[0m\u001b[0;34m)\u001b[0m\u001b[0;34m\u001b[0m\u001b[0m\n\u001b[0m\u001b[1;32m    205\u001b[0m         \u001b[0mself\u001b[0m\u001b[0;34m.\u001b[0m\u001b[0muse_poll\u001b[0m \u001b[0;34m=\u001b[0m \u001b[0muse_poll\u001b[0m\u001b[0;34m\u001b[0m\u001b[0m\n\u001b[1;32m    206\u001b[0m \u001b[0;34m\u001b[0m\u001b[0m\n",
      "\u001b[0;32m~/anaconda3/envs/python3/lib/python3.6/site-packages/pexpect/pty_spawn.py\u001b[0m in \u001b[0;36m_spawn\u001b[0;34m(self, command, args, preexec_fn, dimensions)\u001b[0m\n\u001b[1;32m    301\u001b[0m \u001b[0;34m\u001b[0m\u001b[0m\n\u001b[1;32m    302\u001b[0m         self.ptyproc = self._spawnpty(self.args, env=self.env,\n\u001b[0;32m--> 303\u001b[0;31m                                      cwd=self.cwd, **kwargs)\n\u001b[0m\u001b[1;32m    304\u001b[0m \u001b[0;34m\u001b[0m\u001b[0m\n\u001b[1;32m    305\u001b[0m         \u001b[0mself\u001b[0m\u001b[0;34m.\u001b[0m\u001b[0mpid\u001b[0m \u001b[0;34m=\u001b[0m \u001b[0mself\u001b[0m\u001b[0;34m.\u001b[0m\u001b[0mptyproc\u001b[0m\u001b[0;34m.\u001b[0m\u001b[0mpid\u001b[0m\u001b[0;34m\u001b[0m\u001b[0m\n",
      "\u001b[0;32m~/anaconda3/envs/python3/lib/python3.6/site-packages/pexpect/pty_spawn.py\u001b[0m in \u001b[0;36m_spawnpty\u001b[0;34m(self, args, **kwargs)\u001b[0m\n\u001b[1;32m    312\u001b[0m     \u001b[0;32mdef\u001b[0m \u001b[0m_spawnpty\u001b[0m\u001b[0;34m(\u001b[0m\u001b[0mself\u001b[0m\u001b[0;34m,\u001b[0m \u001b[0margs\u001b[0m\u001b[0;34m,\u001b[0m \u001b[0;34m**\u001b[0m\u001b[0mkwargs\u001b[0m\u001b[0;34m)\u001b[0m\u001b[0;34m:\u001b[0m\u001b[0;34m\u001b[0m\u001b[0m\n\u001b[1;32m    313\u001b[0m         \u001b[0;34m'''Spawn a pty and return an instance of PtyProcess.'''\u001b[0m\u001b[0;34m\u001b[0m\u001b[0m\n\u001b[0;32m--> 314\u001b[0;31m         \u001b[0;32mreturn\u001b[0m \u001b[0mptyprocess\u001b[0m\u001b[0;34m.\u001b[0m\u001b[0mPtyProcess\u001b[0m\u001b[0;34m.\u001b[0m\u001b[0mspawn\u001b[0m\u001b[0;34m(\u001b[0m\u001b[0margs\u001b[0m\u001b[0;34m,\u001b[0m \u001b[0;34m**\u001b[0m\u001b[0mkwargs\u001b[0m\u001b[0;34m)\u001b[0m\u001b[0;34m\u001b[0m\u001b[0m\n\u001b[0m\u001b[1;32m    315\u001b[0m \u001b[0;34m\u001b[0m\u001b[0m\n\u001b[1;32m    316\u001b[0m     \u001b[0;32mdef\u001b[0m \u001b[0mclose\u001b[0m\u001b[0;34m(\u001b[0m\u001b[0mself\u001b[0m\u001b[0;34m,\u001b[0m \u001b[0mforce\u001b[0m\u001b[0;34m=\u001b[0m\u001b[0;32mTrue\u001b[0m\u001b[0;34m)\u001b[0m\u001b[0;34m:\u001b[0m\u001b[0;34m\u001b[0m\u001b[0m\n",
      "\u001b[0;32m~/anaconda3/envs/python3/lib/python3.6/site-packages/ptyprocess/ptyprocess.py\u001b[0m in \u001b[0;36mspawn\u001b[0;34m(cls, argv, cwd, env, echo, preexec_fn, dimensions)\u001b[0m\n\u001b[1;32m    220\u001b[0m \u001b[0;34m\u001b[0m\u001b[0m\n\u001b[1;32m    221\u001b[0m         \u001b[0;32mif\u001b[0m \u001b[0muse_native_pty_fork\u001b[0m\u001b[0;34m:\u001b[0m\u001b[0;34m\u001b[0m\u001b[0m\n\u001b[0;32m--> 222\u001b[0;31m             \u001b[0mpid\u001b[0m\u001b[0;34m,\u001b[0m \u001b[0mfd\u001b[0m \u001b[0;34m=\u001b[0m \u001b[0mpty\u001b[0m\u001b[0;34m.\u001b[0m\u001b[0mfork\u001b[0m\u001b[0;34m(\u001b[0m\u001b[0;34m)\u001b[0m\u001b[0;34m\u001b[0m\u001b[0m\n\u001b[0m\u001b[1;32m    223\u001b[0m         \u001b[0;32melse\u001b[0m\u001b[0;34m:\u001b[0m\u001b[0;34m\u001b[0m\u001b[0m\n\u001b[1;32m    224\u001b[0m             \u001b[0;31m# Use internal fork_pty, for Solaris\u001b[0m\u001b[0;34m\u001b[0m\u001b[0;34m\u001b[0m\u001b[0m\n",
      "\u001b[0;32m~/anaconda3/envs/python3/lib/python3.6/pty.py\u001b[0m in \u001b[0;36mfork\u001b[0;34m()\u001b[0m\n\u001b[1;32m     95\u001b[0m \u001b[0;34m\u001b[0m\u001b[0m\n\u001b[1;32m     96\u001b[0m     \u001b[0mmaster_fd\u001b[0m\u001b[0;34m,\u001b[0m \u001b[0mslave_fd\u001b[0m \u001b[0;34m=\u001b[0m \u001b[0mopenpty\u001b[0m\u001b[0;34m(\u001b[0m\u001b[0;34m)\u001b[0m\u001b[0;34m\u001b[0m\u001b[0m\n\u001b[0;32m---> 97\u001b[0;31m     \u001b[0mpid\u001b[0m \u001b[0;34m=\u001b[0m \u001b[0mos\u001b[0m\u001b[0;34m.\u001b[0m\u001b[0mfork\u001b[0m\u001b[0;34m(\u001b[0m\u001b[0;34m)\u001b[0m\u001b[0;34m\u001b[0m\u001b[0m\n\u001b[0m\u001b[1;32m     98\u001b[0m     \u001b[0;32mif\u001b[0m \u001b[0mpid\u001b[0m \u001b[0;34m==\u001b[0m \u001b[0mCHILD\u001b[0m\u001b[0;34m:\u001b[0m\u001b[0;34m\u001b[0m\u001b[0m\n\u001b[1;32m     99\u001b[0m         \u001b[0;31m# Establish a new session.\u001b[0m\u001b[0;34m\u001b[0m\u001b[0;34m\u001b[0m\u001b[0m\n",
      "\u001b[0;31mOSError\u001b[0m: [Errno 12] Cannot allocate memory"
     ]
    }
   ],
   "source": [
    "# First we will remove all of the files contained in the data_dir directory\n",
    "!rm $data_dir/*\n",
    "\n",
    "# And then we delete the directory itself\n",
    "!rmdir $data_dir\n",
    "\n",
    "# Similarly we remove the files in the cache_dir directory and the directory itself\n",
    "!rm $cache_dir/*\n",
    "!rmdir $cache_dir"
   ]
  },
  {
   "cell_type": "code",
   "execution_count": null,
   "metadata": {},
   "outputs": [],
   "source": []
  }
 ],
 "metadata": {
  "kernelspec": {
   "display_name": "conda_python3",
   "language": "python",
   "name": "conda_python3"
  },
  "language_info": {
   "codemirror_mode": {
    "name": "ipython",
    "version": 3
   },
   "file_extension": ".py",
   "mimetype": "text/x-python",
   "name": "python",
   "nbconvert_exporter": "python",
   "pygments_lexer": "ipython3",
   "version": "3.6.5"
  }
 },
 "nbformat": 4,
 "nbformat_minor": 2
}
